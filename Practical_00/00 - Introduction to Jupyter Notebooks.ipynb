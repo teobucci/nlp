{
 "cells": [
  {
   "cell_type": "markdown",
   "metadata": {},
   "source": [
    "# Practical Sessions\n",
    "\n",
    "Vincenzo Scotti\n",
    "\n",
    "`vincenzo.scotti@polimi.it`"
   ]
  },
  {
   "cell_type": "markdown",
   "metadata": {},
   "source": [
    "# A (very) brief introduction to jupyter notebooks\n",
    "\n",
    "---\n",
    "\n",
    "You can find many detailed introductions online: e.g. https://realpython.com/jupyter-notebook-introduction/. This introduction is partially taken from there.\n",
    "\n",
    "Official documentation of Jupyter Notebook: https://jupyter-notebook.readthedocs.io/en/stable/\n",
    "\n",
    "---\n",
    "\n",
    "## Pre-requisites\n",
    "\n",
    "It requires that you have `python` installed; in this course we will be using **`python3`**. \n",
    "If you don't have it, please install it; one of the most common distributions is [Anaconda](https://www.anaconda.com/).\n",
    "\n",
    "---\n",
    "\n",
    "## Installation\n",
    "\n",
    "#### Option 1: with the Anaconda distribution (suggested if you don't have python)\n",
    "\n",
    "From [here](https://www.anaconda.com/products/individual) you should be able to download the Anaconda installer (be careful to download the correct installer for your OS).\n",
    "\n",
    "`jupyter notebook` comes preinstalled with the Anaconda python distribution.\n",
    "\n",
    "#### Option 2: using `pip` (if you already have python)\n",
    "\n",
    "Write the following command in the cmd line:\n",
    "```\n",
    "    pip install jupyter\n",
    "```\n",
    "\n",
    "---\n",
    "\n",
    "## Launching the jupyter server\n",
    "\n",
    "#### Option 1 (with Anaconda):\n",
    "\n",
    "- open Anaconda Navigator\n",
    "- Launch `jupyter`\n",
    "\n",
    "#### Option 2:\n",
    "\n",
    "- open terminal\n",
    "- type: `jupyter notebook`\n",
    "\n",
    "Regardless of the chosen option, you will see something like this:\n",
    "<img src=\"images/pic_jupyter_notebook_01.png\">\n",
    "\n",
    "At this point, you are not actually running a Notebook, but instead you are just running the Notebook server! \n",
    "\n",
    "---\n",
    "\n",
    "## Creating a new notebook\n",
    "\n",
    "- click `New`, then `Python 3`, as in the following image\n",
    "<img src=\"images/pic_jupyter_notebook_02.png\">\n",
    "\n",
    "- it will open a new browser tab with an empty notebook that you can start work on.\n",
    "<img src=\"images/pic_jupyter_notebook_03.png\">\n",
    "\n",
    "---\n",
    "\n",
    "## Opening an existing notebook\n",
    "\n",
    "- when you lauch the jupyter server, you might see some existing notebooks, as in the following image\n",
    "<img src=\"images/pic_jupyter_notebook_04.png\">\n",
    "- to open a notebook, just click on it\n",
    "\n",
    "---\n",
    "\n",
    "# Naming\n",
    "\n",
    "To rename the Notebook, just click on the title.\n",
    "You should now see an in-browser dialog titled Rename Notebook that lets you rename it.\n",
    " \n",
    "---\n",
    " \n",
    "# Running Cells\n",
    "\n",
    "A Notebook is made of \"cells\" of code which use the kernel that you chose when you started your Notebook (i.e. Python 3, in this example).\n",
    "In this case, we started the Notebook with Python 3 as kernel, so that means we can write Python code in the code cells."
   ]
  },
  {
   "cell_type": "code",
   "execution_count": 1,
   "metadata": {},
   "outputs": [
    {
     "name": "stdout",
     "output_type": "stream",
     "text": [
      "Welcome to the AI for Security course!\n"
     ]
    }
   ],
   "source": [
    "print(\"Welcome to the AI for Security course!\")"
   ]
  },
  {
   "cell_type": "markdown",
   "metadata": {},
   "source": [
    "To execute a cell, you can just select the cell and click the Run button that is in the row of buttons along the top.\n",
    "\n",
    "If you prefer, you can just press *Shift+Enter*."
   ]
  },
  {
   "cell_type": "markdown",
   "metadata": {},
   "source": [
    "**The order in which you run the code cells is important!**\n",
    "\n",
    "In general, you should always run the cells sequentially, starting from the top.\n",
    "\n",
    "Example:"
   ]
  },
  {
   "cell_type": "code",
   "execution_count": null,
   "metadata": {
    "scrolled": true
   },
   "outputs": [],
   "source": [
    "print(\"Hello world\")"
   ]
  },
  {
   "cell_type": "code",
   "execution_count": null,
   "metadata": {},
   "outputs": [],
   "source": [
    "a = 1\n",
    "b = 2"
   ]
  },
  {
   "cell_type": "code",
   "execution_count": null,
   "metadata": {},
   "outputs": [],
   "source": [
    "print(\"Value of variable a = %d\" % a)\n",
    "print(\"Value of variable b = %d\" % b)"
   ]
  },
  {
   "cell_type": "code",
   "execution_count": null,
   "metadata": {},
   "outputs": [],
   "source": [
    "print(a + b)"
   ]
  },
  {
   "cell_type": "markdown",
   "metadata": {},
   "source": [
    "---\n",
    "\n",
    "# \"Editing mode\" vs. \"browsing mode\"\n",
    "\n",
    "Check the color on the left (and around) the selected cell:\n",
    "\n",
    "- if green, you are in \"editing mode\": what you write will be inserted in the cell, and if you move with the arrow keys you move withing the cell\n",
    "- if blue, you are in \"browsing mode\": you can use more keyboard shortcuts, browse cells, etc.\n",
    "\n",
    "How to move between modes:\n",
    "- \"editing\" -> \"browsing\"\n",
    "    - run the cell (e.g. Shift+Enter)\n",
    "    - press Esc\n",
    "- \"browsing\" -> \"editing\":\n",
    "    - press Enter\n",
    "    - double click with mouse"
   ]
  },
  {
   "cell_type": "markdown",
   "metadata": {},
   "source": [
    "---\n",
    "\n",
    "# Text cells\n",
    "\n",
    "There are two types of cells:\n",
    "- **code**\n",
    "- **markdown** (I will often refer to them as \"text cell\")\n",
    "\n",
    "(actually, there are more but you will just need these two).\n",
    "\n",
    "---\n",
    "\n",
    "# How to add a new cell\n",
    "\n",
    "- with the \"+\" in the row of buttons along the top (adds cell below the current one)\n",
    "- by pressing \"b\" to add a cell below the current cell (if in \"browsing mode\")\n",
    "- by pressing \"a\" to add a cell above the current cell (if in \"browsing mode\")\n",
    "\n",
    "By default, newly created cells are code cells\n",
    "\n",
    "---\n",
    "\n",
    "# Change cell type\n",
    "\n",
    "- by selecting the type in the row of buttons along the top\n",
    "- press \"y\" to convert to code cell (if in \"browsing mode\")\n",
    "- press \"m\" to convert to markdown cell (if in \"browsing mode\")\n",
    "\n",
    "Example:"
   ]
  },
  {
   "cell_type": "code",
   "execution_count": null,
   "metadata": {},
   "outputs": [],
   "source": [
    "print(\"Hello world\")"
   ]
  },
  {
   "cell_type": "markdown",
   "metadata": {},
   "source": [
    "---\n",
    "\n",
    "# Styling Your Text\n",
    "\n",
    "For the text cells, Jupyter Notebook uses Markdown, which is a markup language that is a superset of HTML.\n",
    "Thus, you can use it to style your cells, create headers, etc.\n",
    "\n",
    "---"
   ]
  },
  {
   "cell_type": "markdown",
   "metadata": {},
   "source": [
    "## Headers\n",
    "\n",
    "In Markdown, you write:\n",
    "```\n",
    "# Headers\n",
    "## Header2\n",
    "### Header3\n",
    "#### Header4\n",
    "```\n",
    "\n",
    "And the outcome is:\n",
    "# Headers\n",
    "## Header2\n",
    "### Header3\n",
    "#### Header4\n",
    "\n",
    "---"
   ]
  },
  {
   "cell_type": "markdown",
   "metadata": {},
   "source": [
    "## Creating Lists\n",
    "\n",
    "You can create a list (bullet points) by using dashes, plus signs, or asterisks. \n",
    "\n",
    "An example:\n",
    "\n",
    "```\n",
    "- first element\n",
    "- second element\n",
    "    - inner element\n",
    "- third element\n",
    "```\n",
    "becomes:\n",
    "- first element\n",
    "- second element\n",
    "    - inner element\n",
    "- third element\n",
    "\n",
    "\n",
    "---"
   ]
  },
  {
   "cell_type": "markdown",
   "metadata": {},
   "source": [
    "## Code and Syntax Highlighting\n",
    "\n",
    "To insert a code example that you don’t to actually run, you can use Markdown. \n",
    "For inline code highlighting, just surround the code with backticks (\\`). \n",
    "If you want to insert a block of code, you can use triple backticks and also specify the programming language.\n",
    "\n",
    "An example:\n",
    "\n",
    "```python\n",
    "print(\"Hello world\")\n",
    "```\n",
    "\n",
    "---"
   ]
  },
  {
   "cell_type": "markdown",
   "metadata": {},
   "source": [
    "# Exporting notebooks\n",
    "\n",
    "You can do so by doing *File* -> *Download as* and then choosing the desired format.\n",
    "We usually suggest, depending on your needs, *.ipynb* or *.html*. "
   ]
  },
  {
   "cell_type": "markdown",
   "metadata": {},
   "source": [
    "---"
   ]
  }
 ],
 "metadata": {
  "kernelspec": {
   "display_name": "Python 3 (ipykernel)",
   "language": "python",
   "name": "python3"
  },
  "language_info": {
   "codemirror_mode": {
    "name": "ipython",
    "version": 3
   },
   "file_extension": ".py",
   "mimetype": "text/x-python",
   "name": "python",
   "nbconvert_exporter": "python",
   "pygments_lexer": "ipython3",
   "version": "3.7.13"
  },
  "vscode": {
   "interpreter": {
    "hash": "31f2aee4e71d21fbe5cf8b01ff0e069b9275f58929596ceb00d14d90e3e16cd6"
   }
  }
 },
 "nbformat": 4,
 "nbformat_minor": 4
}

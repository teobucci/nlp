{
 "cells": [
  {
   "attachments": {},
   "cell_type": "markdown",
   "metadata": {
    "id": "auM3jLkGYHk5"
   },
   "source": [
    "# Word Embeddings\n",
    "\n",
    "In this session we will make use of Word2Vec to learn distributed representations of words based on the context within which they appear in sentences. "
   ]
  },
  {
   "attachments": {},
   "cell_type": "markdown",
   "metadata": {
    "id": "DPtKB1FNYHlH"
   },
   "source": [
    "## Learning word embeddings\n",
    "\n",
    "We'll first try to learn word embeddings using the Word2Vec implementation provided by the gensim package. \n",
    "- Information on gensim's word2vec implementation is available here: https://radimrehurek.com/gensim/models/word2vec.html\n",
    "- First install the package using pip:"
   ]
  },
  {
   "cell_type": "code",
   "execution_count": 1,
   "metadata": {
    "colab": {
     "base_uri": "https://localhost:8080/"
    },
    "id": "TmJqt2NRYHlH",
    "outputId": "5d8b4c68-2cff-45a1-a064-05ea7fc0924f"
   },
   "outputs": [],
   "source": [
    "#!pip install --upgrade gensim"
   ]
  },
  {
   "attachments": {},
   "cell_type": "markdown",
   "metadata": {
    "id": "KdrV0qU6YHlH"
   },
   "source": [
    "We will build a Word2Vec embedding using the 20 Newsgroup data:"
   ]
  },
  {
   "cell_type": "code",
   "execution_count": 2,
   "metadata": {
    "id": "v_erNR7XIrDh"
   },
   "outputs": [],
   "source": [
    "from sklearn.datasets import fetch_20newsgroups\n",
    "\n",
    "dataset_train = fetch_20newsgroups(subset='train', remove=('headers', 'footers', 'quotes'))\n",
    "dataset_test = fetch_20newsgroups(subset='test', remove=('headers', 'footers', 'quotes'))"
   ]
  },
  {
   "attachments": {},
   "cell_type": "markdown",
   "metadata": {
    "id": "qTTluJ3TYHlH"
   },
   "source": [
    "In order to train Word2Vec on the data we first need to convert it to the right format. \n",
    "- For training Word2Vec, it is usual to **separate data into individual sentences** and then tokenize those sentences separately\n",
    "- So let's use regular expressions to remove the end-of-line characters from each document and then split the documents into sentences using a regular expression that looks for question marks, exclamation marks, and periods, followed by a space: "
   ]
  },
  {
   "cell_type": "code",
   "execution_count": 3,
   "metadata": {
    "colab": {
     "base_uri": "https://localhost:8080/"
    },
    "id": "_jCPB46UYHlH",
    "outputId": "a39fc6a4-ce0e-4528-9068-37d6cfa7d0e0"
   },
   "outputs": [
    {
     "data": {
      "text/plain": [
       "[['I was wondering if anyone out there could enlighten me on this car I saw the other day',\n",
       "  'It was a 2-door sports car, looked to be from the late 60s/ early 70s',\n",
       "  'It was called a Bricklin',\n",
       "  'The doors were really small',\n",
       "  'In addition, the front bumper was separate from the rest of the body',\n",
       "  'This is  all I know',\n",
       "  'If anyone can tellme a model name, engine specs, years of production, where this car is made, history, or whatever info you have on this funky looking car, please e-mail.'],\n",
       " ['A fair number of brave souls who upgraded their SI clock oscillator have shared their experiences for this poll',\n",
       "  'Please send a brief message detailing your experiences with the procedure',\n",
       "  'Top speed attained, CPU rated speed, add on cards and adapters, heat sinks, hour of usage per day, floppy disk functionality with 800 and 1.4 m floppies are especially requested',\n",
       "  \" I will be summarizing in the next two days, so please add to the network knowledge base if you have done the clock upgrade and haven't answered this poll\",\n",
       "  'Thanks.'],\n",
       " ['well folks, my mac plus finally gave up the ghost this weekend after starting life as a 512k way back in 1985',\n",
       "  \" sooo, i'm in the market for a new machine a bit sooner than i intended to be..\",\n",
       "  \" i'm looking into picking up a powerbook 160 or maybe 180 and have a bunch of questions that (hopefully) somebody can answer:  * does anybody know any dirt on when the next round of powerbook introductions are expected\",\n",
       "  ' i\\'d heard the 185c was supposed to make an appearence \"this summer\" but haven\\'t heard anymore on it - and since i don\\'t have access to macleak, i was wondering if anybody out there had more info..',\n",
       "  \" * has anybody heard rumors about price drops to the powerbook line like the ones the duo's just went through recently\",\n",
       "  \" * what's the impression of the display on the 180\",\n",
       "  ' i could probably swing a 180 if i got the 80Mb disk rather than the 120, but i don\\'t really have a feel for how much \"better\" the display is (yea, it looks great in the store, but is that all \"wow\" or is it really that good?)',\n",
       "  ' could i solicit some opinions of people who use the 160 and 180 day-to-day on if its worth taking the disk size and money hit to get the active display',\n",
       "  \" (i realize this is a real subjective question, but i've only played around with the machines in a computer store breifly and figured the opinions of somebody who actually uses the machine daily might prove helpful)\",\n",
       "  ' * how well does hellcats perform',\n",
       "  \" ;)  thanks a bunch in advance for any info - if you could email, i'll post a summary (news reading time is at a premium with finals just around the corner..\",\n",
       "  ':( ) -- Tom Willis  \\\\      \\\\    Purdue Electrical Engineering']]"
      ]
     },
     "execution_count": 3,
     "metadata": {},
     "output_type": "execute_result"
    }
   ],
   "source": [
    "import re\n",
    "\n",
    "# remove newline characters\n",
    "docs = [re.sub('\\n', ' ', doc) for doc in dataset_train.data]\n",
    "# remove email addresses\n",
    "docs = [re.sub('[a-zA-Z0-9._%+-]+@[a-zA-Z0-9.-]+\\.[a-zA-Z]{2,}', '', doc) for doc in docs]\n",
    "# split sentences \n",
    "sentences = [re.split('[?!.]\\s', doc) for doc in docs]\n",
    "sentences[:3]"
   ]
  },
  {
   "attachments": {},
   "cell_type": "markdown",
   "metadata": {
    "id": "FIucFhmVYHlI"
   },
   "source": [
    "Above, we've printed out the first two documents, which have been split into arrays of sentences. \n",
    "- We'll need to flatten the structure into one big array of sentences (remove the distinction between documents) before providing it to Word2Vec. \n",
    "- We can do that using the flatten command from the pandas library:"
   ]
  },
  {
   "cell_type": "code",
   "execution_count": 4,
   "metadata": {
    "colab": {
     "base_uri": "https://localhost:8080/"
    },
    "id": "HB2YTCX1YHlI",
    "outputId": "1615ba26-f148-443a-e41f-e917cd30dfe1"
   },
   "outputs": [
    {
     "data": {
      "text/plain": [
       "['I was wondering if anyone out there could enlighten me on this car I saw the other day',\n",
       " 'It was a 2-door sports car, looked to be from the late 60s/ early 70s',\n",
       " 'It was called a Bricklin',\n",
       " 'The doors were really small',\n",
       " 'In addition, the front bumper was separate from the rest of the body',\n",
       " 'This is  all I know',\n",
       " 'If anyone can tellme a model name, engine specs, years of production, where this car is made, history, or whatever info you have on this funky looking car, please e-mail.',\n",
       " 'A fair number of brave souls who upgraded their SI clock oscillator have shared their experiences for this poll',\n",
       " 'Please send a brief message detailing your experiences with the procedure',\n",
       " 'Top speed attained, CPU rated speed, add on cards and adapters, heat sinks, hour of usage per day, floppy disk functionality with 800 and 1.4 m floppies are especially requested',\n",
       " \" I will be summarizing in the next two days, so please add to the network knowledge base if you have done the clock upgrade and haven't answered this poll\",\n",
       " 'Thanks.',\n",
       " 'well folks, my mac plus finally gave up the ghost this weekend after starting life as a 512k way back in 1985',\n",
       " \" sooo, i'm in the market for a new machine a bit sooner than i intended to be..\",\n",
       " \" i'm looking into picking up a powerbook 160 or maybe 180 and have a bunch of questions that (hopefully) somebody can answer:  * does anybody know any dirt on when the next round of powerbook introductions are expected\",\n",
       " ' i\\'d heard the 185c was supposed to make an appearence \"this summer\" but haven\\'t heard anymore on it - and since i don\\'t have access to macleak, i was wondering if anybody out there had more info..',\n",
       " \" * has anybody heard rumors about price drops to the powerbook line like the ones the duo's just went through recently\",\n",
       " \" * what's the impression of the display on the 180\",\n",
       " ' i could probably swing a 180 if i got the 80Mb disk rather than the 120, but i don\\'t really have a feel for how much \"better\" the display is (yea, it looks great in the store, but is that all \"wow\" or is it really that good?)',\n",
       " ' could i solicit some opinions of people who use the 160 and 180 day-to-day on if its worth taking the disk size and money hit to get the active display']"
      ]
     },
     "execution_count": 4,
     "metadata": {},
     "output_type": "execute_result"
    }
   ],
   "source": [
    "from pandas.core.common import flatten\n",
    "\n",
    "sentences = list(flatten(sentences))\n",
    "sentences[:20]"
   ]
  },
  {
   "attachments": {},
   "cell_type": "markdown",
   "metadata": {
    "id": "OAQ0LlmEYHlI"
   },
   "source": [
    "Now we can proceed to do some cleaning of the data: \n",
    "- remove non-letter characters from each sentence \n",
    "- lowercase \n",
    "- tokenize the sentences based on whitespace\n",
    "- remove any sentence with length less than 2 since it won't be useful for training Word2Vec. "
   ]
  },
  {
   "cell_type": "code",
   "execution_count": 5,
   "metadata": {
    "colab": {
     "base_uri": "https://localhost:8080/"
    },
    "id": "kgpm3IvQYHlI",
    "outputId": "672e3279-1b0d-4093-ca66-004d4b2ac357"
   },
   "outputs": [
    {
     "name": "stdout",
     "output_type": "stream",
     "text": [
      "['i', 'was', 'wondering', 'if', 'anyone', 'out', 'there', 'could', 'enlighten', 'me', 'on', 'this', 'car', 'i', 'saw', 'the', 'other', 'day']\n",
      "['it', 'was', 'a', '2', 'door', 'sports', 'car', 'looked', 'to', 'be', 'from', 'the', 'late', '60s', 'early', '70s']\n",
      "['it', 'was', 'called', 'a', 'bricklin']\n",
      "['the', 'doors', 'were', 'really', 'small']\n",
      "['in', 'addition', 'the', 'front', 'bumper', 'was', 'separate', 'from', 'the', 'rest', 'of', 'the', 'body']\n",
      "['this', 'is', 'all', 'i', 'know']\n",
      "['if', 'anyone', 'can', 'tellme', 'a', 'model', 'name', 'engine', 'specs', 'years', 'of', 'production', 'where', 'this', 'car', 'is', 'made', 'history', 'or', 'whatever', 'info', 'you', 'have', 'on', 'this', 'funky', 'looking', 'car', 'please', 'e', 'mail']\n",
      "['a', 'fair', 'number', 'of', 'brave', 'souls', 'who', 'upgraded', 'their', 'si', 'clock', 'oscillator', 'have', 'shared', 'their', 'experiences', 'for', 'this', 'poll']\n",
      "['please', 'send', 'a', 'brief', 'message', 'detailing', 'your', 'experiences', 'with', 'the', 'procedure']\n",
      "['top', 'speed', 'attained', 'cpu', 'rated', 'speed', 'add', 'on', 'cards', 'and', 'adapters', 'heat', 'sinks', 'hour', 'of', 'usage', 'per', 'day', 'floppy', 'disk', 'functionality', 'with', '800', 'and', '1', '4', 'm', 'floppies', 'are', 'especially', 'requested']\n"
     ]
    }
   ],
   "source": [
    "tokenized_sentences = [re.sub('\\W', ' ', sentence).lower().split() for sentence in sentences]\n",
    "# remove sentences that are only 1 word long\n",
    "tokenized_sentences = [sentence for sentence in tokenized_sentences if len(sentence) > 1]\n",
    "\n",
    "for sentence in tokenized_sentences[:10]:\n",
    "    print(sentence)"
   ]
  },
  {
   "attachments": {},
   "cell_type": "markdown",
   "metadata": {
    "id": "_xYG3RKRYHlI"
   },
   "source": [
    "Finally we have the data in the right format for training Word2Vec, so we can provide it to the algorithm. For parameters, we set: \n",
    "- the embedding size to be 30,\n",
    "- the minimum count for any vocabulary term to be 5\n",
    "- the size of the context window to 10."
   ]
  },
  {
   "cell_type": "code",
   "execution_count": 6,
   "metadata": {
    "id": "fXolbjAXYHlJ"
   },
   "outputs": [],
   "source": [
    "from gensim.models.word2vec import Word2Vec\n",
    "\n",
    "model = Word2Vec(tokenized_sentences, vector_size=30, min_count=5, window=10)"
   ]
  },
  {
   "attachments": {},
   "cell_type": "markdown",
   "metadata": {
    "id": "3BP16EM3YHlJ"
   },
   "source": [
    "Let's see how big the vocabulary is that Word2Vec ended up using, i.e. how many word vectors did it learn:"
   ]
  },
  {
   "cell_type": "code",
   "execution_count": 7,
   "metadata": {
    "colab": {
     "base_uri": "https://localhost:8080/"
    },
    "id": "Z7ZYKyxcYHlJ",
    "outputId": "90d9b0e6-7d92-428e-8ad2-5b95653255eb"
   },
   "outputs": [
    {
     "data": {
      "text/plain": [
       "22069"
      ]
     },
     "execution_count": 7,
     "metadata": {},
     "output_type": "execute_result"
    }
   ],
   "source": [
    "len(model.wv)"
   ]
  },
  {
   "attachments": {},
   "cell_type": "markdown",
   "metadata": {
    "id": "DHRbIkEYYHlJ"
   },
   "source": [
    "## Inspecting embeddings and finding similar words\n",
    "\n",
    "Now that we have a word2vec model trained, what can we do with it?\n",
    "- Let's print out one of the vectors to see what it looks like:"
   ]
  },
  {
   "cell_type": "code",
   "execution_count": 8,
   "metadata": {
    "colab": {
     "base_uri": "https://localhost:8080/"
    },
    "id": "1XJtGX3YYHlJ",
    "outputId": "b6108021-1369-4451-bfc9-29b8e759ac27"
   },
   "outputs": [
    {
     "data": {
      "text/plain": [
       "array([-0.79542994, -0.31234214,  3.6154847 , -1.788844  ,  2.4207306 ,\n",
       "        0.78549814, -0.67970216, -1.2509106 , -0.41478926, -1.8364896 ,\n",
       "        3.0588784 ,  0.30347404,  2.8574824 , -0.08042501, -0.12678659,\n",
       "       -1.3851997 ,  0.6331821 , -0.23947036,  1.9528099 ,  0.8732325 ,\n",
       "       -1.3331258 ,  1.0823213 , -1.8709236 , -2.901672  ,  1.0096626 ,\n",
       "        1.0097554 ,  1.1661111 , -0.8221339 ,  2.7176962 ,  2.4113517 ],\n",
       "      dtype=float32)"
      ]
     },
     "execution_count": 8,
     "metadata": {},
     "output_type": "execute_result"
    }
   ],
   "source": [
    "term = 'car'\n",
    "model.wv[term]"
   ]
  },
  {
   "attachments": {},
   "cell_type": "markdown",
   "metadata": {
    "id": "jAcJZJmyYHlJ"
   },
   "source": [
    "Unlike LDA's document topic vector, this one has both positive and negative values.\n",
    "\n",
    "We could now use the model to compute similarities between terms based on their cosine distance in the embedding space.\n",
    "- Try modifying the terms below to see what their closest neighbouring terms are: \n",
    "  - Some good terms to try are: hockey, mouse, god, microsoft, clinton, bush, etc.\n",
    "  - (If yuo see an error, that is because the term you chose is not in the dictionary.)"
   ]
  },
  {
   "cell_type": "code",
   "execution_count": 9,
   "metadata": {
    "colab": {
     "base_uri": "https://localhost:8080/"
    },
    "id": "Ej6ij-9-YHlK",
    "outputId": "4a0ab95f-6120-4f70-a9a2-5447b8ea822f"
   },
   "outputs": [
    {
     "data": {
      "text/plain": [
       "[('president', 0.9163004755973816),\n",
       " ('administration', 0.8690240383148193),\n",
       " ('bush', 0.7957410216331482),\n",
       " ('initiative', 0.7831631302833557),\n",
       " ('congress', 0.751867949962616),\n",
       " ('bill', 0.7476125359535217),\n",
       " ('stimulus', 0.7361395359039307),\n",
       " ('reiterated', 0.7230626940727234),\n",
       " ('george', 0.7132696509361267),\n",
       " ('policy', 0.7096625566482544)]"
      ]
     },
     "execution_count": 9,
     "metadata": {},
     "output_type": "execute_result"
    }
   ],
   "source": [
    "# term = 'gun'\n",
    "# term = 'microsoft'\n",
    "term ='clinton'\n",
    "\n",
    "model.wv.most_similar(term)"
   ]
  },
  {
   "attachments": {},
   "cell_type": "markdown",
   "metadata": {
    "id": "ldnMBi7qYHlK"
   },
   "source": [
    "Do the similar terms agree with your intuition?"
   ]
  },
  {
   "attachments": {},
   "cell_type": "markdown",
   "metadata": {
    "id": "Y4Su5jmKYHlK"
   },
   "source": [
    "## Visualising the embedding vectors using t-SNE\n",
    "\n",
    "We'll now visualise some of the word vectors in a 3 dimensional space using t-SNE.\n",
    "\n",
    "The vocabulary of word vectors is quite large (around 25,000). Giving them all to t-SNE will cause it to take far too long to converge.\n",
    "- So let's first choose a random subset of 500 terms to show:"
   ]
  },
  {
   "cell_type": "code",
   "execution_count": 10,
   "metadata": {
    "colab": {
     "base_uri": "https://localhost:8080/"
    },
    "id": "X3GC2wXgYHlK",
    "outputId": "634b4d73-de2a-422f-cb21-15b17c3e8989"
   },
   "outputs": [
    {
     "name": "stdout",
     "output_type": "stream",
     "text": [
      "['swe', 't5s', 'gee', 'scanner', 'relation', 'instructions', 'powell', '_k', '6w', 'row', 'eof', 'exponent', 'worlds', '033', 'c24e', 'dps', 'competence', '648', 'sands', 'governors', 'worked', 'seth', 'powers', 'salah', '4j', 'shudder', 'xga', 'indicative', 'n3jxp', 'pistol', 'microchannel', 'break', 'unjust', 'ranks', '0j', 'decompress', 'udp', 'fy', 'philadelphia', 'compound', '90', 'ax2', 'denervation', '36_q', 'completely', 'tightening', 'sweden', 'f_', 'herring', 'sgcs', 'justly', 'makela', 'chars', 'frustration', 'ds', 'avestan', 'margaret', 'spin', 'resolution', 'expandibility', 'aspirations', 'kgb', 'brothers', 'condescending', 'anthem', 'pbm', 'impress', 'brass', 'acorn', 'facility', 'attendance', 'faa', 'warming', 'vehicles', 'posture', 'highly', 'caching', 'rome', 'dagger', 'tread', 'tomb', 'nfl', 'enterprise', 'breakfast', 'arbitrary', 'allergic', 'ieee', 'walton', 'particulate', 'accepting', 'whereby', 'doses', 'bombing', 'appointed', '173', 'leaving', 'helen', 'kotrb', 'triggered', 'uuencode_len', 'proclaim', 'roenick', 'olney', 'rope', 'lester', 'ruling', 'analog', 'karina', 'holiness', 'quartz', 'iftccu', 'garbo', '198', 'lexicon', '5i', 'kurd', 'ancestors', 'handbook_', 'setjmp', 'kjv', 'hiking', 'stl', 'nerve', '311', 'stars', 'moslem', 'clusters', '6us', 'call_data', 'burden', '6y', 'winnipeg', 'bellcore', 'coke', 'sixty', 'mod', 'swept', 'strange', 'collapse', 'forgotten', 'suspected', 'lie', '9i', 'qtct', '_z', 'xtwindow', 'yah', 'ending', 'promised', 'veto', 'charging', 'theist', 'interprets', 'q32', 'mc8v', 'benefits', 'burke', 'donna', '827', 'disadvantage', 'okx', '6um', 'rumour', 'happening', 'collection', 'skipjacks', 'suicidal', 'cxt', 'ii', '778', 'warranties', 'serves', 'acknowledges', 'tcpdump', 'keen', 'administrative', 'stretches', 'context', 'officer', 'enhance', 'be', 'misunderstood', 'indonesian', 'differs', 'transceivers', 'binding', 'taligent', 'robot', 'gsfc', 'ic', 'x3', 'confession', 'sun3', '7060a', 'disciple', 'overthrow', 'i18n', 'concealing', 'psychiatry', 'delete', 'aims', 'asked', 'clueless', 'recurrence', 'manufacturers', 'recreational', 'smashed', 'texts', 'jets', 'assurances', 'twice', 'thedm', '00010001b', 'excitement', 'compact', 'garden', 'iivx', 'isaac', 'magnified', 'underlining', 'immoral', 'forty', 'expired', 'setuid', 'contain', '1f', 'tiff', 'allocate', 'neal', 'depth', 'septuagint', 'washing', 'xcreatewindow', 'mmwr', 'wrt', '900rr', 'reckon', 'mbyte', 'zubov', 'slider', 'saving', 'notch', 'neighbouring', 'little', 'reuters', 'curved', 'raising', 'institutions', '1102', 'xalloccolor', 'pilate', '1p', 'wt', 'shallow', 'maj', 'neely', 'collect', 'mistake', 'cites', 'shading', 'bay', 'enemy', 'macoun', 'suspiciously', 'thou', 'tricks', 'hole', '241', 'consensus', 'sanctions', 'exabyte', 'nyah', 'consultants', 'sadik', 'inria', 'oclock', 'nutek', 'daryl', 'annually', '281', 'ors', 'mississippi', 'typos', 'miniature', 'threshold', 'ilhan', 'xwindows', 'b5', 'ek', 'measurable', '7423', 'tvtwm', 'cathy', 'judges', 'band', 'sooner', 'iname', 'objective', 'bchm', 'startx', 'catalogue', 'insults', 'postage', 'literary', 'grabbing', 'services', 'hassle', 'analogous', 'roles', 'scientific', 'courier', 'brainwashed', '1h', 'jagr', 'aim', 'unlike', 'socialists', 'loan', 'influence', 'removing', 'win31', 'alchemy', 'gr', 'mrchz', 'z6ei4', 'franz', 'chicken', 'esa', 'cordially', '543', 'usaf', '20036', 'optimized', 'tossing', 'vent', 'interrupter', 'documents', 'gratification', 'standoff', 'pittsburg', 'goretti', 'disciplines', 'jurisdiction', 'plow', 'messed', 'coreldraw', 'shopping', '172', 'encounters', 'bruins', 'disposal', 'occupies', 'output_info', 'unscrupulous', 'seizing', 'july', 'obsolete', 'maclean', 'wy', 'bees', 'interfacing', 'kryptonite', 'virile', '68020', 'connector', 'practically', 'institutes', 'latches', 'felsner', 'summer', 'mercury', '954', 'icbm', 'immune', 'comparing', 'themselves', 'attribute', 'established', 'luck', 'ghostview', 'play', 'computations', 'believes', 'credibility', 'fairness', 'infogrip', 'tripoli', 'missile', 'occuring', 'reel', 'two', 'procedure', 'plenty', '111', 'emulates', '218', 'compatibles', '12mb', 'batman', 'merits', 'behaviour', 'announced', 'illegal', 'tops', '1987', 'tubing', 'instant', '1354', 'relative', 'ladies', 'nerves', 'lo', 'superceded', 'peril', 'message', 'ssr', 'stockpile', 'takes', 'cn', 'violent', 'lha', 'icons', 'publicly', 'remembered', 'chancellor', 'writting', 'bid', 'dm9', '713', 'evacuation', '3q', 'beirut', 'cock', 'quit', 'faithful', 'neighbours', 'nevertheless', 'amigas', 'sentra', 'workspaces', 'digital', 'cx_g', 'relevance', 'triples', 'r0i', 'garpenlov', 'greenbelt', 'unrecognized', 'payloads', 'cylinder', 'probing', 'r8e', 'database', 'renderer', 'imagine', 'crimson', 'released', 'emphasize', '850', 'deception', 'aw', 'cruelties', '4_', '2um', 'gd', 'question', 'exceptional', 'apt', 'stated', 'bulgaria', 'corrupted', 'cosmic', 'files', 'underground', 'nanaimo', 'amc', 'mmw', 'flaming', 'restrain', '1174', 'colonies', 'seemed', 'receptacles', 'assign', 'tint', 'evil', 'rx', 'stepped', 'accelerations', 'applaud', '3mb', 'aggression', 'driver', 'architectures', 'props', 'xu', 'licensed', 'freed', 'bonilla', 'chuckle']\n"
     ]
    }
   ],
   "source": [
    "import random\n",
    "\n",
    "sample = random.sample(list(model.wv.key_to_index), 500)\n",
    "print(sample)"
   ]
  },
  {
   "attachments": {},
   "cell_type": "markdown",
   "metadata": {
    "id": "tb51ZnSpYHlK"
   },
   "source": [
    "Now we'll get the word vectors for the sampled terms:"
   ]
  },
  {
   "cell_type": "code",
   "execution_count": 11,
   "metadata": {
    "colab": {
     "base_uri": "https://localhost:8080/"
    },
    "id": "wdIlwUjaYHlK",
    "outputId": "6c670eae-2360-47fd-f87a-5932ab430d76"
   },
   "outputs": [
    {
     "data": {
      "text/plain": [
       "array([[-0.2129322 , -0.07696712,  0.17120512, ...,  0.12821214,\n",
       "        -0.02325622, -0.17043905],\n",
       "       [-0.13047265, -0.1518373 ,  0.19029269, ...,  0.04508394,\n",
       "        -0.01899973, -0.1456555 ],\n",
       "       [-0.58804065, -0.18774535,  0.66006356, ...,  0.01201822,\n",
       "        -0.2361641 , -0.02474706],\n",
       "       ...,\n",
       "       [-0.16595207, -0.13319263,  0.15211356, ...,  0.12128409,\n",
       "         0.06639691, -0.1330005 ],\n",
       "       [-0.13290124, -0.0545831 ,  0.27926624, ...,  0.02338502,\n",
       "         0.06262072, -0.14004011],\n",
       "       [-0.06187554, -0.20114256,  0.04943132, ...,  0.01866687,\n",
       "         0.04214172, -0.15176567]], dtype=float32)"
      ]
     },
     "execution_count": 11,
     "metadata": {},
     "output_type": "execute_result"
    }
   ],
   "source": [
    "word_vectors = model.wv[sample]\n",
    "word_vectors"
   ]
  },
  {
   "attachments": {},
   "cell_type": "markdown",
   "metadata": {
    "id": "GPKDpTt9YHlK"
   },
   "source": [
    "And we'll provide the vectors to TSNE to fit a model and transform the data to 3 dimensions:"
   ]
  },
  {
   "cell_type": "code",
   "execution_count": 12,
   "metadata": {
    "id": "TdSwKpggYHlK"
   },
   "outputs": [],
   "source": [
    "from sklearn.manifold import TSNE\n",
    "\n",
    "tsne = TSNE(n_components=3, n_iter=2000)\n",
    "tsne_embedding = tsne.fit_transform(word_vectors)"
   ]
  },
  {
   "attachments": {},
   "cell_type": "markdown",
   "metadata": {
    "id": "HWDA5VAFYHlL"
   },
   "source": [
    "Now transform the data into 3 columns (for x, y, and z):"
   ]
  },
  {
   "cell_type": "code",
   "execution_count": 13,
   "metadata": {
    "id": "F-ubEgoDYHlL"
   },
   "outputs": [],
   "source": [
    "import numpy as np\n",
    "\n",
    "x, y, z = np.transpose(tsne_embedding)"
   ]
  },
  {
   "attachments": {},
   "cell_type": "markdown",
   "metadata": {
    "id": "2RQtluK0YHlL"
   },
   "source": [
    "And generate the 3d plot:"
   ]
  },
  {
   "cell_type": "code",
   "execution_count": 14,
   "metadata": {},
   "outputs": [],
   "source": [
    "#!pip install plotly"
   ]
  },
  {
   "cell_type": "code",
   "execution_count": 15,
   "metadata": {
    "colab": {
     "base_uri": "https://localhost:8080/",
     "height": 562
    },
    "id": "Addk422Dt_IW",
    "outputId": "68a504ad-6d1c-4e20-cdef-44b554053141"
   },
   "outputs": [
    {
     "data": {
      "application/vnd.plotly.v1+json": {
       "config": {
        "plotlyServerURL": "https://plot.ly"
       },
       "data": [
        {
         "hovertemplate": "x=%{x}<br>y=%{y}<br>z=%{z}<extra></extra>",
         "legendgroup": "",
         "marker": {
          "color": "#636efa",
          "line": {
           "width": 2
          },
          "size": 3,
          "symbol": "circle"
         },
         "mode": "markers",
         "name": "",
         "scene": "scene",
         "showlegend": false,
         "type": "scatter3d",
         "x": [
          -3.1086556911468506,
          -9.981368064880371,
          0.8456273078918457,
          -24.16896629333496,
          -8.834986686706543,
          -7.513537406921387,
          -3.5537939071655273,
          10.796703338623047,
          -15.680855751037598,
          -20.573261260986328,
          -9.839601516723633,
          14.99853801727295,
          6.30860710144043,
          -1.6101447343826294,
          0.008446631021797657,
          0.003987865522503853,
          14.388504981994629,
          -19.46446990966797,
          6.33473539352417,
          23.96904182434082,
          -8.8108491897583,
          4.865626811981201,
          3.506168842315674,
          14.850922584533691,
          -4.859869003295898,
          13.151717185974121,
          -20.236400604248047,
          16.886808395385742,
          -32.38249588012695,
          -13.898942947387695,
          8.556354522705078,
          -13.345491409301758,
          17.0218448638916,
          10.778562545776367,
          -1.2175121307373047,
          16.813737869262695,
          19.91005516052246,
          -15.093951225280762,
          -16.10963249206543,
          -7.861617088317871,
          -14.91816234588623,
          4.3534698486328125,
          10.222630500793457,
          10.692221641540527,
          12.59388256072998,
          23.800745010375977,
          -13.72992992401123,
          0.05220581963658333,
          21.526744842529297,
          9.374229431152344,
          22.96800422668457,
          -3.867961883544922,
          -26.574861526489258,
          1.4200942516326904,
          -19.18250274658203,
          17.24254035949707,
          13.462289810180664,
          -14.923055648803711,
          -27.60531234741211,
          10.069938659667969,
          18.168476104736328,
          1.2412415742874146,
          -4.707480430603027,
          15.953910827636719,
          5.588498115539551,
          -22.756195068359375,
          27.626588821411133,
          10.904789924621582,
          8.35435962677002,
          -27.71700668334961,
          -5.246659755706787,
          7.318578720092773,
          15.636327743530273,
          -21.45376968383789,
          -7.350594997406006,
          14.046795845031738,
          4.515150547027588,
          -1.6446597576141357,
          3.766602039337158,
          -4.731727123260498,
          7.713458061218262,
          -2.120950698852539,
          11.750676155090332,
          0.4198853373527527,
          -28.614788055419922,
          -1.3997085094451904,
          -23.010236740112305,
          -4.987381935119629,
          19.17987632751465,
          13.968330383300781,
          28.367238998413086,
          -10.712838172912598,
          -0.7054135799407959,
          -1.238545298576355,
          -9.215859413146973,
          -10.510441780090332,
          17.71890640258789,
          -7.244305610656738,
          21.251808166503906,
          18.5611515045166,
          24.06063461303711,
          -12.292466163635254,
          24.449474334716797,
          0.3776242136955261,
          -4.209723472595215,
          -8.129653930664062,
          -25.696514129638672,
          -5.236783504486084,
          17.941783905029297,
          10.072176933288574,
          11.5585298538208,
          -14.336217880249023,
          -12.136720657348633,
          -8.058199882507324,
          -2.883737325668335,
          26.46263885498047,
          8.850424766540527,
          23.819721221923828,
          -0.9617414474487305,
          18.124727249145508,
          15.786090850830078,
          -11.393872261047363,
          0.465995192527771,
          -6.700429439544678,
          -18.163684844970703,
          -3.867828369140625,
          -15.134183883666992,
          -1.3391811847686768,
          -12.817381858825684,
          14.31686782836914,
          -6.196707725524902,
          -13.281876564025879,
          -12.445941925048828,
          13.126347541809082,
          -0.7903754115104675,
          -13.075749397277832,
          3.0423660278320312,
          -2.4397032260894775,
          -12.266107559204102,
          2.9010727405548096,
          19.479169845581055,
          5.085561752319336,
          -10.697322845458984,
          -0.4483284652233124,
          -7.206752777099609,
          -2.3368005752563477,
          0.6757407784461975,
          4.977688312530518,
          3.0484204292297363,
          19.0230655670166,
          -5.300212860107422,
          1.4020408391952515,
          20.996183395385742,
          3.9112296104431152,
          -2.5659947395324707,
          -26.199440002441406,
          -10.017414093017578,
          5.251475811004639,
          -11.710874557495117,
          4.534581184387207,
          4.2150139808654785,
          -22.634191513061523,
          11.503798484802246,
          6.358336925506592,
          -30.505550384521484,
          -9.602166175842285,
          8.458422660827637,
          -22.73829460144043,
          -24.660690307617188,
          -5.886410713195801,
          9.082971572875977,
          -0.17116761207580566,
          18.626964569091797,
          2.757934331893921,
          21.166242599487305,
          -25.499547958374023,
          -9.230311393737793,
          12.200754165649414,
          -5.506844997406006,
          16.902156829833984,
          -27.329626083374023,
          9.66113567352295,
          19.93223762512207,
          11.082179069519043,
          8.331855773925781,
          12.680316925048828,
          15.697983741760254,
          0.3659653067588806,
          -19.419214248657227,
          -24.887332916259766,
          -20.955623626708984,
          16.984561920166016,
          -20.78260040283203,
          17.372581481933594,
          26.139785766601562,
          23.652164459228516,
          0.32276567816734314,
          18.416425704956055,
          17.606929779052734,
          -26.544240951538086,
          12.866463661193848,
          9.88459300994873,
          9.2370023727417,
          19.613107681274414,
          -22.768476486206055,
          10.697829246520996,
          6.6295695304870605,
          9.761192321777344,
          -15.008600234985352,
          15.695491790771484,
          -5.525704383850098,
          -10.658531188964844,
          -16.865779876708984,
          18.038846969604492,
          -24.599628448486328,
          -4.601476669311523,
          -18.810630798339844,
          -6.151602268218994,
          15.894546508789062,
          25.15720558166504,
          11.104952812194824,
          -3.543854236602783,
          10.97880744934082,
          12.921512603759766,
          -29.15584373474121,
          -18.804988861083984,
          -30.026880264282227,
          -0.7439674139022827,
          -16.70990753173828,
          -27.0179386138916,
          10.87631893157959,
          24.68269157409668,
          -14.961705207824707,
          -20.200878143310547,
          11.003626823425293,
          -0.06398037075996399,
          29.575092315673828,
          16.313390731811523,
          -0.3305172920227051,
          5.130791664123535,
          -8.693745613098145,
          17.898237228393555,
          21.58949851989746,
          -8.020181655883789,
          -4.096794128417969,
          11.707537651062012,
          16.1622257232666,
          -26.350542068481445,
          14.089855194091797,
          16.195716857910156,
          25.285181045532227,
          -13.814512252807617,
          -21.956640243530273,
          20.18906593322754,
          -10.257237434387207,
          -9.437468528747559,
          13.80922794342041,
          5.135399341583252,
          19.115530014038086,
          -21.633634567260742,
          -17.763813018798828,
          -6.195896625518799,
          20.01007652282715,
          4.036215782165527,
          8.021371841430664,
          12.02810287475586,
          -15.662130355834961,
          -14.370323181152344,
          8.314125061035156,
          14.565539360046387,
          10.271507263183594,
          -7.902413845062256,
          14.06042766571045,
          17.27066993713379,
          -22.279802322387695,
          -13.41635513305664,
          10.50886058807373,
          -1.8606369495391846,
          8.579780578613281,
          -13.533437728881836,
          -0.4184934198856354,
          -15.217608451843262,
          8.982325553894043,
          14.544026374816895,
          4.789140224456787,
          24.377408981323242,
          -18.833492279052734,
          -8.295233726501465,
          6.866738319396973,
          6.0129475593566895,
          4.15519905090332,
          -17.32150650024414,
          9.654279708862305,
          -4.259941577911377,
          -22.662418365478516,
          8.219856262207031,
          1.0410408973693848,
          14.099006652832031,
          2.6703615188598633,
          -11.317498207092285,
          -2.297922134399414,
          30.132448196411133,
          -4.688257217407227,
          18.32611083984375,
          10.58781623840332,
          -30.43058967590332,
          -8.011507987976074,
          12.971769332885742,
          16.558086395263672,
          -32.01746368408203,
          5.5793561935424805,
          26.496994018554688,
          -5.491918563842773,
          -9.69638729095459,
          -24.868986129760742,
          18.770750045776367,
          -0.24682724475860596,
          -16.101072311401367,
          4.8469624519348145,
          -12.471284866333008,
          -14.861291885375977,
          8.480023384094238,
          -7.684016227722168,
          5.375894546508789,
          -0.8712014555931091,
          0.08765406161546707,
          -1.3688310384750366,
          -22.649465560913086,
          12.174556732177734,
          -15.136090278625488,
          -20.308063507080078,
          -16.16560173034668,
          -20.614009857177734,
          10.630963325500488,
          4.476947784423828,
          16.912691116333008,
          -27.585763931274414,
          6.747544288635254,
          22.30254554748535,
          -1.7531028985977173,
          21.011899948120117,
          20.796422958374023,
          4.276706695556641,
          20.188148498535156,
          -3.8179235458374023,
          3.7450733184814453,
          -1.808181643486023,
          -21.1409854888916,
          9.78597354888916,
          -12.253127098083496,
          20.3909912109375,
          21.723953247070312,
          -5.312175750732422,
          9.52328109741211,
          21.893991470336914,
          -20.835214614868164,
          -20.03725814819336,
          2.667226552963257,
          -0.6888815760612488,
          -7.851866722106934,
          9.505962371826172,
          -12.855090141296387,
          27.320682525634766,
          -17.776575088500977,
          -27.767553329467773,
          -0.9888833165168762,
          -14.8245849609375,
          18.586732864379883,
          -4.436614036560059,
          -14.623769760131836,
          -19.33545684814453,
          -12.125669479370117,
          -8.933943748474121,
          11.159302711486816,
          -7.587543964385986,
          6.055203437805176,
          -10.091861724853516,
          3.9076449871063232,
          -6.23574686050415,
          12.975105285644531,
          -9.592971801757812,
          -21.12358283996582,
          10.687357902526855,
          -4.292661666870117,
          12.369620323181152,
          12.316539764404297,
          -12.779796600341797,
          -15.501640319824219,
          7.951496601104736,
          6.823826313018799,
          -13.646018981933594,
          -14.383222579956055,
          -13.071949005126953,
          -18.48598861694336,
          -16.32528305053711,
          -15.293293952941895,
          -20.585336685180664,
          -19.589366912841797,
          -4.977762699127197,
          16.70725440979004,
          15.660642623901367,
          -21.14382553100586,
          8.019932746887207,
          -3.3842170238494873,
          -21.70262336730957,
          12.105076789855957,
          -8.120377540588379,
          14.23558521270752,
          -29.573881149291992,
          -3.840106248855591,
          3.6454918384552,
          -18.35280418395996,
          13.237848281860352,
          15.151102066040039,
          -12.05822467803955,
          -0.6795898675918579,
          22.391033172607422,
          -2.2982001304626465,
          -7.316129207611084,
          2.743150472640991,
          5.736993312835693,
          3.427072286605835,
          7.7762227058410645,
          2.572918176651001,
          -2.503824234008789,
          9.176497459411621,
          -6.487067699432373,
          1.2496832609176636,
          -22.898818969726562,
          21.942310333251953,
          -14.854829788208008,
          -4.090116500854492,
          18.243988037109375,
          -16.169876098632812,
          8.489331245422363,
          7.083256721496582,
          15.247427940368652,
          -12.27195930480957,
          -6.912167549133301,
          13.241058349609375,
          -34.122703552246094,
          1.199432134628296,
          23.742826461791992,
          19.097318649291992,
          -0.7542276382446289,
          -8.16334342956543,
          -15.987249374389648,
          5.595174789428711,
          -19.555442810058594,
          -18.339357376098633,
          13.33761978149414,
          6.321460247039795,
          -32.62205123901367,
          -24.783411026000977,
          -23.8893985748291,
          8.35709285736084,
          -22.115673065185547,
          12.912663459777832,
          -7.753594398498535,
          16.895463943481445,
          -9.592735290527344,
          -0.39554423093795776,
          5.781736373901367,
          16.781965255737305,
          -11.844983100891113,
          13.234017372131348,
          30.934871673583984,
          9.989911079406738,
          2.5252654552459717,
          -0.39823171496391296,
          6.799832820892334,
          -16.9110107421875,
          -32.820125579833984,
          -17.44150161743164,
          -5.037627220153809,
          -1.383907437324524,
          -14.531582832336426,
          6.633224964141846,
          23.00469398498535,
          -13.827447891235352,
          22.03508949279785,
          -4.037817478179932,
          8.38333797454834,
          15.186573028564453,
          24.78473663330078,
          9.42309284210205,
          -9.839249610900879,
          11.398320198059082,
          12.453999519348145,
          14.11140251159668,
          11.486454963684082,
          3.2107009887695312,
          -30.007854461669922,
          4.155736923217773,
          13.78422737121582,
          -9.911654472351074,
          -21.115453720092773,
          4.131216526031494,
          2.774087429046631,
          4.84144926071167
         ],
         "y": [
          1.6443568468093872,
          -7.42945671081543,
          -12.484148025512695,
          -15.475135803222656,
          1.2151192426681519,
          -19.297086715698242,
          0.06417454034090042,
          1.4866743087768555,
          -2.9394445419311523,
          21.1575870513916,
          -15.783211708068848,
          -0.3329196870326996,
          4.825238227844238,
          6.452478408813477,
          -1.0016518831253052,
          16.512929916381836,
          0.8945853114128113,
          8.92512321472168,
          11.076220512390137,
          -5.288840293884277,
          -12.56646728515625,
          -0.024480080232024193,
          1.309532642364502,
          -9.749161720275879,
          -2.8521311283111572,
          -6.070965766906738,
          -3.1807610988616943,
          -10.601408958435059,
          -0.8392103314399719,
          6.240217685699463,
          11.761634826660156,
          -19.539888381958008,
          -1.364111304283142,
          6.489684581756592,
          -9.132280349731445,
          18.289520263671875,
          -1.1890904903411865,
          -2.2089109420776367,
          23.505517959594727,
          -6.375484466552734,
          18.885093688964844,
          -3.13877010345459,
          5.940788745880127,
          -2.3571736812591553,
          -13.30945873260498,
          1.6260554790496826,
          19.093605041503906,
          -2.837674617767334,
          9.615987777709961,
          5.466053485870361,
          -2.2632532119750977,
          4.108948707580566,
          -0.8863108158111572,
          2.2685840129852295,
          16.22870635986328,
          2.3339579105377197,
          -3.9890365600585938,
          -10.698469161987305,
          -12.493555068969727,
          6.097040176391602,
          8.970979690551758,
          14.511968612670898,
          -7.38230562210083,
          -4.039621353149414,
          -6.838028430938721,
          -0.3406279385089874,
          11.597557067871094,
          6.937649250030518,
          9.690666198730469,
          9.001502990722656,
          7.9751105308532715,
          16.49489974975586,
          6.543243408203125,
          0.7644532918930054,
          -12.460482597351074,
          -4.7575178146362305,
          15.946721076965332,
          -0.5224583148956299,
          3.931652307510376,
          1.1066782474517822,
          -14.519006729125977,
          -3.9856209754943848,
          15.186418533325195,
          11.258397102355957,
          -6.061995983123779,
          -16.996864318847656,
          8.994831085205078,
          7.4920973777771,
          -7.700321674346924,
          -8.752552032470703,
          1.6480778455734253,
          -12.536463737487793,
          -4.622056484222412,
          3.073956251144409,
          2.455284595489502,
          -2.6980888843536377,
          -7.178313255310059,
          5.3176469802856445,
          11.519344329833984,
          16.185131072998047,
          -14.822783470153809,
          14.213902473449707,
          -8.67416763305664,
          -0.10044225305318832,
          12.30834674835205,
          1.2637395858764648,
          -12.614476203918457,
          -11.880345344543457,
          0.607249915599823,
          10.361053466796875,
          -7.2142744064331055,
          12.074764251708984,
          -8.231321334838867,
          6.5323100090026855,
          -0.9123791456222534,
          4.4319562911987305,
          4.558082103729248,
          -7.019698143005371,
          5.6410298347473145,
          0.979502260684967,
          -11.301902770996094,
          22.059284210205078,
          -9.547811508178711,
          6.437829971313477,
          20.055461883544922,
          -4.508111000061035,
          -0.32573196291923523,
          -5.589558124542236,
          -8.489097595214844,
          -5.15887975692749,
          -3.026127338409424,
          23.273183822631836,
          10.124509811401367,
          10.071379661560059,
          9.027623176574707,
          2.157341957092285,
          6.332301616668701,
          -13.164166450500488,
          -0.7020389437675476,
          -1.6618428230285645,
          10.237181663513184,
          -14.841552734375,
          7.3661603927612305,
          -7.255215644836426,
          3.211864709854126,
          3.485940933227539,
          -8.103404998779297,
          8.338679313659668,
          -7.7308244705200195,
          -14.561820983886719,
          -6.592257499694824,
          -14.870366096496582,
          -15.811225891113281,
          -9.946610450744629,
          -4.013484477996826,
          -3.7619028091430664,
          14.092720031738281,
          -4.314628601074219,
          8.977943420410156,
          -14.483179092407227,
          -3.945148229598999,
          -1.365328311920166,
          0.928382396697998,
          -18.695507049560547,
          -1.5757603645324707,
          14.140193939208984,
          -7.861144065856934,
          5.238163948059082,
          16.81513214111328,
          10.551936149597168,
          3.5711512565612793,
          -19.83216667175293,
          -11.581330299377441,
          10.130661010742188,
          -11.781946182250977,
          2.641496181488037,
          -6.952868938446045,
          -17.286495208740234,
          -1.4502533674240112,
          14.7910795211792,
          -14.294865608215332,
          -13.09414291381836,
          -7.451496124267578,
          9.334418296813965,
          13.04634952545166,
          2.528026580810547,
          0.44105345010757446,
          5.602795600891113,
          6.11024808883667,
          16.01352310180664,
          15.823801040649414,
          5.369184494018555,
          0.1762591451406479,
          9.302424430847168,
          -10.20175838470459,
          5.5333428382873535,
          0.4828810691833496,
          -2.705893039703369,
          -6.956149578094482,
          1.193261742591858,
          8.70366096496582,
          -22.476776123046875,
          -1.9188148975372314,
          3.267251968383789,
          -5.962129592895508,
          13.479602813720703,
          0.24607214331626892,
          4.1923298835754395,
          22.74021339416504,
          -3.7040560245513916,
          15.741242408752441,
          0.18351539969444275,
          3.8977558612823486,
          -4.379558563232422,
          -5.218038558959961,
          14.659553527832031,
          -10.077142715454102,
          -2.950465440750122,
          11.186600685119629,
          -6.449828147888184,
          -10.07973575592041,
          11.457330703735352,
          17.6015625,
          3.850554943084717,
          -10.025900840759277,
          -7.372051239013672,
          -7.798038959503174,
          11.043864250183105,
          8.901640892028809,
          -9.266559600830078,
          -13.198193550109863,
          -1.859765648841858,
          -9.844011306762695,
          2.6045188903808594,
          -7.12107515335083,
          3.777895212173462,
          -0.7012296319007874,
          7.2184224128723145,
          11.299156188964844,
          13.616155624389648,
          -7.838366985321045,
          3.588604211807251,
          4.169426918029785,
          -19.42569351196289,
          18.468036651611328,
          16.125635147094727,
          11.369677543640137,
          0.49443456530570984,
          -3.0189788341522217,
          6.224175930023193,
          5.360642910003662,
          -4.16274881362915,
          -5.56552267074585,
          12.716378211975098,
          5.7913079261779785,
          9.197896003723145,
          16.226516723632812,
          -14.42731761932373,
          -5.572836875915527,
          -7.937530517578125,
          23.31136703491211,
          -2.6514432430267334,
          6.257024765014648,
          -8.294925689697266,
          -14.427409172058105,
          15.137177467346191,
          -17.688167572021484,
          12.912261009216309,
          6.259654998779297,
          5.034153938293457,
          11.360321044921875,
          -2.3947267532348633,
          5.028536319732666,
          -2.9234299659729004,
          3.9837758541107178,
          -3.76837158203125,
          2.9051320552825928,
          5.665477275848389,
          11.925496101379395,
          8.301519393920898,
          -10.257147789001465,
          3.5784060955047607,
          -9.890429496765137,
          13.448080062866211,
          -9.828449249267578,
          -1.7892284393310547,
          -4.105011463165283,
          -0.667884886264801,
          -2.2679784297943115,
          9.581086158752441,
          7.460376739501953,
          -15.420653343200684,
          -5.101905822753906,
          -22.99439811706543,
          -12.642975807189941,
          21.45909309387207,
          0.12535463273525238,
          -14.286589622497559,
          0.8341353535652161,
          -10.45860481262207,
          14.260857582092285,
          -2.7077720165252686,
          17.39093780517578,
          -6.058981895446777,
          -2.2571237087249756,
          6.272376537322998,
          -12.032819747924805,
          -1.9245405197143555,
          4.5839715003967285,
          -0.6111181378364563,
          5.307639122009277,
          -0.40457794070243835,
          -8.634344100952148,
          15.090947151184082,
          6.318955421447754,
          -9.068931579589844,
          -0.7596062421798706,
          -5.253819465637207,
          8.331724166870117,
          -14.629106521606445,
          -10.0004301071167,
          -1.9804925918579102,
          -3.752800464630127,
          -4.531586170196533,
          -3.329357385635376,
          11.44556713104248,
          3.4916229248046875,
          9.017049789428711,
          -14.527178764343262,
          8.165787696838379,
          5.485538482666016,
          7.709775924682617,
          -3.5788023471832275,
          -3.250800371170044,
          7.544715881347656,
          12.192849159240723,
          3.4228830337524414,
          -0.1723611205816269,
          -7.960511207580566,
          7.247005462646484,
          -4.1925811767578125,
          -7.099261283874512,
          -2.8248469829559326,
          4.650848388671875,
          -2.3713436126708984,
          2.346942186355591,
          -2.949928045272827,
          17.530277252197266,
          9.83055591583252,
          20.28900718688965,
          1.3713232278823853,
          -0.18167446553707123,
          6.583798885345459,
          11.140789985656738,
          6.146246433258057,
          16.492761611938477,
          -3.7253222465515137,
          5.945312023162842,
          -5.270938873291016,
          4.0333571434021,
          2.4998860359191895,
          -7.748692512512207,
          5.8099164962768555,
          -6.154911518096924,
          -16.521421432495117,
          -14.513925552368164,
          5.026196479797363,
          11.885391235351562,
          0.4957583248615265,
          -1.1713281869888306,
          11.899127960205078,
          4.897067546844482,
          10.57392406463623,
          -3.663043737411499,
          7.874277591705322,
          -10.906332969665527,
          -15.380674362182617,
          0.07253754884004593,
          -18.991586685180664,
          -1.954870581626892,
          24.158164978027344,
          1.5001180171966553,
          -18.58896255493164,
          -15.374506950378418,
          -6.573728561401367,
          9.308844566345215,
          0.6407649517059326,
          2.788170099258423,
          0.27112558484077454,
          10.408578872680664,
          -11.996903419494629,
          -18.724367141723633,
          -13.023693084716797,
          16.436080932617188,
          -6.071033954620361,
          5.862682819366455,
          -5.64688777923584,
          -9.95615291595459,
          6.814247131347656,
          -2.418144702911377,
          -10.255516052246094,
          14.449249267578125,
          -6.577946662902832,
          1.5867016315460205,
          14.57824420928955,
          6.769782066345215,
          -1.7601680755615234,
          3.336609125137329,
          -5.012566089630127,
          -6.481494903564453,
          -6.125694274902344,
          -5.88564395904541,
          -14.392101287841797,
          1.4777867794036865,
          -22.54942512512207,
          20.432580947875977,
          -4.116193771362305,
          -20.009859085083008,
          -7.474038600921631,
          -7.306921005249023,
          8.140388488769531,
          21.387758255004883,
          -3.003387212753296,
          -15.997049331665039,
          3.822239875793457,
          -6.005531311035156,
          16.581192016601562,
          -4.697404384613037,
          13.654989242553711,
          1.412482738494873,
          -6.459225177764893,
          10.172134399414062,
          8.315914154052734,
          -12.350312232971191,
          -9.132261276245117,
          -3.117579698562622,
          -10.804938316345215,
          -4.452784538269043,
          -1.537319540977478,
          9.880073547363281,
          -10.349996566772461,
          -12.747391700744629,
          -10.865640640258789,
          -0.6492551565170288,
          -6.379324436187744,
          9.395448684692383,
          4.037154197692871,
          6.135836601257324,
          4.248526573181152,
          -14.416213989257812,
          -1.1035401821136475,
          -6.009859561920166,
          -10.36768913269043,
          -3.1635165214538574,
          -15.987203598022461,
          3.5734875202178955,
          10.27419662475586,
          -8.05670166015625,
          3.186000108718872,
          -0.41148659586906433,
          -1.1444275379180908,
          -2.4025681018829346,
          0.1691616326570511,
          -0.15918569266796112,
          0.928760826587677,
          -19.491565704345703,
          2.235732078552246,
          -12.946634292602539,
          2.1157970428466797,
          5.506687641143799,
          17.457895278930664,
          1.0545111894607544,
          -14.671677589416504,
          -1.3616392612457275,
          14.257794380187988,
          7.550545692443848,
          -3.552696704864502,
          -16.89704704284668,
          17.546966552734375,
          4.488292694091797,
          -0.9245086908340454,
          -16.4707088470459,
          15.224654197692871,
          16.859472274780273,
          11.68222427368164,
          -11.24131965637207,
          4.391022682189941,
          1.1753617525100708,
          -7.634633541107178,
          -9.742735862731934,
          10.096236228942871,
          0.9291972517967224,
          -17.251333236694336,
          12.362214088439941,
          0.1356554925441742,
          -3.578157424926758,
          -2.8721017837524414,
          -4.177374839782715,
          -4.113250732421875,
          -7.188216686248779
         ],
         "z": [
          0.2656736671924591,
          -14.926896095275879,
          3.821951389312744,
          1.0721372365951538,
          19.919742584228516,
          -1.7716587781906128,
          16.694608688354492,
          -7.557948112487793,
          -16.662811279296875,
          4.289956569671631,
          -9.58825969696045,
          -28.119709014892578,
          -11.156991958618164,
          -20.965429306030273,
          -25.196123123168945,
          -5.712071418762207,
          0.6870131492614746,
          0.757434606552124,
          9.5265474319458,
          -17.02935218811035,
          23.104482650756836,
          -3.605957269668579,
          26.744020462036133,
          -13.214118957519531,
          -24.06543731689453,
          -14.258130073547363,
          -9.672786712646484,
          0.8610760569572449,
          7.718844413757324,
          20.190876007080078,
          -20.019733428955078,
          4.0805535316467285,
          9.254935264587402,
          16.769851684570312,
          -25.691043853759766,
          1.146785020828247,
          -18.054807662963867,
          -22.179685592651367,
          18.521142959594727,
          28.71127700805664,
          18.856386184692383,
          -28.12367057800293,
          2.9100654125213623,
          -6.736807346343994,
          18.470504760742188,
          -16.406578063964844,
          12.80228042602539,
          -20.68204689025879,
          -4.429401397705078,
          -16.773630142211914,
          1.08229398727417,
          4.203641414642334,
          -7.0940022468566895,
          3.341481924057007,
          0.27839773893356323,
          6.481012344360352,
          -4.244665145874023,
          7.405473232269287,
          -3.62497615814209,
          -20.614105224609375,
          12.86101245880127,
          7.778408527374268,
          23.259567260742188,
          -8.09588623046875,
          -16.68759536743164,
          2.8455920219421387,
          -1.624359369277954,
          -4.553891181945801,
          -23.001741409301758,
          14.4827299118042,
          9.970475196838379,
          5.8397722244262695,
          3.013061285018921,
          21.208446502685547,
          9.693334579467773,
          26.271377563476562,
          -18.602048873901367,
          25.187314987182617,
          8.642891883850098,
          12.624275207519531,
          15.613277435302734,
          5.7241997718811035,
          14.70095443725586,
          -2.8170011043548584,
          6.597742557525635,
          13.622417449951172,
          12.964618682861328,
          -3.478560209274292,
          4.097311496734619,
          18.57523536682129,
          3.03707218170166,
          13.657116889953613,
          28.440725326538086,
          27.13284683227539,
          0.861764132976532,
          26.451955795288086,
          -25.331850051879883,
          -8.361673355102539,
          -15.314291954040527,
          -12.18571662902832,
          -17.906570434570312,
          11.354900360107422,
          2.249727725982666,
          8.442061424255371,
          4.618815898895264,
          24.60114860534668,
          -0.05757911875844002,
          22.58365821838379,
          2.6924171447753906,
          -16.517465591430664,
          -27.387983322143555,
          -8.294305801391602,
          -18.970081329345703,
          23.49119758605957,
          -21.47460174560547,
          -4.9395952224731445,
          14.947599411010742,
          -4.272756099700928,
          -16.386699676513672,
          -16.167984008789062,
          -7.812448501586914,
          17.037668228149414,
          11.76982593536377,
          0.5416420102119446,
          13.089532852172852,
          26.00904083251953,
          -0.1875610053539276,
          -28.74155616760254,
          -7.0550537109375,
          18.708721160888672,
          -19.53891944885254,
          14.187901496887207,
          -9.30956745147705,
          -2.0263538360595703,
          8.108818054199219,
          -5.351627349853516,
          11.932311058044434,
          15.111775398254395,
          18.428844451904297,
          15.84323787689209,
          6.036997318267822,
          22.573955535888672,
          -22.31403923034668,
          -5.272227764129639,
          -4.1146745681762695,
          -25.100690841674805,
          3.789656639099121,
          16.88770294189453,
          19.281654357910156,
          -4.511715888977051,
          6.773581027984619,
          13.463918685913086,
          -15.041803359985352,
          -23.511510848999023,
          -14.340048789978027,
          18.056398391723633,
          -0.9842751026153564,
          -3.7050375938415527,
          -2.1259143352508545,
          -1.7898681163787842,
          -14.626769065856934,
          -20.72216796875,
          -19.68320655822754,
          15.578471183776855,
          16.35264778137207,
          6.582064628601074,
          5.115530967712402,
          -3.525447130203247,
          13.36201286315918,
          -5.831289768218994,
          -27.46817398071289,
          16.33333969116211,
          -16.325729370117188,
          -18.19241714477539,
          -0.5176316499710083,
          15.224968910217285,
          3.5668468475341797,
          20.08487892150879,
          30.068279266357422,
          5.1447858810424805,
          13.662518501281738,
          -0.4642859101295471,
          -1.9346225261688232,
          20.353675842285156,
          -9.763051986694336,
          20.94212532043457,
          -19.90212631225586,
          -6.750599384307861,
          5.167563438415527,
          2.55161714553833,
          3.6041364669799805,
          -3.0711536407470703,
          -4.136358737945557,
          -11.752854347229004,
          -10.28203296661377,
          4.569159507751465,
          -17.495800018310547,
          3.7535817623138428,
          -5.571962833404541,
          0.8186809420585632,
          9.02829647064209,
          13.391425132751465,
          -16.76136589050293,
          13.104817390441895,
          15.484992027282715,
          5.087646484375,
          6.126657485961914,
          24.145751953125,
          11.250778198242188,
          -18.109189987182617,
          18.276933670043945,
          3.565171480178833,
          -7.760424613952637,
          -22.389135360717773,
          4.409745216369629,
          9.594686508178711,
          0.1954997330904007,
          15.981521606445312,
          -17.398115158081055,
          -23.56432342529297,
          21.81151580810547,
          14.177597999572754,
          -21.046463012695312,
          -23.799232482910156,
          9.868132591247559,
          -22.061378479003906,
          1.353784203529358,
          -20.662580490112305,
          12.192160606384277,
          -0.005449172109365463,
          3.886460542678833,
          -11.621925354003906,
          -4.291815757751465,
          12.231844902038574,
          -0.7347331047058105,
          -2.4670748710632324,
          -16.424551010131836,
          -28.43113899230957,
          2.9965591430664062,
          -25.09931755065918,
          12.12527847290039,
          -27.44441032409668,
          -23.51488494873047,
          16.94133949279785,
          2.1589455604553223,
          -14.29051399230957,
          0.1365191787481308,
          17.09304428100586,
          -23.046720504760742,
          -20.497814178466797,
          -9.159099578857422,
          -24.244930267333984,
          -22.192243576049805,
          -9.809096336364746,
          4.7136125564575195,
          11.998319625854492,
          9.417272567749023,
          19.11745262145996,
          -14.581287384033203,
          -5.87834358215332,
          14.93945026397705,
          23.43208122253418,
          -11.909136772155762,
          1.2352927923202515,
          12.158854484558105,
          -3.568535566329956,
          6.7428412437438965,
          3.6599183082580566,
          27.2425594329834,
          15.727334976196289,
          -12.376138687133789,
          -3.522061586380005,
          -14.920738220214844,
          -2.3352322578430176,
          3.6799087524414062,
          -3.753349781036377,
          -1.8560664653778076,
          0.837376594543457,
          13.763972282409668,
          0.47644907236099243,
          -15.917078018188477,
          10.201611518859863,
          -12.382647514343262,
          -18.651395797729492,
          8.442126274108887,
          -6.451568126678467,
          -5.797434329986572,
          -17.920007705688477,
          -9.86187744140625,
          -7.378896236419678,
          -25.449703216552734,
          -2.9918501377105713,
          -21.855924606323242,
          -2.5808424949645996,
          4.143921375274658,
          0.5731305480003357,
          -1.528242588043213,
          23.93598175048828,
          -9.326410293579102,
          -3.0249507427215576,
          -12.91523265838623,
          -5.606813907623291,
          -15.591639518737793,
          -10.699810028076172,
          8.497275352478027,
          16.307126998901367,
          4.649428367614746,
          13.929142951965332,
          11.264307022094727,
          20.771987915039062,
          -19.972206115722656,
          -0.08970211446285248,
          -22.19490623474121,
          14.508206367492676,
          5.454800128936768,
          18.35546112060547,
          17.579021453857422,
          18.090450286865234,
          26.550291061401367,
          -0.43544459342956543,
          0.4679194688796997,
          18.960792541503906,
          -7.090993881225586,
          -22.31686782836914,
          -4.762739658355713,
          -11.0372953414917,
          14.156473159790039,
          16.51575469970703,
          -7.660989761352539,
          4.33714485168457,
          14.978921890258789,
          8.346027374267578,
          -2.442634105682373,
          3.3225998878479004,
          3.041527509689331,
          -6.201285362243652,
          19.745441436767578,
          1.895991325378418,
          -8.054006576538086,
          17.827665328979492,
          -6.14154577255249,
          -19.53603744506836,
          25.17517852783203,
          -9.30642032623291,
          0.7571285963058472,
          -15.019632339477539,
          13.047286987304688,
          7.014980316162109,
          10.276711463928223,
          10.095269203186035,
          -3.5810558795928955,
          -23.949556350708008,
          -14.4099702835083,
          2.3388373851776123,
          1.7646996974945068,
          18.294361114501953,
          6.424668788909912,
          -0.1599518358707428,
          -24.733613967895508,
          15.242276191711426,
          -13.535205841064453,
          5.864509105682373,
          -16.915205001831055,
          3.5374412536621094,
          -2.7342052459716797,
          -3.2497503757476807,
          12.969559669494629,
          -22.763072967529297,
          8.122235298156738,
          26.82196044921875,
          16.695724487304688,
          0.1656832993030548,
          2.909405469894409,
          23.702302932739258,
          19.16149139404297,
          29.802637100219727,
          -5.392507076263428,
          32.05807876586914,
          13.564845085144043,
          -11.440094947814941,
          10.914512634277344,
          -0.3538956642150879,
          11.942587852478027,
          8.703203201293945,
          4.956422328948975,
          -8.576347351074219,
          12.285116195678711,
          18.761173248291016,
          21.368223190307617,
          -2.785944700241089,
          21.432451248168945,
          -6.1787567138671875,
          16.484798431396484,
          6.4037346839904785,
          -0.03770052641630173,
          -2.7262914180755615,
          1.4413191080093384,
          5.406783103942871,
          14.266889572143555,
          15.511314392089844,
          21.977367401123047,
          22.494449615478516,
          31.07093620300293,
          -4.977218151092529,
          14.907374382019043,
          0.3051753640174866,
          8.993742942810059,
          -5.149375915527344,
          10.625951766967773,
          -0.09751130640506744,
          10.947349548339844,
          -16.647560119628906,
          7.068892478942871,
          -10.744638442993164,
          -5.497006893157959,
          2.280172824859619,
          -22.185964584350586,
          21.501611709594727,
          -25.67523765563965,
          28.70276641845703,
          -14.200567245483398,
          -11.327051162719727,
          30.487409591674805,
          6.663881778717041,
          23.922000885009766,
          -11.708498001098633,
          -12.13892650604248,
          -15.895395278930664,
          7.522646427154541,
          -7.33925199508667,
          -19.667293548583984,
          1.8966840505599976,
          -5.81635046005249,
          -7.810220241546631,
          15.51352310180664,
          11.042985916137695,
          10.98807144165039,
          -0.603185772895813,
          -13.180191993713379,
          -23.351587295532227,
          -1.8327716588974,
          -12.298577308654785,
          -21.131681442260742,
          -11.480890274047852,
          -19.4892520904541,
          6.608370304107666,
          5.687033176422119,
          -4.9754958152771,
          19.066396713256836,
          5.80222749710083,
          -14.49959659576416,
          -25.574338912963867,
          1.7920448780059814,
          -3.4302778244018555,
          13.255537033081055,
          -23.08845329284668,
          21.246000289916992,
          9.043135643005371,
          7.1634345054626465,
          -6.226244926452637,
          -23.548734664916992,
          21.28873062133789,
          -23.7308292388916,
          -22.909460067749023,
          -13.133115768432617,
          23.102800369262695,
          -14.044705390930176,
          -16.55473518371582,
          34.55598068237305,
          5.107534885406494,
          -9.112567901611328,
          16.024497985839844,
          3.0678865909576416,
          18.160566329956055,
          -0.23164233565330505,
          -2.793614625930786,
          -13.775750160217285,
          7.250938892364502,
          -5.424201488494873,
          -14.152798652648926,
          7.010971546173096,
          21.88179588317871,
          -0.2269941121339798,
          -6.8676228523254395,
          -11.37104320526123,
          25.642486572265625,
          -21.5396728515625,
          8.193894386291504,
          -7.7579522132873535,
          -21.046600341796875,
          -28.850339889526367,
          22.238019943237305,
          0.3514358401298523,
          -12.722132682800293,
          -4.741669178009033,
          -14.48200798034668,
          13.106205940246582,
          3.2170135974884033,
          7.071343898773193,
          -9.335638999938965
         ]
        }
       ],
       "layout": {
        "legend": {
         "tracegroupgap": 0
        },
        "margin": {
         "t": 60
        },
        "scene": {
         "domain": {
          "x": [
           0,
           1
          ],
          "y": [
           0,
           1
          ]
         },
         "xaxis": {
          "title": {
           "text": "x"
          }
         },
         "yaxis": {
          "title": {
           "text": "y"
          }
         },
         "zaxis": {
          "title": {
           "text": "z"
          }
         }
        },
        "template": {
         "data": {
          "bar": [
           {
            "error_x": {
             "color": "#2a3f5f"
            },
            "error_y": {
             "color": "#2a3f5f"
            },
            "marker": {
             "line": {
              "color": "#E5ECF6",
              "width": 0.5
             },
             "pattern": {
              "fillmode": "overlay",
              "size": 10,
              "solidity": 0.2
             }
            },
            "type": "bar"
           }
          ],
          "barpolar": [
           {
            "marker": {
             "line": {
              "color": "#E5ECF6",
              "width": 0.5
             },
             "pattern": {
              "fillmode": "overlay",
              "size": 10,
              "solidity": 0.2
             }
            },
            "type": "barpolar"
           }
          ],
          "carpet": [
           {
            "aaxis": {
             "endlinecolor": "#2a3f5f",
             "gridcolor": "white",
             "linecolor": "white",
             "minorgridcolor": "white",
             "startlinecolor": "#2a3f5f"
            },
            "baxis": {
             "endlinecolor": "#2a3f5f",
             "gridcolor": "white",
             "linecolor": "white",
             "minorgridcolor": "white",
             "startlinecolor": "#2a3f5f"
            },
            "type": "carpet"
           }
          ],
          "choropleth": [
           {
            "colorbar": {
             "outlinewidth": 0,
             "ticks": ""
            },
            "type": "choropleth"
           }
          ],
          "contour": [
           {
            "colorbar": {
             "outlinewidth": 0,
             "ticks": ""
            },
            "colorscale": [
             [
              0,
              "#0d0887"
             ],
             [
              0.1111111111111111,
              "#46039f"
             ],
             [
              0.2222222222222222,
              "#7201a8"
             ],
             [
              0.3333333333333333,
              "#9c179e"
             ],
             [
              0.4444444444444444,
              "#bd3786"
             ],
             [
              0.5555555555555556,
              "#d8576b"
             ],
             [
              0.6666666666666666,
              "#ed7953"
             ],
             [
              0.7777777777777778,
              "#fb9f3a"
             ],
             [
              0.8888888888888888,
              "#fdca26"
             ],
             [
              1,
              "#f0f921"
             ]
            ],
            "type": "contour"
           }
          ],
          "contourcarpet": [
           {
            "colorbar": {
             "outlinewidth": 0,
             "ticks": ""
            },
            "type": "contourcarpet"
           }
          ],
          "heatmap": [
           {
            "colorbar": {
             "outlinewidth": 0,
             "ticks": ""
            },
            "colorscale": [
             [
              0,
              "#0d0887"
             ],
             [
              0.1111111111111111,
              "#46039f"
             ],
             [
              0.2222222222222222,
              "#7201a8"
             ],
             [
              0.3333333333333333,
              "#9c179e"
             ],
             [
              0.4444444444444444,
              "#bd3786"
             ],
             [
              0.5555555555555556,
              "#d8576b"
             ],
             [
              0.6666666666666666,
              "#ed7953"
             ],
             [
              0.7777777777777778,
              "#fb9f3a"
             ],
             [
              0.8888888888888888,
              "#fdca26"
             ],
             [
              1,
              "#f0f921"
             ]
            ],
            "type": "heatmap"
           }
          ],
          "heatmapgl": [
           {
            "colorbar": {
             "outlinewidth": 0,
             "ticks": ""
            },
            "colorscale": [
             [
              0,
              "#0d0887"
             ],
             [
              0.1111111111111111,
              "#46039f"
             ],
             [
              0.2222222222222222,
              "#7201a8"
             ],
             [
              0.3333333333333333,
              "#9c179e"
             ],
             [
              0.4444444444444444,
              "#bd3786"
             ],
             [
              0.5555555555555556,
              "#d8576b"
             ],
             [
              0.6666666666666666,
              "#ed7953"
             ],
             [
              0.7777777777777778,
              "#fb9f3a"
             ],
             [
              0.8888888888888888,
              "#fdca26"
             ],
             [
              1,
              "#f0f921"
             ]
            ],
            "type": "heatmapgl"
           }
          ],
          "histogram": [
           {
            "marker": {
             "pattern": {
              "fillmode": "overlay",
              "size": 10,
              "solidity": 0.2
             }
            },
            "type": "histogram"
           }
          ],
          "histogram2d": [
           {
            "colorbar": {
             "outlinewidth": 0,
             "ticks": ""
            },
            "colorscale": [
             [
              0,
              "#0d0887"
             ],
             [
              0.1111111111111111,
              "#46039f"
             ],
             [
              0.2222222222222222,
              "#7201a8"
             ],
             [
              0.3333333333333333,
              "#9c179e"
             ],
             [
              0.4444444444444444,
              "#bd3786"
             ],
             [
              0.5555555555555556,
              "#d8576b"
             ],
             [
              0.6666666666666666,
              "#ed7953"
             ],
             [
              0.7777777777777778,
              "#fb9f3a"
             ],
             [
              0.8888888888888888,
              "#fdca26"
             ],
             [
              1,
              "#f0f921"
             ]
            ],
            "type": "histogram2d"
           }
          ],
          "histogram2dcontour": [
           {
            "colorbar": {
             "outlinewidth": 0,
             "ticks": ""
            },
            "colorscale": [
             [
              0,
              "#0d0887"
             ],
             [
              0.1111111111111111,
              "#46039f"
             ],
             [
              0.2222222222222222,
              "#7201a8"
             ],
             [
              0.3333333333333333,
              "#9c179e"
             ],
             [
              0.4444444444444444,
              "#bd3786"
             ],
             [
              0.5555555555555556,
              "#d8576b"
             ],
             [
              0.6666666666666666,
              "#ed7953"
             ],
             [
              0.7777777777777778,
              "#fb9f3a"
             ],
             [
              0.8888888888888888,
              "#fdca26"
             ],
             [
              1,
              "#f0f921"
             ]
            ],
            "type": "histogram2dcontour"
           }
          ],
          "mesh3d": [
           {
            "colorbar": {
             "outlinewidth": 0,
             "ticks": ""
            },
            "type": "mesh3d"
           }
          ],
          "parcoords": [
           {
            "line": {
             "colorbar": {
              "outlinewidth": 0,
              "ticks": ""
             }
            },
            "type": "parcoords"
           }
          ],
          "pie": [
           {
            "automargin": true,
            "type": "pie"
           }
          ],
          "scatter": [
           {
            "fillpattern": {
             "fillmode": "overlay",
             "size": 10,
             "solidity": 0.2
            },
            "type": "scatter"
           }
          ],
          "scatter3d": [
           {
            "line": {
             "colorbar": {
              "outlinewidth": 0,
              "ticks": ""
             }
            },
            "marker": {
             "colorbar": {
              "outlinewidth": 0,
              "ticks": ""
             }
            },
            "type": "scatter3d"
           }
          ],
          "scattercarpet": [
           {
            "marker": {
             "colorbar": {
              "outlinewidth": 0,
              "ticks": ""
             }
            },
            "type": "scattercarpet"
           }
          ],
          "scattergeo": [
           {
            "marker": {
             "colorbar": {
              "outlinewidth": 0,
              "ticks": ""
             }
            },
            "type": "scattergeo"
           }
          ],
          "scattergl": [
           {
            "marker": {
             "colorbar": {
              "outlinewidth": 0,
              "ticks": ""
             }
            },
            "type": "scattergl"
           }
          ],
          "scattermapbox": [
           {
            "marker": {
             "colorbar": {
              "outlinewidth": 0,
              "ticks": ""
             }
            },
            "type": "scattermapbox"
           }
          ],
          "scatterpolar": [
           {
            "marker": {
             "colorbar": {
              "outlinewidth": 0,
              "ticks": ""
             }
            },
            "type": "scatterpolar"
           }
          ],
          "scatterpolargl": [
           {
            "marker": {
             "colorbar": {
              "outlinewidth": 0,
              "ticks": ""
             }
            },
            "type": "scatterpolargl"
           }
          ],
          "scatterternary": [
           {
            "marker": {
             "colorbar": {
              "outlinewidth": 0,
              "ticks": ""
             }
            },
            "type": "scatterternary"
           }
          ],
          "surface": [
           {
            "colorbar": {
             "outlinewidth": 0,
             "ticks": ""
            },
            "colorscale": [
             [
              0,
              "#0d0887"
             ],
             [
              0.1111111111111111,
              "#46039f"
             ],
             [
              0.2222222222222222,
              "#7201a8"
             ],
             [
              0.3333333333333333,
              "#9c179e"
             ],
             [
              0.4444444444444444,
              "#bd3786"
             ],
             [
              0.5555555555555556,
              "#d8576b"
             ],
             [
              0.6666666666666666,
              "#ed7953"
             ],
             [
              0.7777777777777778,
              "#fb9f3a"
             ],
             [
              0.8888888888888888,
              "#fdca26"
             ],
             [
              1,
              "#f0f921"
             ]
            ],
            "type": "surface"
           }
          ],
          "table": [
           {
            "cells": {
             "fill": {
              "color": "#EBF0F8"
             },
             "line": {
              "color": "white"
             }
            },
            "header": {
             "fill": {
              "color": "#C8D4E3"
             },
             "line": {
              "color": "white"
             }
            },
            "type": "table"
           }
          ]
         },
         "layout": {
          "annotationdefaults": {
           "arrowcolor": "#2a3f5f",
           "arrowhead": 0,
           "arrowwidth": 1
          },
          "autotypenumbers": "strict",
          "coloraxis": {
           "colorbar": {
            "outlinewidth": 0,
            "ticks": ""
           }
          },
          "colorscale": {
           "diverging": [
            [
             0,
             "#8e0152"
            ],
            [
             0.1,
             "#c51b7d"
            ],
            [
             0.2,
             "#de77ae"
            ],
            [
             0.3,
             "#f1b6da"
            ],
            [
             0.4,
             "#fde0ef"
            ],
            [
             0.5,
             "#f7f7f7"
            ],
            [
             0.6,
             "#e6f5d0"
            ],
            [
             0.7,
             "#b8e186"
            ],
            [
             0.8,
             "#7fbc41"
            ],
            [
             0.9,
             "#4d9221"
            ],
            [
             1,
             "#276419"
            ]
           ],
           "sequential": [
            [
             0,
             "#0d0887"
            ],
            [
             0.1111111111111111,
             "#46039f"
            ],
            [
             0.2222222222222222,
             "#7201a8"
            ],
            [
             0.3333333333333333,
             "#9c179e"
            ],
            [
             0.4444444444444444,
             "#bd3786"
            ],
            [
             0.5555555555555556,
             "#d8576b"
            ],
            [
             0.6666666666666666,
             "#ed7953"
            ],
            [
             0.7777777777777778,
             "#fb9f3a"
            ],
            [
             0.8888888888888888,
             "#fdca26"
            ],
            [
             1,
             "#f0f921"
            ]
           ],
           "sequentialminus": [
            [
             0,
             "#0d0887"
            ],
            [
             0.1111111111111111,
             "#46039f"
            ],
            [
             0.2222222222222222,
             "#7201a8"
            ],
            [
             0.3333333333333333,
             "#9c179e"
            ],
            [
             0.4444444444444444,
             "#bd3786"
            ],
            [
             0.5555555555555556,
             "#d8576b"
            ],
            [
             0.6666666666666666,
             "#ed7953"
            ],
            [
             0.7777777777777778,
             "#fb9f3a"
            ],
            [
             0.8888888888888888,
             "#fdca26"
            ],
            [
             1,
             "#f0f921"
            ]
           ]
          },
          "colorway": [
           "#636efa",
           "#EF553B",
           "#00cc96",
           "#ab63fa",
           "#FFA15A",
           "#19d3f3",
           "#FF6692",
           "#B6E880",
           "#FF97FF",
           "#FECB52"
          ],
          "font": {
           "color": "#2a3f5f"
          },
          "geo": {
           "bgcolor": "white",
           "lakecolor": "white",
           "landcolor": "#E5ECF6",
           "showlakes": true,
           "showland": true,
           "subunitcolor": "white"
          },
          "hoverlabel": {
           "align": "left"
          },
          "hovermode": "closest",
          "mapbox": {
           "style": "light"
          },
          "paper_bgcolor": "white",
          "plot_bgcolor": "#E5ECF6",
          "polar": {
           "angularaxis": {
            "gridcolor": "white",
            "linecolor": "white",
            "ticks": ""
           },
           "bgcolor": "#E5ECF6",
           "radialaxis": {
            "gridcolor": "white",
            "linecolor": "white",
            "ticks": ""
           }
          },
          "scene": {
           "xaxis": {
            "backgroundcolor": "#E5ECF6",
            "gridcolor": "white",
            "gridwidth": 2,
            "linecolor": "white",
            "showbackground": true,
            "ticks": "",
            "zerolinecolor": "white"
           },
           "yaxis": {
            "backgroundcolor": "#E5ECF6",
            "gridcolor": "white",
            "gridwidth": 2,
            "linecolor": "white",
            "showbackground": true,
            "ticks": "",
            "zerolinecolor": "white"
           },
           "zaxis": {
            "backgroundcolor": "#E5ECF6",
            "gridcolor": "white",
            "gridwidth": 2,
            "linecolor": "white",
            "showbackground": true,
            "ticks": "",
            "zerolinecolor": "white"
           }
          },
          "shapedefaults": {
           "line": {
            "color": "#2a3f5f"
           }
          },
          "ternary": {
           "aaxis": {
            "gridcolor": "white",
            "linecolor": "white",
            "ticks": ""
           },
           "baxis": {
            "gridcolor": "white",
            "linecolor": "white",
            "ticks": ""
           },
           "bgcolor": "#E5ECF6",
           "caxis": {
            "gridcolor": "white",
            "linecolor": "white",
            "ticks": ""
           }
          },
          "title": {
           "x": 0.05
          },
          "xaxis": {
           "automargin": true,
           "gridcolor": "white",
           "linecolor": "white",
           "ticks": "",
           "title": {
            "standoff": 15
           },
           "zerolinecolor": "white",
           "zerolinewidth": 2
          },
          "yaxis": {
           "automargin": true,
           "gridcolor": "white",
           "linecolor": "white",
           "ticks": "",
           "title": {
            "standoff": 15
           },
           "zerolinecolor": "white",
           "zerolinewidth": 2
          }
         }
        }
       }
      }
     },
     "metadata": {},
     "output_type": "display_data"
    }
   ],
   "source": [
    "import plotly.express as px\n",
    "\n",
    "fig = px.scatter_3d(x=x, y=y, z=z)\n",
    "fig.update_traces(marker=dict(size=3,line=dict(width=2)))\n",
    "fig.show()"
   ]
  },
  {
   "attachments": {},
   "cell_type": "markdown",
   "metadata": {
    "id": "b4AIuIruYHlL"
   },
   "source": [
    "Well that's a not a particularly interesting 3d plot! \n",
    "- How about we label some of the points on the graph to see what words they correspond to:"
   ]
  },
  {
   "cell_type": "code",
   "execution_count": 16,
   "metadata": {
    "colab": {
     "base_uri": "https://localhost:8080/",
     "height": 562
    },
    "id": "nwF1aJAQy9YY",
    "outputId": "bffa0c59-fd6c-47a5-cbdc-b654b5b09b85"
   },
   "outputs": [
    {
     "data": {
      "application/vnd.plotly.v1+json": {
       "config": {
        "plotlyServerURL": "https://plot.ly"
       },
       "data": [
        {
         "hovertemplate": "x=%{x}<br>y=%{y}<br>z=%{z}<br>text=%{text}<extra></extra>",
         "legendgroup": "",
         "marker": {
          "color": "#636efa",
          "line": {
           "width": 2
          },
          "size": 3,
          "symbol": "circle"
         },
         "mode": "markers+text",
         "name": "",
         "scene": "scene",
         "showlegend": false,
         "text": [
          "swe",
          "t5s",
          "gee",
          "scanner",
          "relation",
          "instructions",
          "powell",
          "_k",
          "6w",
          "row",
          "eof",
          "exponent",
          "worlds",
          "033",
          "c24e",
          "dps",
          "competence",
          "648",
          "sands",
          "governors",
          "worked",
          "seth",
          "powers",
          "salah",
          "4j",
          "shudder",
          "xga",
          "indicative",
          "n3jxp",
          "pistol",
          "microchannel",
          "break",
          "unjust",
          "ranks",
          "0j",
          "decompress",
          "udp",
          "fy",
          "philadelphia",
          "compound",
          "90",
          "ax2",
          "denervation",
          "36_q",
          "completely",
          "tightening",
          "sweden",
          "f_",
          "herring",
          "sgcs",
          "justly",
          "makela",
          "chars",
          "frustration",
          "ds",
          "avestan",
          "margaret",
          "spin",
          "resolution",
          "expandibility",
          "aspirations",
          "kgb",
          "brothers",
          "condescending",
          "anthem",
          "pbm",
          "impress",
          "brass",
          "acorn",
          "facility",
          "attendance",
          "faa",
          "warming",
          "vehicles",
          "posture",
          "highly",
          "caching",
          "rome",
          "dagger",
          "tread",
          "tomb",
          "nfl",
          "enterprise",
          "breakfast",
          "arbitrary",
          "allergic",
          "ieee",
          "walton",
          "particulate",
          "accepting",
          "whereby",
          "doses",
          "bombing",
          "appointed",
          "173",
          "leaving",
          "helen",
          "kotrb",
          "triggered",
          "uuencode_len",
          "proclaim",
          "roenick",
          "olney",
          "rope",
          "lester",
          "ruling",
          "analog",
          "karina",
          "holiness",
          "quartz",
          "iftccu",
          "garbo",
          "198",
          "lexicon",
          "5i",
          "kurd",
          "ancestors",
          "handbook_",
          "setjmp",
          "kjv",
          "hiking",
          "stl",
          "nerve",
          "311",
          "stars",
          "moslem",
          "clusters",
          "6us",
          "call_data",
          "burden",
          "6y",
          "winnipeg",
          "bellcore",
          "coke",
          "sixty",
          "mod",
          "swept",
          "strange",
          "collapse",
          "forgotten",
          "suspected",
          "lie",
          "9i",
          "qtct",
          "_z",
          "xtwindow",
          "yah",
          "ending",
          "promised",
          "veto",
          "charging",
          "theist",
          "interprets",
          "q32",
          "mc8v",
          "benefits",
          "burke",
          "donna",
          "827",
          "disadvantage",
          "okx",
          "6um",
          "rumour",
          "happening",
          "collection",
          "skipjacks",
          "suicidal",
          "cxt",
          "ii",
          "778",
          "warranties",
          "serves",
          "acknowledges",
          "tcpdump",
          "keen",
          "administrative",
          "stretches",
          "context",
          "officer",
          "enhance",
          "be",
          "misunderstood",
          "indonesian",
          "differs",
          "transceivers",
          "binding",
          "taligent",
          "robot",
          "gsfc",
          "ic",
          "x3",
          "confession",
          "sun3",
          "7060a",
          "disciple",
          "overthrow",
          "i18n",
          "concealing",
          "psychiatry",
          "delete"
         ],
         "textfont": {
          "size": 10
         },
         "type": "scatter3d",
         "x": [
          -3.1086556911468506,
          -9.981368064880371,
          0.8456273078918457,
          -24.16896629333496,
          -8.834986686706543,
          -7.513537406921387,
          -3.5537939071655273,
          10.796703338623047,
          -15.680855751037598,
          -20.573261260986328,
          -9.839601516723633,
          14.99853801727295,
          6.30860710144043,
          -1.6101447343826294,
          0.008446631021797657,
          0.003987865522503853,
          14.388504981994629,
          -19.46446990966797,
          6.33473539352417,
          23.96904182434082,
          -8.8108491897583,
          4.865626811981201,
          3.506168842315674,
          14.850922584533691,
          -4.859869003295898,
          13.151717185974121,
          -20.236400604248047,
          16.886808395385742,
          -32.38249588012695,
          -13.898942947387695,
          8.556354522705078,
          -13.345491409301758,
          17.0218448638916,
          10.778562545776367,
          -1.2175121307373047,
          16.813737869262695,
          19.91005516052246,
          -15.093951225280762,
          -16.10963249206543,
          -7.861617088317871,
          -14.91816234588623,
          4.3534698486328125,
          10.222630500793457,
          10.692221641540527,
          12.59388256072998,
          23.800745010375977,
          -13.72992992401123,
          0.05220581963658333,
          21.526744842529297,
          9.374229431152344,
          22.96800422668457,
          -3.867961883544922,
          -26.574861526489258,
          1.4200942516326904,
          -19.18250274658203,
          17.24254035949707,
          13.462289810180664,
          -14.923055648803711,
          -27.60531234741211,
          10.069938659667969,
          18.168476104736328,
          1.2412415742874146,
          -4.707480430603027,
          15.953910827636719,
          5.588498115539551,
          -22.756195068359375,
          27.626588821411133,
          10.904789924621582,
          8.35435962677002,
          -27.71700668334961,
          -5.246659755706787,
          7.318578720092773,
          15.636327743530273,
          -21.45376968383789,
          -7.350594997406006,
          14.046795845031738,
          4.515150547027588,
          -1.6446597576141357,
          3.766602039337158,
          -4.731727123260498,
          7.713458061218262,
          -2.120950698852539,
          11.750676155090332,
          0.4198853373527527,
          -28.614788055419922,
          -1.3997085094451904,
          -23.010236740112305,
          -4.987381935119629,
          19.17987632751465,
          13.968330383300781,
          28.367238998413086,
          -10.712838172912598,
          -0.7054135799407959,
          -1.238545298576355,
          -9.215859413146973,
          -10.510441780090332,
          17.71890640258789,
          -7.244305610656738,
          21.251808166503906,
          18.5611515045166,
          24.06063461303711,
          -12.292466163635254,
          24.449474334716797,
          0.3776242136955261,
          -4.209723472595215,
          -8.129653930664062,
          -25.696514129638672,
          -5.236783504486084,
          17.941783905029297,
          10.072176933288574,
          11.5585298538208,
          -14.336217880249023,
          -12.136720657348633,
          -8.058199882507324,
          -2.883737325668335,
          26.46263885498047,
          8.850424766540527,
          23.819721221923828,
          -0.9617414474487305,
          18.124727249145508,
          15.786090850830078,
          -11.393872261047363,
          0.465995192527771,
          -6.700429439544678,
          -18.163684844970703,
          -3.867828369140625,
          -15.134183883666992,
          -1.3391811847686768,
          -12.817381858825684,
          14.31686782836914,
          -6.196707725524902,
          -13.281876564025879,
          -12.445941925048828,
          13.126347541809082,
          -0.7903754115104675,
          -13.075749397277832,
          3.0423660278320312,
          -2.4397032260894775,
          -12.266107559204102,
          2.9010727405548096,
          19.479169845581055,
          5.085561752319336,
          -10.697322845458984,
          -0.4483284652233124,
          -7.206752777099609,
          -2.3368005752563477,
          0.6757407784461975,
          4.977688312530518,
          3.0484204292297363,
          19.0230655670166,
          -5.300212860107422,
          1.4020408391952515,
          20.996183395385742,
          3.9112296104431152,
          -2.5659947395324707,
          -26.199440002441406,
          -10.017414093017578,
          5.251475811004639,
          -11.710874557495117,
          4.534581184387207,
          4.2150139808654785,
          -22.634191513061523,
          11.503798484802246,
          6.358336925506592,
          -30.505550384521484,
          -9.602166175842285,
          8.458422660827637,
          -22.73829460144043,
          -24.660690307617188,
          -5.886410713195801,
          9.082971572875977,
          -0.17116761207580566,
          18.626964569091797,
          2.757934331893921,
          21.166242599487305,
          -25.499547958374023,
          -9.230311393737793,
          12.200754165649414,
          -5.506844997406006,
          16.902156829833984,
          -27.329626083374023,
          9.66113567352295,
          19.93223762512207,
          11.082179069519043,
          8.331855773925781,
          12.680316925048828,
          15.697983741760254,
          0.3659653067588806,
          -19.419214248657227,
          -24.887332916259766,
          -20.955623626708984,
          16.984561920166016,
          -20.78260040283203,
          17.372581481933594,
          26.139785766601562,
          23.652164459228516,
          0.32276567816734314,
          18.416425704956055,
          17.606929779052734,
          -26.544240951538086
         ],
         "y": [
          1.6443568468093872,
          -7.42945671081543,
          -12.484148025512695,
          -15.475135803222656,
          1.2151192426681519,
          -19.297086715698242,
          0.06417454034090042,
          1.4866743087768555,
          -2.9394445419311523,
          21.1575870513916,
          -15.783211708068848,
          -0.3329196870326996,
          4.825238227844238,
          6.452478408813477,
          -1.0016518831253052,
          16.512929916381836,
          0.8945853114128113,
          8.92512321472168,
          11.076220512390137,
          -5.288840293884277,
          -12.56646728515625,
          -0.024480080232024193,
          1.309532642364502,
          -9.749161720275879,
          -2.8521311283111572,
          -6.070965766906738,
          -3.1807610988616943,
          -10.601408958435059,
          -0.8392103314399719,
          6.240217685699463,
          11.761634826660156,
          -19.539888381958008,
          -1.364111304283142,
          6.489684581756592,
          -9.132280349731445,
          18.289520263671875,
          -1.1890904903411865,
          -2.2089109420776367,
          23.505517959594727,
          -6.375484466552734,
          18.885093688964844,
          -3.13877010345459,
          5.940788745880127,
          -2.3571736812591553,
          -13.30945873260498,
          1.6260554790496826,
          19.093605041503906,
          -2.837674617767334,
          9.615987777709961,
          5.466053485870361,
          -2.2632532119750977,
          4.108948707580566,
          -0.8863108158111572,
          2.2685840129852295,
          16.22870635986328,
          2.3339579105377197,
          -3.9890365600585938,
          -10.698469161987305,
          -12.493555068969727,
          6.097040176391602,
          8.970979690551758,
          14.511968612670898,
          -7.38230562210083,
          -4.039621353149414,
          -6.838028430938721,
          -0.3406279385089874,
          11.597557067871094,
          6.937649250030518,
          9.690666198730469,
          9.001502990722656,
          7.9751105308532715,
          16.49489974975586,
          6.543243408203125,
          0.7644532918930054,
          -12.460482597351074,
          -4.7575178146362305,
          15.946721076965332,
          -0.5224583148956299,
          3.931652307510376,
          1.1066782474517822,
          -14.519006729125977,
          -3.9856209754943848,
          15.186418533325195,
          11.258397102355957,
          -6.061995983123779,
          -16.996864318847656,
          8.994831085205078,
          7.4920973777771,
          -7.700321674346924,
          -8.752552032470703,
          1.6480778455734253,
          -12.536463737487793,
          -4.622056484222412,
          3.073956251144409,
          2.455284595489502,
          -2.6980888843536377,
          -7.178313255310059,
          5.3176469802856445,
          11.519344329833984,
          16.185131072998047,
          -14.822783470153809,
          14.213902473449707,
          -8.67416763305664,
          -0.10044225305318832,
          12.30834674835205,
          1.2637395858764648,
          -12.614476203918457,
          -11.880345344543457,
          0.607249915599823,
          10.361053466796875,
          -7.2142744064331055,
          12.074764251708984,
          -8.231321334838867,
          6.5323100090026855,
          -0.9123791456222534,
          4.4319562911987305,
          4.558082103729248,
          -7.019698143005371,
          5.6410298347473145,
          0.979502260684967,
          -11.301902770996094,
          22.059284210205078,
          -9.547811508178711,
          6.437829971313477,
          20.055461883544922,
          -4.508111000061035,
          -0.32573196291923523,
          -5.589558124542236,
          -8.489097595214844,
          -5.15887975692749,
          -3.026127338409424,
          23.273183822631836,
          10.124509811401367,
          10.071379661560059,
          9.027623176574707,
          2.157341957092285,
          6.332301616668701,
          -13.164166450500488,
          -0.7020389437675476,
          -1.6618428230285645,
          10.237181663513184,
          -14.841552734375,
          7.3661603927612305,
          -7.255215644836426,
          3.211864709854126,
          3.485940933227539,
          -8.103404998779297,
          8.338679313659668,
          -7.7308244705200195,
          -14.561820983886719,
          -6.592257499694824,
          -14.870366096496582,
          -15.811225891113281,
          -9.946610450744629,
          -4.013484477996826,
          -3.7619028091430664,
          14.092720031738281,
          -4.314628601074219,
          8.977943420410156,
          -14.483179092407227,
          -3.945148229598999,
          -1.365328311920166,
          0.928382396697998,
          -18.695507049560547,
          -1.5757603645324707,
          14.140193939208984,
          -7.861144065856934,
          5.238163948059082,
          16.81513214111328,
          10.551936149597168,
          3.5711512565612793,
          -19.83216667175293,
          -11.581330299377441,
          10.130661010742188,
          -11.781946182250977,
          2.641496181488037,
          -6.952868938446045,
          -17.286495208740234,
          -1.4502533674240112,
          14.7910795211792,
          -14.294865608215332,
          -13.09414291381836,
          -7.451496124267578,
          9.334418296813965,
          13.04634952545166,
          2.528026580810547,
          0.44105345010757446,
          5.602795600891113,
          6.11024808883667,
          16.01352310180664,
          15.823801040649414,
          5.369184494018555,
          0.1762591451406479,
          9.302424430847168,
          -10.20175838470459,
          5.5333428382873535,
          0.4828810691833496,
          -2.705893039703369,
          -6.956149578094482,
          1.193261742591858
         ],
         "z": [
          0.2656736671924591,
          -14.926896095275879,
          3.821951389312744,
          1.0721372365951538,
          19.919742584228516,
          -1.7716587781906128,
          16.694608688354492,
          -7.557948112487793,
          -16.662811279296875,
          4.289956569671631,
          -9.58825969696045,
          -28.119709014892578,
          -11.156991958618164,
          -20.965429306030273,
          -25.196123123168945,
          -5.712071418762207,
          0.6870131492614746,
          0.757434606552124,
          9.5265474319458,
          -17.02935218811035,
          23.104482650756836,
          -3.605957269668579,
          26.744020462036133,
          -13.214118957519531,
          -24.06543731689453,
          -14.258130073547363,
          -9.672786712646484,
          0.8610760569572449,
          7.718844413757324,
          20.190876007080078,
          -20.019733428955078,
          4.0805535316467285,
          9.254935264587402,
          16.769851684570312,
          -25.691043853759766,
          1.146785020828247,
          -18.054807662963867,
          -22.179685592651367,
          18.521142959594727,
          28.71127700805664,
          18.856386184692383,
          -28.12367057800293,
          2.9100654125213623,
          -6.736807346343994,
          18.470504760742188,
          -16.406578063964844,
          12.80228042602539,
          -20.68204689025879,
          -4.429401397705078,
          -16.773630142211914,
          1.08229398727417,
          4.203641414642334,
          -7.0940022468566895,
          3.341481924057007,
          0.27839773893356323,
          6.481012344360352,
          -4.244665145874023,
          7.405473232269287,
          -3.62497615814209,
          -20.614105224609375,
          12.86101245880127,
          7.778408527374268,
          23.259567260742188,
          -8.09588623046875,
          -16.68759536743164,
          2.8455920219421387,
          -1.624359369277954,
          -4.553891181945801,
          -23.001741409301758,
          14.4827299118042,
          9.970475196838379,
          5.8397722244262695,
          3.013061285018921,
          21.208446502685547,
          9.693334579467773,
          26.271377563476562,
          -18.602048873901367,
          25.187314987182617,
          8.642891883850098,
          12.624275207519531,
          15.613277435302734,
          5.7241997718811035,
          14.70095443725586,
          -2.8170011043548584,
          6.597742557525635,
          13.622417449951172,
          12.964618682861328,
          -3.478560209274292,
          4.097311496734619,
          18.57523536682129,
          3.03707218170166,
          13.657116889953613,
          28.440725326538086,
          27.13284683227539,
          0.861764132976532,
          26.451955795288086,
          -25.331850051879883,
          -8.361673355102539,
          -15.314291954040527,
          -12.18571662902832,
          -17.906570434570312,
          11.354900360107422,
          2.249727725982666,
          8.442061424255371,
          4.618815898895264,
          24.60114860534668,
          -0.05757911875844002,
          22.58365821838379,
          2.6924171447753906,
          -16.517465591430664,
          -27.387983322143555,
          -8.294305801391602,
          -18.970081329345703,
          23.49119758605957,
          -21.47460174560547,
          -4.9395952224731445,
          14.947599411010742,
          -4.272756099700928,
          -16.386699676513672,
          -16.167984008789062,
          -7.812448501586914,
          17.037668228149414,
          11.76982593536377,
          0.5416420102119446,
          13.089532852172852,
          26.00904083251953,
          -0.1875610053539276,
          -28.74155616760254,
          -7.0550537109375,
          18.708721160888672,
          -19.53891944885254,
          14.187901496887207,
          -9.30956745147705,
          -2.0263538360595703,
          8.108818054199219,
          -5.351627349853516,
          11.932311058044434,
          15.111775398254395,
          18.428844451904297,
          15.84323787689209,
          6.036997318267822,
          22.573955535888672,
          -22.31403923034668,
          -5.272227764129639,
          -4.1146745681762695,
          -25.100690841674805,
          3.789656639099121,
          16.88770294189453,
          19.281654357910156,
          -4.511715888977051,
          6.773581027984619,
          13.463918685913086,
          -15.041803359985352,
          -23.511510848999023,
          -14.340048789978027,
          18.056398391723633,
          -0.9842751026153564,
          -3.7050375938415527,
          -2.1259143352508545,
          -1.7898681163787842,
          -14.626769065856934,
          -20.72216796875,
          -19.68320655822754,
          15.578471183776855,
          16.35264778137207,
          6.582064628601074,
          5.115530967712402,
          -3.525447130203247,
          13.36201286315918,
          -5.831289768218994,
          -27.46817398071289,
          16.33333969116211,
          -16.325729370117188,
          -18.19241714477539,
          -0.5176316499710083,
          15.224968910217285,
          3.5668468475341797,
          20.08487892150879,
          30.068279266357422,
          5.1447858810424805,
          13.662518501281738,
          -0.4642859101295471,
          -1.9346225261688232,
          20.353675842285156,
          -9.763051986694336,
          20.94212532043457,
          -19.90212631225586,
          -6.750599384307861,
          5.167563438415527,
          2.55161714553833,
          3.6041364669799805,
          -3.0711536407470703,
          -4.136358737945557,
          -11.752854347229004,
          -10.28203296661377,
          4.569159507751465,
          -17.495800018310547,
          3.7535817623138428,
          -5.571962833404541,
          0.8186809420585632
         ]
        }
       ],
       "layout": {
        "legend": {
         "tracegroupgap": 0
        },
        "margin": {
         "t": 60
        },
        "scene": {
         "domain": {
          "x": [
           0,
           1
          ],
          "y": [
           0,
           1
          ]
         },
         "xaxis": {
          "title": {
           "text": "x"
          }
         },
         "yaxis": {
          "title": {
           "text": "y"
          }
         },
         "zaxis": {
          "title": {
           "text": "z"
          }
         }
        },
        "template": {
         "data": {
          "bar": [
           {
            "error_x": {
             "color": "#2a3f5f"
            },
            "error_y": {
             "color": "#2a3f5f"
            },
            "marker": {
             "line": {
              "color": "#E5ECF6",
              "width": 0.5
             },
             "pattern": {
              "fillmode": "overlay",
              "size": 10,
              "solidity": 0.2
             }
            },
            "type": "bar"
           }
          ],
          "barpolar": [
           {
            "marker": {
             "line": {
              "color": "#E5ECF6",
              "width": 0.5
             },
             "pattern": {
              "fillmode": "overlay",
              "size": 10,
              "solidity": 0.2
             }
            },
            "type": "barpolar"
           }
          ],
          "carpet": [
           {
            "aaxis": {
             "endlinecolor": "#2a3f5f",
             "gridcolor": "white",
             "linecolor": "white",
             "minorgridcolor": "white",
             "startlinecolor": "#2a3f5f"
            },
            "baxis": {
             "endlinecolor": "#2a3f5f",
             "gridcolor": "white",
             "linecolor": "white",
             "minorgridcolor": "white",
             "startlinecolor": "#2a3f5f"
            },
            "type": "carpet"
           }
          ],
          "choropleth": [
           {
            "colorbar": {
             "outlinewidth": 0,
             "ticks": ""
            },
            "type": "choropleth"
           }
          ],
          "contour": [
           {
            "colorbar": {
             "outlinewidth": 0,
             "ticks": ""
            },
            "colorscale": [
             [
              0,
              "#0d0887"
             ],
             [
              0.1111111111111111,
              "#46039f"
             ],
             [
              0.2222222222222222,
              "#7201a8"
             ],
             [
              0.3333333333333333,
              "#9c179e"
             ],
             [
              0.4444444444444444,
              "#bd3786"
             ],
             [
              0.5555555555555556,
              "#d8576b"
             ],
             [
              0.6666666666666666,
              "#ed7953"
             ],
             [
              0.7777777777777778,
              "#fb9f3a"
             ],
             [
              0.8888888888888888,
              "#fdca26"
             ],
             [
              1,
              "#f0f921"
             ]
            ],
            "type": "contour"
           }
          ],
          "contourcarpet": [
           {
            "colorbar": {
             "outlinewidth": 0,
             "ticks": ""
            },
            "type": "contourcarpet"
           }
          ],
          "heatmap": [
           {
            "colorbar": {
             "outlinewidth": 0,
             "ticks": ""
            },
            "colorscale": [
             [
              0,
              "#0d0887"
             ],
             [
              0.1111111111111111,
              "#46039f"
             ],
             [
              0.2222222222222222,
              "#7201a8"
             ],
             [
              0.3333333333333333,
              "#9c179e"
             ],
             [
              0.4444444444444444,
              "#bd3786"
             ],
             [
              0.5555555555555556,
              "#d8576b"
             ],
             [
              0.6666666666666666,
              "#ed7953"
             ],
             [
              0.7777777777777778,
              "#fb9f3a"
             ],
             [
              0.8888888888888888,
              "#fdca26"
             ],
             [
              1,
              "#f0f921"
             ]
            ],
            "type": "heatmap"
           }
          ],
          "heatmapgl": [
           {
            "colorbar": {
             "outlinewidth": 0,
             "ticks": ""
            },
            "colorscale": [
             [
              0,
              "#0d0887"
             ],
             [
              0.1111111111111111,
              "#46039f"
             ],
             [
              0.2222222222222222,
              "#7201a8"
             ],
             [
              0.3333333333333333,
              "#9c179e"
             ],
             [
              0.4444444444444444,
              "#bd3786"
             ],
             [
              0.5555555555555556,
              "#d8576b"
             ],
             [
              0.6666666666666666,
              "#ed7953"
             ],
             [
              0.7777777777777778,
              "#fb9f3a"
             ],
             [
              0.8888888888888888,
              "#fdca26"
             ],
             [
              1,
              "#f0f921"
             ]
            ],
            "type": "heatmapgl"
           }
          ],
          "histogram": [
           {
            "marker": {
             "pattern": {
              "fillmode": "overlay",
              "size": 10,
              "solidity": 0.2
             }
            },
            "type": "histogram"
           }
          ],
          "histogram2d": [
           {
            "colorbar": {
             "outlinewidth": 0,
             "ticks": ""
            },
            "colorscale": [
             [
              0,
              "#0d0887"
             ],
             [
              0.1111111111111111,
              "#46039f"
             ],
             [
              0.2222222222222222,
              "#7201a8"
             ],
             [
              0.3333333333333333,
              "#9c179e"
             ],
             [
              0.4444444444444444,
              "#bd3786"
             ],
             [
              0.5555555555555556,
              "#d8576b"
             ],
             [
              0.6666666666666666,
              "#ed7953"
             ],
             [
              0.7777777777777778,
              "#fb9f3a"
             ],
             [
              0.8888888888888888,
              "#fdca26"
             ],
             [
              1,
              "#f0f921"
             ]
            ],
            "type": "histogram2d"
           }
          ],
          "histogram2dcontour": [
           {
            "colorbar": {
             "outlinewidth": 0,
             "ticks": ""
            },
            "colorscale": [
             [
              0,
              "#0d0887"
             ],
             [
              0.1111111111111111,
              "#46039f"
             ],
             [
              0.2222222222222222,
              "#7201a8"
             ],
             [
              0.3333333333333333,
              "#9c179e"
             ],
             [
              0.4444444444444444,
              "#bd3786"
             ],
             [
              0.5555555555555556,
              "#d8576b"
             ],
             [
              0.6666666666666666,
              "#ed7953"
             ],
             [
              0.7777777777777778,
              "#fb9f3a"
             ],
             [
              0.8888888888888888,
              "#fdca26"
             ],
             [
              1,
              "#f0f921"
             ]
            ],
            "type": "histogram2dcontour"
           }
          ],
          "mesh3d": [
           {
            "colorbar": {
             "outlinewidth": 0,
             "ticks": ""
            },
            "type": "mesh3d"
           }
          ],
          "parcoords": [
           {
            "line": {
             "colorbar": {
              "outlinewidth": 0,
              "ticks": ""
             }
            },
            "type": "parcoords"
           }
          ],
          "pie": [
           {
            "automargin": true,
            "type": "pie"
           }
          ],
          "scatter": [
           {
            "fillpattern": {
             "fillmode": "overlay",
             "size": 10,
             "solidity": 0.2
            },
            "type": "scatter"
           }
          ],
          "scatter3d": [
           {
            "line": {
             "colorbar": {
              "outlinewidth": 0,
              "ticks": ""
             }
            },
            "marker": {
             "colorbar": {
              "outlinewidth": 0,
              "ticks": ""
             }
            },
            "type": "scatter3d"
           }
          ],
          "scattercarpet": [
           {
            "marker": {
             "colorbar": {
              "outlinewidth": 0,
              "ticks": ""
             }
            },
            "type": "scattercarpet"
           }
          ],
          "scattergeo": [
           {
            "marker": {
             "colorbar": {
              "outlinewidth": 0,
              "ticks": ""
             }
            },
            "type": "scattergeo"
           }
          ],
          "scattergl": [
           {
            "marker": {
             "colorbar": {
              "outlinewidth": 0,
              "ticks": ""
             }
            },
            "type": "scattergl"
           }
          ],
          "scattermapbox": [
           {
            "marker": {
             "colorbar": {
              "outlinewidth": 0,
              "ticks": ""
             }
            },
            "type": "scattermapbox"
           }
          ],
          "scatterpolar": [
           {
            "marker": {
             "colorbar": {
              "outlinewidth": 0,
              "ticks": ""
             }
            },
            "type": "scatterpolar"
           }
          ],
          "scatterpolargl": [
           {
            "marker": {
             "colorbar": {
              "outlinewidth": 0,
              "ticks": ""
             }
            },
            "type": "scatterpolargl"
           }
          ],
          "scatterternary": [
           {
            "marker": {
             "colorbar": {
              "outlinewidth": 0,
              "ticks": ""
             }
            },
            "type": "scatterternary"
           }
          ],
          "surface": [
           {
            "colorbar": {
             "outlinewidth": 0,
             "ticks": ""
            },
            "colorscale": [
             [
              0,
              "#0d0887"
             ],
             [
              0.1111111111111111,
              "#46039f"
             ],
             [
              0.2222222222222222,
              "#7201a8"
             ],
             [
              0.3333333333333333,
              "#9c179e"
             ],
             [
              0.4444444444444444,
              "#bd3786"
             ],
             [
              0.5555555555555556,
              "#d8576b"
             ],
             [
              0.6666666666666666,
              "#ed7953"
             ],
             [
              0.7777777777777778,
              "#fb9f3a"
             ],
             [
              0.8888888888888888,
              "#fdca26"
             ],
             [
              1,
              "#f0f921"
             ]
            ],
            "type": "surface"
           }
          ],
          "table": [
           {
            "cells": {
             "fill": {
              "color": "#EBF0F8"
             },
             "line": {
              "color": "white"
             }
            },
            "header": {
             "fill": {
              "color": "#C8D4E3"
             },
             "line": {
              "color": "white"
             }
            },
            "type": "table"
           }
          ]
         },
         "layout": {
          "annotationdefaults": {
           "arrowcolor": "#2a3f5f",
           "arrowhead": 0,
           "arrowwidth": 1
          },
          "autotypenumbers": "strict",
          "coloraxis": {
           "colorbar": {
            "outlinewidth": 0,
            "ticks": ""
           }
          },
          "colorscale": {
           "diverging": [
            [
             0,
             "#8e0152"
            ],
            [
             0.1,
             "#c51b7d"
            ],
            [
             0.2,
             "#de77ae"
            ],
            [
             0.3,
             "#f1b6da"
            ],
            [
             0.4,
             "#fde0ef"
            ],
            [
             0.5,
             "#f7f7f7"
            ],
            [
             0.6,
             "#e6f5d0"
            ],
            [
             0.7,
             "#b8e186"
            ],
            [
             0.8,
             "#7fbc41"
            ],
            [
             0.9,
             "#4d9221"
            ],
            [
             1,
             "#276419"
            ]
           ],
           "sequential": [
            [
             0,
             "#0d0887"
            ],
            [
             0.1111111111111111,
             "#46039f"
            ],
            [
             0.2222222222222222,
             "#7201a8"
            ],
            [
             0.3333333333333333,
             "#9c179e"
            ],
            [
             0.4444444444444444,
             "#bd3786"
            ],
            [
             0.5555555555555556,
             "#d8576b"
            ],
            [
             0.6666666666666666,
             "#ed7953"
            ],
            [
             0.7777777777777778,
             "#fb9f3a"
            ],
            [
             0.8888888888888888,
             "#fdca26"
            ],
            [
             1,
             "#f0f921"
            ]
           ],
           "sequentialminus": [
            [
             0,
             "#0d0887"
            ],
            [
             0.1111111111111111,
             "#46039f"
            ],
            [
             0.2222222222222222,
             "#7201a8"
            ],
            [
             0.3333333333333333,
             "#9c179e"
            ],
            [
             0.4444444444444444,
             "#bd3786"
            ],
            [
             0.5555555555555556,
             "#d8576b"
            ],
            [
             0.6666666666666666,
             "#ed7953"
            ],
            [
             0.7777777777777778,
             "#fb9f3a"
            ],
            [
             0.8888888888888888,
             "#fdca26"
            ],
            [
             1,
             "#f0f921"
            ]
           ]
          },
          "colorway": [
           "#636efa",
           "#EF553B",
           "#00cc96",
           "#ab63fa",
           "#FFA15A",
           "#19d3f3",
           "#FF6692",
           "#B6E880",
           "#FF97FF",
           "#FECB52"
          ],
          "font": {
           "color": "#2a3f5f"
          },
          "geo": {
           "bgcolor": "white",
           "lakecolor": "white",
           "landcolor": "#E5ECF6",
           "showlakes": true,
           "showland": true,
           "subunitcolor": "white"
          },
          "hoverlabel": {
           "align": "left"
          },
          "hovermode": "closest",
          "mapbox": {
           "style": "light"
          },
          "paper_bgcolor": "white",
          "plot_bgcolor": "#E5ECF6",
          "polar": {
           "angularaxis": {
            "gridcolor": "white",
            "linecolor": "white",
            "ticks": ""
           },
           "bgcolor": "#E5ECF6",
           "radialaxis": {
            "gridcolor": "white",
            "linecolor": "white",
            "ticks": ""
           }
          },
          "scene": {
           "xaxis": {
            "backgroundcolor": "#E5ECF6",
            "gridcolor": "white",
            "gridwidth": 2,
            "linecolor": "white",
            "showbackground": true,
            "ticks": "",
            "zerolinecolor": "white"
           },
           "yaxis": {
            "backgroundcolor": "#E5ECF6",
            "gridcolor": "white",
            "gridwidth": 2,
            "linecolor": "white",
            "showbackground": true,
            "ticks": "",
            "zerolinecolor": "white"
           },
           "zaxis": {
            "backgroundcolor": "#E5ECF6",
            "gridcolor": "white",
            "gridwidth": 2,
            "linecolor": "white",
            "showbackground": true,
            "ticks": "",
            "zerolinecolor": "white"
           }
          },
          "shapedefaults": {
           "line": {
            "color": "#2a3f5f"
           }
          },
          "ternary": {
           "aaxis": {
            "gridcolor": "white",
            "linecolor": "white",
            "ticks": ""
           },
           "baxis": {
            "gridcolor": "white",
            "linecolor": "white",
            "ticks": ""
           },
           "bgcolor": "#E5ECF6",
           "caxis": {
            "gridcolor": "white",
            "linecolor": "white",
            "ticks": ""
           }
          },
          "title": {
           "x": 0.05
          },
          "xaxis": {
           "automargin": true,
           "gridcolor": "white",
           "linecolor": "white",
           "ticks": "",
           "title": {
            "standoff": 15
           },
           "zerolinecolor": "white",
           "zerolinewidth": 2
          },
          "yaxis": {
           "automargin": true,
           "gridcolor": "white",
           "linecolor": "white",
           "ticks": "",
           "title": {
            "standoff": 15
           },
           "zerolinecolor": "white",
           "zerolinewidth": 2
          }
         }
        }
       }
      }
     },
     "metadata": {},
     "output_type": "display_data"
    }
   ],
   "source": [
    "fig = px.scatter_3d(x=x[:200],y=y[:200],z=z[:200],text=sample[:200])\n",
    "fig.update_traces(marker=dict(size=3,line=dict(width=2)),textfont_size=10)\n",
    "fig.show()"
   ]
  },
  {
   "attachments": {},
   "cell_type": "markdown",
   "metadata": {
    "id": "Pr1QqmH9YHlL"
   },
   "source": [
    "Let's extend the random set of terms with a set of colours to see if they cluster:"
   ]
  },
  {
   "cell_type": "code",
   "execution_count": 17,
   "metadata": {
    "id": "K_z7NLqgYHlL"
   },
   "outputs": [],
   "source": [
    "# Add some specific terms to sample:\n",
    "colours = ['red','green','blue','orange','yellow','purple','pink','cream','brown','black','white','gray']\n",
    "\n",
    "word_vectors = model.wv[colours+sample]\n",
    "\n",
    "tsne = TSNE(n_components=3)\n",
    "tsne_embedding = tsne.fit_transform(word_vectors)\n",
    "\n",
    "x, y, z = np.transpose(tsne_embedding)"
   ]
  },
  {
   "cell_type": "code",
   "execution_count": 18,
   "metadata": {
    "colab": {
     "base_uri": "https://localhost:8080/",
     "height": 562
    },
    "id": "fOBvqtDE-HZL",
    "outputId": "6658e627-f7d8-408f-9fb1-c865d8d5622e"
   },
   "outputs": [
    {
     "data": {
      "application/vnd.plotly.v1+json": {
       "config": {
        "plotlyServerURL": "https://plot.ly"
       },
       "data": [
        {
         "hovertemplate": "x=%{x}<br>y=%{y}<br>z=%{z}<br>text=%{text}<extra></extra>",
         "legendgroup": "",
         "marker": {
          "color": "#636efa",
          "line": {
           "width": 2
          },
          "size": 3,
          "symbol": "circle"
         },
         "mode": "markers+text",
         "name": "",
         "scene": "scene",
         "showlegend": false,
         "text": [
          "red",
          "green",
          "blue",
          "orange",
          "yellow",
          "purple",
          "pink",
          "cream",
          "brown",
          "black",
          "white",
          "gray",
          null,
          null,
          null,
          null,
          null,
          null,
          null,
          null,
          null,
          null,
          null,
          null,
          null,
          null,
          null,
          null,
          null,
          null,
          null,
          null,
          null,
          null,
          null,
          null,
          null,
          null,
          null,
          null,
          null,
          null,
          null,
          null,
          null,
          null,
          null,
          null,
          null,
          null,
          null,
          null,
          null,
          null,
          null,
          null,
          null,
          null,
          null,
          null,
          null,
          null,
          null,
          null,
          null,
          null,
          null,
          null,
          null,
          null,
          null,
          null,
          null,
          null,
          null,
          null,
          null,
          null,
          null,
          null,
          null,
          null,
          null,
          null,
          null,
          null,
          null,
          null,
          null,
          null,
          null,
          null,
          null,
          null,
          null,
          null,
          null,
          null,
          null,
          null,
          null,
          null,
          null,
          null,
          null,
          null,
          null,
          null,
          null,
          null,
          null,
          null,
          null,
          null,
          null,
          null,
          null,
          null,
          null,
          null,
          null,
          null,
          null,
          null,
          null,
          null,
          null,
          null,
          null,
          null,
          null,
          null,
          null,
          null,
          null,
          null,
          null,
          null,
          null,
          null,
          null,
          null,
          null,
          null,
          null,
          null,
          null,
          null,
          null,
          null,
          null,
          null,
          null,
          null,
          null,
          null,
          null,
          null,
          null,
          null,
          null,
          null,
          null,
          null,
          null,
          null,
          null,
          null,
          null,
          null,
          null,
          null,
          null,
          null,
          null,
          null,
          null,
          null,
          null,
          null,
          null,
          null,
          null,
          null,
          null,
          null,
          null,
          null,
          null,
          null,
          null,
          null,
          null,
          null,
          null,
          null,
          null,
          null,
          null,
          null,
          null,
          null,
          null,
          null,
          null,
          null,
          null,
          null,
          null,
          null,
          null,
          null,
          null,
          null,
          null,
          null,
          null,
          null,
          null,
          null,
          null,
          null,
          null,
          null,
          null,
          null,
          null,
          null,
          null,
          null,
          null,
          null,
          null,
          null,
          null,
          null,
          null,
          null,
          null,
          null,
          null,
          null,
          null,
          null,
          null,
          null,
          null,
          null,
          null,
          null,
          null,
          null,
          null,
          null,
          null,
          null,
          null,
          null,
          null,
          null,
          null,
          null,
          null,
          null,
          null,
          null,
          null,
          null,
          null,
          null,
          null,
          null,
          null,
          null,
          null,
          null,
          null,
          null,
          null,
          null,
          null,
          null,
          null,
          null,
          null,
          null,
          null,
          null,
          null,
          null,
          null,
          null,
          null,
          null,
          null,
          null,
          null,
          null,
          null,
          null,
          null,
          null,
          null,
          null,
          null,
          null,
          null,
          null,
          null,
          null,
          null,
          null,
          null,
          null,
          null,
          null,
          null,
          null,
          null,
          null,
          null,
          null,
          null,
          null,
          null,
          null,
          null,
          null,
          null,
          null,
          null,
          null,
          null,
          null,
          null,
          null,
          null,
          null,
          null,
          null,
          null,
          null,
          null,
          null,
          null,
          null,
          null,
          null,
          null,
          null,
          null,
          null,
          null,
          null,
          null,
          null,
          null,
          null,
          null,
          null,
          null,
          null,
          null,
          null,
          null,
          null,
          null,
          null,
          null,
          null,
          null,
          null,
          null,
          null,
          null,
          null,
          null,
          null,
          null,
          null,
          null,
          null,
          null,
          null,
          null,
          null,
          null,
          null,
          null,
          null,
          null,
          null,
          null,
          null,
          null,
          null,
          null,
          null,
          null,
          null,
          null,
          null,
          null,
          null,
          null,
          null,
          null,
          null,
          null,
          null,
          null,
          null,
          null,
          null,
          null,
          null,
          null,
          null,
          null,
          null,
          null,
          null,
          null,
          null,
          null,
          null,
          null,
          null,
          null,
          null,
          null,
          null,
          null,
          null,
          null,
          null,
          null,
          null,
          null,
          null,
          null,
          null,
          null,
          null,
          null,
          null,
          null,
          null,
          null,
          null,
          null,
          null,
          null,
          null,
          null,
          null,
          null,
          null,
          null,
          null,
          null,
          null,
          null,
          null,
          null,
          null,
          null,
          null,
          null,
          null,
          null,
          null,
          null,
          null,
          null,
          null,
          null,
          null,
          null,
          null,
          null,
          null,
          null,
          null,
          null,
          null,
          null,
          null,
          null,
          null,
          null,
          null,
          null,
          null,
          null,
          null,
          null,
          null,
          null,
          null,
          null,
          null,
          null,
          null,
          null,
          null,
          null,
          null,
          null,
          null,
          null,
          null
         ],
         "textfont": {
          "size": 10
         },
         "type": "scatter3d",
         "x": [
          -18.347143173217773,
          -10.41171932220459,
          -13.6912841796875,
          -4.001265048980713,
          0.03746621683239937,
          7.066638946533203,
          -5.85722541809082,
          -2.5529942512512207,
          -15.41322135925293,
          -17.87354850769043,
          -17.401826858520508,
          8.687255859375,
          -9.759490966796875,
          -12.237014770507812,
          0.7631534337997437,
          11.003289222717285,
          -3.3343193531036377,
          27.104217529296875,
          -0.9603933095932007,
          -10.276201248168945,
          -20.793630599975586,
          -4.546020984649658,
          24.507951736450195,
          -3.273127317428589,
          5.475366592407227,
          0.29701662063598633,
          -9.357942581176758,
          -24.802108764648438,
          -4.286139011383057,
          -2.8845906257629395,
          -12.095610618591309,
          -0.9185754656791687,
          -0.8567717671394348,
          -22.04062271118164,
          5.814949989318848,
          -7.09871768951416,
          -13.280159950256348,
          -3.5863490104675293,
          22.43780517578125,
          -11.76996898651123,
          -13.789371490478516,
          -7.332130432128906,
          9.669642448425293,
          4.5103583335876465,
          8.779034614562988,
          5.672712326049805,
          -19.16031837463379,
          -13.657809257507324,
          -7.12125825881958,
          -16.64546012878418,
          -22.218944549560547,
          -0.8328213691711426,
          -19.54142951965332,
          -10.515945434570312,
          1.613189697265625,
          -14.902310371398926,
          22.41162109375,
          -23.807424545288086,
          -13.609552383422852,
          -11.045215606689453,
          14.178244590759277,
          4.010889530181885,
          0.9956328272819519,
          -5.898896217346191,
          3.260211229324341,
          -6.25070333480835,
          -4.48004150390625,
          4.866444110870361,
          -14.927144050598145,
          0.5956217050552368,
          11.851320266723633,
          3.807039737701416,
          -4.106977939605713,
          -12.92965316772461,
          -2.455568790435791,
          -9.473182678222656,
          -8.921216011047363,
          10.958392143249512,
          -18.34295654296875,
          -3.4838342666625977,
          7.983694076538086,
          0.5456461310386658,
          -11.420104026794434,
          -2.0777573585510254,
          3.868220090866089,
          1.2870113849639893,
          13.0623197555542,
          17.44327163696289,
          18.664194107055664,
          0.07733667641878128,
          -19.144880294799805,
          -5.524118900299072,
          12.91191291809082,
          2.0254268646240234,
          -3.796552896499634,
          -13.471306800842285,
          22.324016571044922,
          16.672405242919922,
          -2.1982614994049072,
          -15.111141204833984,
          -6.561643600463867,
          18.995464324951172,
          2.1192469596862793,
          16.64356231689453,
          5.818833827972412,
          1.0962870121002197,
          -5.299865245819092,
          -5.740873336791992,
          -10.678367614746094,
          -19.268102645874023,
          9.130976676940918,
          9.288152694702148,
          -13.288971900939941,
          -8.069403648376465,
          -5.15488338470459,
          4.009335994720459,
          -15.116775512695312,
          -4.922030925750732,
          11.67599868774414,
          0.8011674880981445,
          -0.36866480112075806,
          8.734225273132324,
          -12.20645809173584,
          14.043571472167969,
          -11.818724632263184,
          -10.108238220214844,
          -10.510357856750488,
          -19.380123138427734,
          3.2837305068969727,
          -11.26537036895752,
          1.6942697763442993,
          -4.4725165367126465,
          -5.34765100479126,
          -20.61493492126465,
          11.28465461730957,
          -10.3786039352417,
          -16.265743255615234,
          0.7535437941551208,
          2.9022347927093506,
          -15.106200218200684,
          12.881226539611816,
          15.257091522216797,
          -14.284483909606934,
          -17.41782569885254,
          11.923856735229492,
          7.535247802734375,
          -8.677617073059082,
          -3.3948018550872803,
          -14.70424747467041,
          21.55097198486328,
          -0.16114181280136108,
          0.6654465794563293,
          -2.7172024250030518,
          17.338397979736328,
          -25.656408309936523,
          -26.939334869384766,
          -13.551349639892578,
          -5.74247932434082,
          0.47631576657295227,
          -11.081950187683105,
          7.622295379638672,
          -14.07913875579834,
          4.499504089355469,
          17.635446548461914,
          -16.819860458374023,
          -17.775039672851562,
          -14.480318069458008,
          14.800186157226562,
          -20.966333389282227,
          -26.85693359375,
          -10.774637222290039,
          18.95330238342285,
          -12.387388229370117,
          0.6760309934616089,
          -2.9756221771240234,
          16.512203216552734,
          13.266197204589844,
          -18.839187622070312,
          8.374839782714844,
          13.227311134338379,
          -6.6697492599487305,
          -17.99036979675293,
          -0.5478776693344116,
          12.503945350646973,
          -12.73436450958252,
          5.815091609954834,
          -8.017889976501465,
          7.02820348739624,
          4.061521530151367,
          24.35951042175293,
          2.1385676860809326,
          -9.870390892028809,
          25.66852378845215,
          14.572850227355957,
          -6.338475227355957,
          9.229629516601562,
          13.34508228302002,
          9.844392776489258,
          -1.9503604173660278,
          -9.264006614685059,
          0.9981958866119385,
          1.0973554849624634,
          -3.665583372116089,
          0.09681670367717743,
          17.866710662841797,
          11.383315086364746,
          -17.856388092041016,
          -10.272110939025879,
          -5.44662618637085,
          -1.055230975151062,
          -6.670227527618408,
          17.276187896728516,
          -9.072864532470703,
          12.00388240814209,
          -3.5194075107574463,
          0.26793402433395386,
          13.561236381530762,
          -1.0418113470077515,
          -1.0924931764602661,
          14.261306762695312,
          -18.689685821533203,
          -11.379007339477539,
          -4.74103307723999,
          -0.951325535774231,
          -1.114690899848938,
          -7.947652339935303,
          10.67506217956543,
          -15.337023735046387,
          5.480508804321289,
          -1.7745130062103271,
          8.704096794128418,
          -8.589972496032715,
          22.072994232177734,
          -10.891016960144043,
          10.842419624328613,
          0.6612886786460876,
          26.15485382080078,
          -15.822455406188965,
          17.02799415588379,
          5.004859924316406,
          -4.677700996398926,
          13.249064445495605,
          17.920534133911133,
          0.42448318004608154,
          12.262069702148438,
          3.088958740234375,
          -15.966997146606445,
          -7.389749050140381,
          -20.745508193969727,
          6.671017169952393,
          -19.26386833190918,
          4.452066898345947,
          10.288786888122559,
          1.988508701324463,
          2.539348602294922,
          18.938831329345703,
          -19.717187881469727,
          15.47496509552002,
          10.806224822998047,
          10.129134178161621,
          -7.37930154800415,
          2.9690957069396973,
          -21.18766212463379,
          -12.807198524475098,
          -14.631799697875977,
          6.579719066619873,
          -7.701456546783447,
          -17.08417510986328,
          -9.661675453186035,
          15.963458061218262,
          -6.328612327575684,
          13.578530311584473,
          -18.725589752197266,
          0.34318044781684875,
          6.345416069030762,
          4.332449436187744,
          10.11595630645752,
          10.537749290466309,
          3.047945976257324,
          -11.725940704345703,
          9.577910423278809,
          2.7139313220977783,
          14.16836166381836,
          -11.251144409179688,
          1.5705231428146362,
          -14.284642219543457,
          5.830862522125244,
          12.588959693908691,
          -2.517733335494995,
          -10.98365592956543,
          -7.058673858642578,
          -6.880382061004639,
          -19.577550888061523,
          -0.00962699856609106,
          -16.42188835144043,
          8.05236530303955,
          11.642643928527832,
          -3.226053476333618,
          17.752317428588867,
          -17.432626724243164,
          -14.70368766784668,
          11.677309036254883,
          -1.554694652557373,
          18.435842514038086,
          -10.45208740234375,
          30.505823135375977,
          5.435250282287598,
          -6.037430286407471,
          -2.617225408554077,
          27.047082901000977,
          -0.8696569204330444,
          15.78821086883545,
          15.522866249084473,
          -2.7499749660491943,
          14.819087982177734,
          -7.614014148712158,
          17.804773330688477,
          5.014010906219482,
          9.55768871307373,
          11.49000358581543,
          1.596922755241394,
          17.43643569946289,
          6.172210693359375,
          0.08737137913703918,
          -20.1391658782959,
          -10.034436225891113,
          4.220328330993652,
          22.09820556640625,
          1.0135128498077393,
          7.555699825286865,
          4.8927764892578125,
          20.825702667236328,
          7.741561412811279,
          10.211324691772461,
          -14.969740867614746,
          -11.036468505859375,
          -23.005308151245117,
          13.186211585998535,
          -7.686713218688965,
          -4.8681511878967285,
          -6.850027561187744,
          -5.929906845092773,
          -1.9113470315933228,
          -4.065264701843262,
          14.293855667114258,
          4.342238903045654,
          -13.351532936096191,
          12.327886581420898,
          8.988429069519043,
          1.1640018224716187,
          -12.152215957641602,
          -11.089512825012207,
          -8.338910102844238,
          -4.115199565887451,
          10.443594932556152,
          4.405859470367432,
          -6.2314653396606445,
          -0.7724534273147583,
          -4.639151096343994,
          -5.280552864074707,
          -10.563630104064941,
          -15.727577209472656,
          -1.7802984714508057,
          -2.6542835235595703,
          4.044590950012207,
          1.428531289100647,
          -10.113025665283203,
          -12.834136009216309,
          5.6652350425720215,
          -11.807331085205078,
          -14.54327392578125,
          -5.709992408752441,
          1.7907806634902954,
          3.2001352310180664,
          -25.17781639099121,
          6.725269317626953,
          13.203136444091797,
          19.838972091674805,
          0.2770830988883972,
          13.307390213012695,
          -1.6641192436218262,
          -10.930306434631348,
          -9.870180130004883,
          -6.98586893081665,
          -13.828102111816406,
          14.299982070922852,
          -14.404065132141113,
          17.16459846496582,
          21.151195526123047,
          10.512715339660645,
          19.51078224182129,
          -1.3428490161895752,
          -21.492502212524414,
          13.953743934631348,
          10.094793319702148,
          14.163707733154297,
          7.598977565765381,
          5.172814846038818,
          4.215839385986328,
          -2.438621997833252,
          8.39853572845459,
          6.295444488525391,
          19.444026947021484,
          23.745155334472656,
          18.864898681640625,
          -7.891566276550293,
          8.93749713897705,
          -7.903341293334961,
          9.811609268188477,
          5.0822672843933105,
          -10.530763626098633,
          15.516767501831055,
          22.867835998535156,
          -12.53173542022705,
          17.030187606811523,
          -15.876933097839355,
          -9.121150970458984,
          2.563260078430176,
          1.5474179983139038,
          -4.080338478088379,
          23.379751205444336,
          -6.0667405128479,
          7.343133926391602,
          -19.625001907348633,
          19.78631591796875,
          -1.0197638273239136,
          29.189607620239258,
          -19.115859985351562,
          -7.587210178375244,
          7.200892925262451,
          -19.05113410949707,
          11.305541038513184,
          7.564603805541992,
          20.562427520751953,
          14.786731719970703,
          0.5724438428878784,
          -2.4383251667022705,
          -13.231226921081543,
          18.95454978942871,
          -10.768320083618164,
          -3.95955753326416,
          0.5707203149795532,
          -15.47156810760498,
          -15.737372398376465,
          9.651761054992676,
          15.873074531555176,
          9.114275932312012,
          19.379823684692383,
          15.607120513916016,
          8.634977340698242,
          -17.067764282226562,
          12.458669662475586,
          21.0295352935791,
          -23.63869857788086,
          -7.9240827560424805,
          -5.817490100860596,
          -15.199618339538574,
          -12.987325668334961,
          -1.3636603355407715,
          9.081952095031738,
          -2.1610050201416016,
          4.698883056640625,
          -0.7372689843177795,
          -12.594470977783203,
          20.9615421295166,
          15.614710807800293,
          21.316484451293945,
          0.12456048280000687,
          -8.603730201721191,
          11.347955703735352,
          -5.583566665649414,
          -11.441800117492676,
          -13.236197471618652,
          2.7693371772766113,
          -5.553777694702148,
          -3.372870922088623,
          -20.391563415527344,
          29.11507225036621,
          -20.936750411987305,
          -17.81048583984375,
          9.729168891906738,
          -5.4651970863342285,
          18.266206741333008,
          0.8855507373809814,
          21.91400718688965,
          3.2767333984375,
          -18.051321029663086,
          -11.19743824005127,
          -21.714933395385742,
          4.949636459350586,
          1.6061155796051025,
          -23.928958892822266,
          5.070491790771484,
          3.0146219730377197,
          6.328938007354736,
          14.406635284423828,
          10.272263526916504,
          18.015291213989258,
          -24.126636505126953,
          20.72385597229004,
          -11.444398880004883,
          -17.121816635131836,
          8.607022285461426,
          6.432311534881592,
          17.337963104248047,
          12.787267684936523,
          -7.78621768951416,
          -16.431217193603516,
          9.721233367919922,
          1.9701365232467651,
          0.9045636057853699,
          -13.393919944763184
         ],
         "y": [
          3.3626976013183594,
          2.4855518341064453,
          2.241091728210449,
          4.868325710296631,
          1.392345666885376,
          -17.061063766479492,
          16.62519645690918,
          4.275730609893799,
          16.747201919555664,
          7.412581920623779,
          12.189582824707031,
          7.3259100914001465,
          3.260265827178955,
          11.898988723754883,
          10.6329984664917,
          -1.4634522199630737,
          34.83552551269531,
          5.024206161499023,
          16.71443748474121,
          -12.428509712219238,
          14.833812713623047,
          8.634361267089844,
          4.452009677886963,
          -22.608287811279297,
          -4.338111877441406,
          2.5011208057403564,
          -1.0884597301483154,
          -10.743805885314941,
          -20.8101806640625,
          10.31045150756836,
          -9.35598087310791,
          -30.25022315979004,
          23.931730270385742,
          -2.2452428340911865,
          30.408693313598633,
          -13.565569877624512,
          3.8117995262145996,
          -10.216631889343262,
          -1.7072036266326904,
          -30.026710510253906,
          25.254505157470703,
          28.599102020263672,
          -14.958633422851562,
          -14.381449699401855,
          -22.733646392822266,
          -19.701679229736328,
          -2.629948139190674,
          -26.06792640686035,
          -19.303125381469727,
          15.42674732208252,
          16.306549072265625,
          37.86591339111328,
          17.869338989257812,
          -7.263090133666992,
          -12.588376998901367,
          -13.917745590209961,
          20.037607192993164,
          -20.482608795166016,
          9.34554672241211,
          -2.4317331314086914,
          -19.456092834472656,
          -10.953643798828125,
          -30.367219924926758,
          3.0804736614227295,
          8.17817497253418,
          -0.43807587027549744,
          16.88618278503418,
          -20.68929100036621,
          -18.7973575592041,
          -5.923790454864502,
          3.0157148838043213,
          -14.217097282409668,
          -23.299802780151367,
          -2.40997576713562,
          30.027372360229492,
          -19.22184181213379,
          -8.262652397155762,
          11.145620346069336,
          -6.434515476226807,
          -10.305383682250977,
          -18.154041290283203,
          25.848800659179688,
          13.042402267456055,
          -7.536345958709717,
          -17.998775482177734,
          31.1673526763916,
          -12.186690330505371,
          25.067628860473633,
          -14.471199989318848,
          27.702360153198242,
          -6.569578170776367,
          13.665369033813477,
          19.680095672607422,
          3.2557616233825684,
          -15.160416603088379,
          -7.391056537628174,
          13.119353294372559,
          11.206518173217773,
          21.349899291992188,
          -0.8487058281898499,
          -28.200593948364258,
          21.47679328918457,
          -38.25392532348633,
          -13.452239990234375,
          31.47538185119629,
          26.3642635345459,
          4.576648712158203,
          35.0382080078125,
          -25.119436264038086,
          3.0725135803222656,
          -26.12371253967285,
          -9.254515647888184,
          -35.84204864501953,
          5.739846229553223,
          -34.11374282836914,
          9.084321022033691,
          6.508539199829102,
          31.670114517211914,
          2.4492149353027344,
          20.345720291137695,
          -22.068891525268555,
          -14.583694458007812,
          -17.854150772094727,
          5.423584461212158,
          14.780635833740234,
          29.119869232177734,
          1.907749891281128,
          -21.39572525024414,
          -17.006568908691406,
          -26.87697982788086,
          0.6831716299057007,
          -20.643325805664062,
          -10.490723609924316,
          11.519641876220703,
          8.441743850708008,
          2.131477117538452,
          11.919845581054688,
          31.51253318786621,
          -1.237226128578186,
          -1.1635651588439941,
          2.4378788471221924,
          21.65397834777832,
          4.587864875793457,
          12.157437324523926,
          4.486889362335205,
          -13.457470893859863,
          -4.3506317138671875,
          0.06979294121265411,
          -7.424771785736084,
          8.877289772033691,
          33.43586349487305,
          21.81232452392578,
          -16.301515579223633,
          14.264850616455078,
          0.09801864624023438,
          4.619918346405029,
          7.767044544219971,
          3.865708589553833,
          6.2552618980407715,
          23.496244430541992,
          24.4773006439209,
          -34.55657958984375,
          2.300689935684204,
          9.260661125183105,
          -32.0509147644043,
          -8.849053382873535,
          -0.004865664057433605,
          26.19256019592285,
          3.9332239627838135,
          -2.095792293548584,
          6.914962291717529,
          -6.5812764167785645,
          -6.9580488204956055,
          9.98900318145752,
          -16.782472610473633,
          21.622358322143555,
          31.974258422851562,
          10.224104881286621,
          -0.21190111339092255,
          10.598674774169922,
          0.032023120671510696,
          -3.6266307830810547,
          -13.509201049804688,
          11.481411933898926,
          -28.45301628112793,
          -3.8871638774871826,
          -33.19357681274414,
          26.3809757232666,
          -7.434773921966553,
          15.08052921295166,
          34.133392333984375,
          -21.661724090576172,
          16.28131675720215,
          -3.4343314170837402,
          -29.221752166748047,
          -17.415283203125,
          -11.523921966552734,
          -25.95458221435547,
          -22.426469802856445,
          -6.622251987457275,
          13.350592613220215,
          13.394584655761719,
          14.46342945098877,
          -12.977317810058594,
          4.8339948654174805,
          -22.97880744934082,
          -23.9121036529541,
          -20.86879539489746,
          -1.3489456176757812,
          -26.173677444458008,
          -23.461557388305664,
          12.64504623413086,
          -16.886924743652344,
          26.858287811279297,
          -12.140121459960938,
          -27.420244216918945,
          21.11484718322754,
          -7.152054309844971,
          -4.291448593139648,
          -23.466426849365234,
          9.286870956420898,
          -22.41253089904785,
          -5.161776542663574,
          5.485202312469482,
          2.824171781539917,
          -24.046701431274414,
          7.407923698425293,
          17.408231735229492,
          5.202356815338135,
          15.182456016540527,
          -22.253612518310547,
          -33.851749420166016,
          24.671085357666016,
          19.62737274169922,
          -30.671775817871094,
          -17.757369995117188,
          11.609659194946289,
          21.968748092651367,
          7.608792304992676,
          -0.20839084684848785,
          21.074542999267578,
          7.008303642272949,
          -0.4948340356349945,
          -29.899646759033203,
          4.733928680419922,
          21.373516082763672,
          -12.973641395568848,
          -1.584299921989441,
          -14.84948444366455,
          -23.440534591674805,
          6.027571678161621,
          -7.149238586425781,
          11.500000953674316,
          -24.673709869384766,
          -28.27982521057129,
          17.770973205566406,
          -7.6727294921875,
          -20.656295776367188,
          -16.703426361083984,
          28.107410430908203,
          -19.87320899963379,
          -19.08287811279297,
          -26.01336097717285,
          15.754175186157227,
          25.376535415649414,
          -13.14736557006836,
          9.638639450073242,
          14.935297966003418,
          -16.359935760498047,
          15.467771530151367,
          -26.12562370300293,
          -4.78329610824585,
          14.975248336791992,
          33.65058898925781,
          -23.34761619567871,
          2.619537353515625,
          17.648651123046875,
          -10.072954177856445,
          -9.897382736206055,
          13.05897045135498,
          35.981956481933594,
          -23.82354164123535,
          -14.074516296386719,
          11.645752906799316,
          -23.549562454223633,
          -20.503223419189453,
          12.91456127166748,
          -2.1786201000213623,
          -15.554466247558594,
          2.419288396835327,
          -11.490164756774902,
          7.635203838348389,
          -5.681795120239258,
          17.01870346069336,
          -18.37547492980957,
          -23.518842697143555,
          5.494390487670898,
          -25.100688934326172,
          -1.7174596786499023,
          6.039894104003906,
          -11.974608421325684,
          -6.965874195098877,
          -5.61097526550293,
          6.926816940307617,
          -14.340568542480469,
          0.9622964859008789,
          0.41478294134140015,
          -11.090822219848633,
          -0.5955292582511902,
          19.379301071166992,
          -1.2618581056594849,
          1.6908851861953735,
          -2.9239354133605957,
          -38.28230285644531,
          -5.934456825256348,
          -29.194856643676758,
          -12.775672912597656,
          28.190690994262695,
          -8.799605369567871,
          -19.445598602294922,
          -22.93398094177246,
          29.885196685791016,
          -10.474719047546387,
          -34.639312744140625,
          2.3000354766845703,
          1.1777615547180176,
          14.415417671203613,
          25.080440521240234,
          20.34918975830078,
          27.37628746032715,
          36.978546142578125,
          0.9250495433807373,
          4.804361343383789,
          16.293895721435547,
          14.386606216430664,
          -9.068910598754883,
          3.920907497406006,
          -2.2989068031311035,
          17.70887565612793,
          24.49958610534668,
          -5.109930992126465,
          12.510759353637695,
          22.05902099609375,
          16.965473175048828,
          1.35601007938385,
          -7.380434513092041,
          0.04316249489784241,
          -15.864481925964355,
          31.37387466430664,
          -3.9368948936462402,
          -25.002212524414062,
          22.14677619934082,
          -22.758480072021484,
          -27.843626022338867,
          28.109081268310547,
          -20.80841636657715,
          6.5802001953125,
          -4.966472625732422,
          22.619096755981445,
          11.006424903869629,
          -13.464081764221191,
          6.156201362609863,
          -19.695106506347656,
          -28.74374008178711,
          5.505790710449219,
          -6.758172035217285,
          -17.36479377746582,
          21.80640983581543,
          5.892512798309326,
          -1.5557767152786255,
          -1.760310173034668,
          16.94539451599121,
          -9.437254905700684,
          -5.93422794342041,
          -19.20363426208496,
          0.8074283003807068,
          -1.8153773546218872,
          -6.772418975830078,
          20.017637252807617,
          -22.880970001220703,
          10.132698059082031,
          35.49873352050781,
          22.822999954223633,
          4.792789936065674,
          5.1451311111450195,
          21.462360382080078,
          26.0606746673584,
          33.93838882446289,
          2.5108654499053955,
          36.03826904296875,
          14.584695816040039,
          -14.435869216918945,
          1.3893301486968994,
          7.7601728439331055,
          22.25110626220703,
          -14.198493003845215,
          -3.676807403564453,
          -15.523667335510254,
          19.817588806152344,
          28.024717330932617,
          19.80504608154297,
          -4.619761943817139,
          -15.170899391174316,
          7.880403995513916,
          -15.398630142211914,
          13.215028762817383,
          1.0964280366897583,
          2.163328170776367,
          3.655135154724121,
          -0.9541141390800476,
          16.785093307495117,
          -21.543170928955078,
          20.01011085510254,
          27.302709579467773,
          32.84431457519531,
          4.08372688293457,
          19.81934928894043,
          -12.873123168945312,
          11.178336143493652,
          -14.651065826416016,
          17.21499252319336,
          5.5533061027526855,
          8.336915016174316,
          18.35548210144043,
          3.0535061359405518,
          -19.170621871948242,
          7.180095195770264,
          -12.50381851196289,
          -29.336214065551758,
          14.5274019241333,
          5.408633232116699,
          31.870849609375,
          -7.316802024841309,
          -5.757805347442627,
          31.804468154907227,
          13.69579029083252,
          24.12164306640625,
          -15.031514167785645,
          -3.3993077278137207,
          -3.156780242919922,
          15.380763053894043,
          -24.15744972229004,
          16.51698875427246,
          2.405801296234131,
          -17.862112045288086,
          7.644320011138916,
          19.33379364013672,
          -18.48894691467285,
          0.3605853319168091,
          -2.559415578842163,
          5.493867874145508,
          -13.866499900817871,
          6.691352844238281,
          -8.779191017150879,
          -33.83359146118164,
          -17.146638870239258,
          -2.7936506271362305,
          10.018580436706543,
          12.26079273223877,
          -10.767679214477539,
          27.538515090942383,
          -5.2668561935424805,
          -14.984078407287598,
          -11.056463241577148,
          5.518855571746826,
          0.6481902599334717,
          14.667622566223145,
          -12.121783256530762,
          28.768632888793945,
          -1.337112545967102,
          9.449999809265137,
          -16.1648006439209,
          9.537379264831543,
          24.8275146484375,
          -10.026799201965332,
          -22.574207305908203,
          11.557866096496582,
          14.636473655700684,
          -13.559903144836426,
          -17.385032653808594,
          39.663238525390625,
          -1.1673637628555298,
          -8.793049812316895,
          25.497936248779297,
          0.20942479372024536,
          28.583459854125977,
          -1.8016525506973267,
          -2.6844570636749268,
          12.024763107299805,
          14.981891632080078,
          -8.662632942199707,
          13.818428993225098,
          -27.22369956970215,
          15.654574394226074,
          -7.06929349899292,
          -10.499757766723633,
          -29.709556579589844,
          27.81964683532715,
          2.300039768218994,
          -14.217994689941406,
          -18.93126678466797,
          -25.423818588256836,
          -18.771638870239258,
          24.485715866088867,
          -2.4988930225372314,
          -7.564101696014404,
          -15.06667709350586,
          9.937817573547363,
          19.90145492553711,
          1.1839135885238647,
          7.721017360687256,
          -7.351417541503906
         ],
         "z": [
          -33.299949645996094,
          -35.180519104003906,
          -34.051448822021484,
          -27.366165161132812,
          -28.20068359375,
          16.551494598388672,
          8.505746841430664,
          6.417917728424072,
          -27.167003631591797,
          -39.05936050415039,
          -39.308677673339844,
          -29.248123168945312,
          3.584737539291382,
          14.954943656921387,
          14.645281791687012,
          -29.73678207397461,
          -8.731969833374023,
          -15.476875305175781,
          0.4940159022808075,
          9.779316902160645,
          20.096092224121094,
          -35.62071990966797,
          -1.087795615196228,
          33.342586517333984,
          18.415897369384766,
          28.952560424804688,
          30.298019409179688,
          -0.3896094262599945,
          -0.12989173829555511,
          -20.970632553100586,
          -12.153900146484375,
          18.150230407714844,
          17.17588996887207,
          -3.4893698692321777,
          -5.151917934417725,
          16.608341217041016,
          28.063045501708984,
          16.663022994995117,
          -19.780031204223633,
          -0.881039559841156,
          -17.44148063659668,
          -13.682219505310059,
          25.962860107421875,
          -28.547515869140625,
          -5.7874226570129395,
          -15.973015785217285,
          30.865171432495117,
          -14.50152587890625,
          21.124095916748047,
          25.927949905395508,
          -27.360437393188477,
          2.4106342792510986,
          -22.39685821533203,
          33.84684753417969,
          -3.5697009563446045,
          9.22752571105957,
          5.377681255340576,
          13.820948600769043,
          -28.405855178833008,
          25.013931274414062,
          12.901556015014648,
          23.623271942138672,
          2.2097597122192383,
          -2.8170502185821533,
          30.35256004333496,
          6.18678092956543,
          -36.881065368652344,
          -3.7794783115386963,
          8.079752922058105,
          -22.444561004638672,
          -36.27882766723633,
          26.95757293701172,
          -11.797384262084961,
          -12.927260398864746,
          5.370708465576172,
          8.555707931518555,
          20.805261611938477,
          -20.093852996826172,
          9.211912155151367,
          2.7968831062316895,
          28.457637786865234,
          -27.810312271118164,
          -5.823861122131348,
          -10.794119834899902,
          0.6084160804748535,
          -21.45572280883789,
          -10.91137409210205,
          -10.941511154174805,
          26.19636344909668,
          -1.9937936067581177,
          -18.28194808959961,
          0.9374895691871643,
          7.961853504180908,
          0.3312638998031616,
          -17.94280433654785,
          -3.707639694213867,
          -11.099542617797852,
          13.519574165344238,
          -24.91289710998535,
          -0.8273417353630066,
          -2.220003366470337,
          -0.08570303022861481,
          2.1377546787261963,
          -15.201001167297363,
          2.155745029449463,
          -6.454824924468994,
          -8.654232025146484,
          0.392949640750885,
          29.0133056640625,
          -16.97235870361328,
          13.180834770202637,
          13.23756217956543,
          17.49557113647461,
          -26.558578491210938,
          -3.872908115386963,
          -0.02304873988032341,
          -5.549850940704346,
          -4.091050624847412,
          -31.373075485229492,
          15.317437171936035,
          -3.0991904735565186,
          21.1796932220459,
          32.476722717285156,
          26.924732208251953,
          19.60823631286621,
          -6.135011672973633,
          24.96683692932129,
          -2.088193416595459,
          -14.162993431091309,
          5.2604660987854,
          23.76028060913086,
          18.31688117980957,
          10.491095542907715,
          -23.047882080078125,
          9.740327835083008,
          -7.1993865966796875,
          -33.25846481323242,
          2.028395414352417,
          -10.823806762695312,
          34.472198486328125,
          -4.779306411743164,
          -2.266103744506836,
          22.37677574157715,
          -26.116497039794922,
          24.169689178466797,
          -0.5221722722053528,
          -7.882754802703857,
          -14.540316581726074,
          -20.831886291503906,
          13.51952075958252,
          -12.73331069946289,
          6.5933661460876465,
          -8.111790657043457,
          2.0995724201202393,
          15.042967796325684,
          2.3382744789123535,
          0.2725832760334015,
          30.027273178100586,
          11.441723823547363,
          7.686531066894531,
          7.4498209953308105,
          5.020122051239014,
          -4.142247200012207,
          9.707441329956055,
          16.808170318603516,
          28.21080780029297,
          17.1507568359375,
          -19.951419830322266,
          -9.649772644042969,
          -1.1738295555114746,
          -16.52975082397461,
          -0.4561862647533417,
          18.351381301879883,
          -40.05959701538086,
          24.70410919189453,
          10.880378723144531,
          -18.428020477294922,
          -10.139686584472656,
          4.244509220123291,
          -13.588180541992188,
          -36.569190979003906,
          1.8303179740905762,
          34.2958984375,
          16.370466232299805,
          19.711956024169922,
          27.325223922729492,
          3.0192008018493652,
          -22.482492446899414,
          -13.495427131652832,
          4.91563606262207,
          7.302151203155518,
          -17.162763595581055,
          -20.0562744140625,
          2.6851603984832764,
          6.8790154457092285,
          -19.370779037475586,
          18.59772491455078,
          -13.697585105895996,
          22.955732345581055,
          1.6096844673156738,
          -17.393003463745117,
          -33.03668975830078,
          -33.118263244628906,
          7.616451740264893,
          -19.290088653564453,
          6.726354598999023,
          10.23687744140625,
          -5.148195743560791,
          23.28701400756836,
          -2.8194453716278076,
          10.213309288024902,
          -20.465085983276367,
          -9.835663795471191,
          13.462606430053711,
          22.333820343017578,
          -9.544991493225098,
          -22.78606414794922,
          -5.679348945617676,
          7.289330959320068,
          -16.93532943725586,
          -29.009662628173828,
          19.82816505432129,
          -23.877077102661133,
          -9.932072639465332,
          -18.75141143798828,
          24.877117156982422,
          -25.2319278717041,
          -10.792309761047363,
          -15.216580390930176,
          5.493187427520752,
          18.751060485839844,
          25.440467834472656,
          2.842580556869507,
          -6.964199066162109,
          19.74108123779297,
          30.216384887695312,
          -15.221720695495605,
          21.703826904296875,
          -29.656986236572266,
          30.962709426879883,
          -11.461366653442383,
          -32.228206634521484,
          5.334296226501465,
          11.092267036437988,
          -8.651094436645508,
          -18.53980255126953,
          1.0146747827529907,
          0.4145376682281494,
          12.9492769241333,
          31.649066925048828,
          -2.956869125366211,
          36.96181869506836,
          -2.77166748046875,
          30.859535217285156,
          25.85483741760254,
          21.12571144104004,
          -8.598072052001953,
          21.072433471679688,
          0.5051676630973816,
          -21.508174896240234,
          27.542499542236328,
          23.558387756347656,
          0.22879207134246826,
          26.354555130004883,
          19.171876907348633,
          11.023741722106934,
          -9.948253631591797,
          -3.406616449356079,
          -20.388957977294922,
          5.965596675872803,
          15.978813171386719,
          -18.88097381591797,
          -30.66057014465332,
          -2.663144588470459,
          7.011120796203613,
          10.899362564086914,
          10.380793571472168,
          3.5250356197357178,
          -29.495248794555664,
          -16.849369049072266,
          -13.898435592651367,
          -16.331501007080078,
          22.294971466064453,
          5.451035976409912,
          16.529083251953125,
          2.874594211578369,
          -18.50165367126465,
          -11.27392292022705,
          1.3540887832641602,
          -0.9538140892982483,
          -15.525086402893066,
          -16.06159782409668,
          19.91764259338379,
          -10.97359561920166,
          19.488832473754883,
          22.08009147644043,
          3.874974012374878,
          5.4847588539123535,
          -16.92080307006836,
          19.8454647064209,
          14.858865737915039,
          -4.028677463531494,
          31.777950286865234,
          -12.512046813964844,
          26.042617797851562,
          -11.447352409362793,
          -29.902833938598633,
          -3.9000802040100098,
          -0.38749217987060547,
          0.9826504588127136,
          15.97107982635498,
          -9.382121086120605,
          27.279922485351562,
          12.121184349060059,
          32.25705337524414,
          12.288663864135742,
          0.823188841342926,
          -29.061214447021484,
          -13.78868579864502,
          -11.037710189819336,
          -9.681373596191406,
          -14.552331924438477,
          30.397493362426758,
          5.138736724853516,
          26.541452407836914,
          -25.453645706176758,
          -22.774063110351562,
          -4.869321346282959,
          1.9682388305664062,
          -13.177828788757324,
          -12.465192794799805,
          -10.381791114807129,
          -11.044153213500977,
          -7.786586761474609,
          6.201572895050049,
          27.113176345825195,
          5.296802997589111,
          22.865764617919922,
          2.4524364471435547,
          -23.706298828125,
          12.984572410583496,
          -15.854605674743652,
          -19.400455474853516,
          -15.07277774810791,
          -18.505128860473633,
          7.039849758148193,
          8.880303382873535,
          8.350275993347168,
          -25.036062240600586,
          2.457204818725586,
          9.66641616821289,
          -0.22643797099590302,
          4.876834869384766,
          21.247358322143555,
          -3.1176140308380127,
          9.09484577178955,
          3.1487438678741455,
          22.931560516357422,
          1.6409839391708374,
          -30.427194595336914,
          -11.843321800231934,
          -27.087263107299805,
          6.502439498901367,
          27.213375091552734,
          22.087984085083008,
          -1.783082365989685,
          -2.8228530883789062,
          -28.06753158569336,
          -22.35588264465332,
          4.401763916015625,
          29.553316116333008,
          -4.400858402252197,
          18.87628746032715,
          -18.403087615966797,
          7.3964128494262695,
          -18.955604553222656,
          -35.815879821777344,
          -6.498241901397705,
          -13.357077598571777,
          26.33155632019043,
          -2.112302780151367,
          0.7312347292900085,
          -21.892845153808594,
          -12.767467498779297,
          -11.379908561706543,
          -9.398214340209961,
          -6.351944446563721,
          2.8078155517578125,
          -4.298373699188232,
          -5.495654106140137,
          17.79197883605957,
          13.55827522277832,
          -30.570209503173828,
          -18.3315372467041,
          13.729958534240723,
          -6.409295082092285,
          7.822021007537842,
          5.507445812225342,
          -9.215805053710938,
          -14.181147575378418,
          -6.258169651031494,
          -6.280600547790527,
          -24.56990623474121,
          -7.686176776885986,
          -18.601163864135742,
          -31.749927520751953,
          -14.701451301574707,
          -17.269922256469727,
          -19.561227798461914,
          -23.9298152923584,
          -2.1840100288391113,
          -8.263713836669922,
          -2.573543071746826,
          -28.761058807373047,
          -3.031087636947632,
          3.4743692874908447,
          -25.714929580688477,
          0.33935776352882385,
          -5.9506072998046875,
          7.226844787597656,
          -7.660057067871094,
          9.832112312316895,
          5.789127826690674,
          16.936182022094727,
          8.199271202087402,
          12.31627368927002,
          -7.556942939758301,
          -8.733402252197266,
          24.639789581298828,
          20.183448791503906,
          30.314401626586914,
          2.531094789505005,
          22.680864334106445,
          -14.212181091308594,
          -6.776566505432129,
          9.205284118652344,
          -6.906585693359375,
          19.031558990478516,
          31.679658889770508,
          18.797426223754883,
          -27.736703872680664,
          8.076289176940918,
          20.40557098388672,
          -5.441049098968506,
          12.354131698608398,
          -6.094964504241943,
          3.604778289794922,
          -0.9478395581245422,
          12.41445255279541,
          -10.0126953125,
          13.985803604125977,
          31.784223556518555,
          -35.157344818115234,
          17.61471176147461,
          19.543481826782227,
          12.466340065002441,
          22.97635269165039,
          -9.900710105895996,
          -13.251439094543457,
          -6.145716667175293,
          -19.480426788330078,
          -27.475126266479492,
          17.504213333129883,
          30.864171981811523,
          -30.457977294921875,
          -23.300552368164062,
          -21.426233291625977,
          28.997543334960938,
          -25.399438858032227,
          10.362691879272461,
          -5.108738422393799,
          4.203314304351807,
          26.209972381591797,
          1.2810364961624146,
          29.679306030273438,
          26.716747283935547,
          11.435997009277344,
          4.304555416107178,
          8.271768569946289,
          25.250967025756836,
          -3.1945323944091797,
          -4.687898635864258,
          16.909557342529297,
          -14.806259155273438,
          -31.577390670776367,
          -15.198742866516113,
          -8.007637023925781,
          -2.736670732498169,
          17.570093154907227,
          11.191362380981445,
          13.111865997314453,
          8.377965927124023,
          -2.2588746547698975,
          17.829248428344727,
          0.0320262648165226,
          8.462308883666992,
          7.60073184967041,
          4.091960430145264,
          17.907445907592773,
          3.9562206268310547,
          13.797151565551758,
          25.77823257446289,
          35.2924690246582,
          -3.2590506076812744,
          -33.53745651245117,
          23.59018898010254,
          5.8401780128479,
          15.380311965942383,
          -19.47311019897461,
          5.9889397621154785,
          5.5852484703063965,
          11.7509126663208
         ]
        }
       ],
       "layout": {
        "legend": {
         "tracegroupgap": 0
        },
        "margin": {
         "t": 60
        },
        "scene": {
         "domain": {
          "x": [
           0,
           1
          ],
          "y": [
           0,
           1
          ]
         },
         "xaxis": {
          "range": [
           -200,
           200
          ],
          "title": {
           "text": "x"
          }
         },
         "yaxis": {
          "range": [
           -200,
           200
          ],
          "title": {
           "text": "y"
          }
         },
         "zaxis": {
          "range": [
           -200,
           200
          ],
          "title": {
           "text": "z"
          }
         }
        },
        "template": {
         "data": {
          "bar": [
           {
            "error_x": {
             "color": "#2a3f5f"
            },
            "error_y": {
             "color": "#2a3f5f"
            },
            "marker": {
             "line": {
              "color": "#E5ECF6",
              "width": 0.5
             },
             "pattern": {
              "fillmode": "overlay",
              "size": 10,
              "solidity": 0.2
             }
            },
            "type": "bar"
           }
          ],
          "barpolar": [
           {
            "marker": {
             "line": {
              "color": "#E5ECF6",
              "width": 0.5
             },
             "pattern": {
              "fillmode": "overlay",
              "size": 10,
              "solidity": 0.2
             }
            },
            "type": "barpolar"
           }
          ],
          "carpet": [
           {
            "aaxis": {
             "endlinecolor": "#2a3f5f",
             "gridcolor": "white",
             "linecolor": "white",
             "minorgridcolor": "white",
             "startlinecolor": "#2a3f5f"
            },
            "baxis": {
             "endlinecolor": "#2a3f5f",
             "gridcolor": "white",
             "linecolor": "white",
             "minorgridcolor": "white",
             "startlinecolor": "#2a3f5f"
            },
            "type": "carpet"
           }
          ],
          "choropleth": [
           {
            "colorbar": {
             "outlinewidth": 0,
             "ticks": ""
            },
            "type": "choropleth"
           }
          ],
          "contour": [
           {
            "colorbar": {
             "outlinewidth": 0,
             "ticks": ""
            },
            "colorscale": [
             [
              0,
              "#0d0887"
             ],
             [
              0.1111111111111111,
              "#46039f"
             ],
             [
              0.2222222222222222,
              "#7201a8"
             ],
             [
              0.3333333333333333,
              "#9c179e"
             ],
             [
              0.4444444444444444,
              "#bd3786"
             ],
             [
              0.5555555555555556,
              "#d8576b"
             ],
             [
              0.6666666666666666,
              "#ed7953"
             ],
             [
              0.7777777777777778,
              "#fb9f3a"
             ],
             [
              0.8888888888888888,
              "#fdca26"
             ],
             [
              1,
              "#f0f921"
             ]
            ],
            "type": "contour"
           }
          ],
          "contourcarpet": [
           {
            "colorbar": {
             "outlinewidth": 0,
             "ticks": ""
            },
            "type": "contourcarpet"
           }
          ],
          "heatmap": [
           {
            "colorbar": {
             "outlinewidth": 0,
             "ticks": ""
            },
            "colorscale": [
             [
              0,
              "#0d0887"
             ],
             [
              0.1111111111111111,
              "#46039f"
             ],
             [
              0.2222222222222222,
              "#7201a8"
             ],
             [
              0.3333333333333333,
              "#9c179e"
             ],
             [
              0.4444444444444444,
              "#bd3786"
             ],
             [
              0.5555555555555556,
              "#d8576b"
             ],
             [
              0.6666666666666666,
              "#ed7953"
             ],
             [
              0.7777777777777778,
              "#fb9f3a"
             ],
             [
              0.8888888888888888,
              "#fdca26"
             ],
             [
              1,
              "#f0f921"
             ]
            ],
            "type": "heatmap"
           }
          ],
          "heatmapgl": [
           {
            "colorbar": {
             "outlinewidth": 0,
             "ticks": ""
            },
            "colorscale": [
             [
              0,
              "#0d0887"
             ],
             [
              0.1111111111111111,
              "#46039f"
             ],
             [
              0.2222222222222222,
              "#7201a8"
             ],
             [
              0.3333333333333333,
              "#9c179e"
             ],
             [
              0.4444444444444444,
              "#bd3786"
             ],
             [
              0.5555555555555556,
              "#d8576b"
             ],
             [
              0.6666666666666666,
              "#ed7953"
             ],
             [
              0.7777777777777778,
              "#fb9f3a"
             ],
             [
              0.8888888888888888,
              "#fdca26"
             ],
             [
              1,
              "#f0f921"
             ]
            ],
            "type": "heatmapgl"
           }
          ],
          "histogram": [
           {
            "marker": {
             "pattern": {
              "fillmode": "overlay",
              "size": 10,
              "solidity": 0.2
             }
            },
            "type": "histogram"
           }
          ],
          "histogram2d": [
           {
            "colorbar": {
             "outlinewidth": 0,
             "ticks": ""
            },
            "colorscale": [
             [
              0,
              "#0d0887"
             ],
             [
              0.1111111111111111,
              "#46039f"
             ],
             [
              0.2222222222222222,
              "#7201a8"
             ],
             [
              0.3333333333333333,
              "#9c179e"
             ],
             [
              0.4444444444444444,
              "#bd3786"
             ],
             [
              0.5555555555555556,
              "#d8576b"
             ],
             [
              0.6666666666666666,
              "#ed7953"
             ],
             [
              0.7777777777777778,
              "#fb9f3a"
             ],
             [
              0.8888888888888888,
              "#fdca26"
             ],
             [
              1,
              "#f0f921"
             ]
            ],
            "type": "histogram2d"
           }
          ],
          "histogram2dcontour": [
           {
            "colorbar": {
             "outlinewidth": 0,
             "ticks": ""
            },
            "colorscale": [
             [
              0,
              "#0d0887"
             ],
             [
              0.1111111111111111,
              "#46039f"
             ],
             [
              0.2222222222222222,
              "#7201a8"
             ],
             [
              0.3333333333333333,
              "#9c179e"
             ],
             [
              0.4444444444444444,
              "#bd3786"
             ],
             [
              0.5555555555555556,
              "#d8576b"
             ],
             [
              0.6666666666666666,
              "#ed7953"
             ],
             [
              0.7777777777777778,
              "#fb9f3a"
             ],
             [
              0.8888888888888888,
              "#fdca26"
             ],
             [
              1,
              "#f0f921"
             ]
            ],
            "type": "histogram2dcontour"
           }
          ],
          "mesh3d": [
           {
            "colorbar": {
             "outlinewidth": 0,
             "ticks": ""
            },
            "type": "mesh3d"
           }
          ],
          "parcoords": [
           {
            "line": {
             "colorbar": {
              "outlinewidth": 0,
              "ticks": ""
             }
            },
            "type": "parcoords"
           }
          ],
          "pie": [
           {
            "automargin": true,
            "type": "pie"
           }
          ],
          "scatter": [
           {
            "fillpattern": {
             "fillmode": "overlay",
             "size": 10,
             "solidity": 0.2
            },
            "type": "scatter"
           }
          ],
          "scatter3d": [
           {
            "line": {
             "colorbar": {
              "outlinewidth": 0,
              "ticks": ""
             }
            },
            "marker": {
             "colorbar": {
              "outlinewidth": 0,
              "ticks": ""
             }
            },
            "type": "scatter3d"
           }
          ],
          "scattercarpet": [
           {
            "marker": {
             "colorbar": {
              "outlinewidth": 0,
              "ticks": ""
             }
            },
            "type": "scattercarpet"
           }
          ],
          "scattergeo": [
           {
            "marker": {
             "colorbar": {
              "outlinewidth": 0,
              "ticks": ""
             }
            },
            "type": "scattergeo"
           }
          ],
          "scattergl": [
           {
            "marker": {
             "colorbar": {
              "outlinewidth": 0,
              "ticks": ""
             }
            },
            "type": "scattergl"
           }
          ],
          "scattermapbox": [
           {
            "marker": {
             "colorbar": {
              "outlinewidth": 0,
              "ticks": ""
             }
            },
            "type": "scattermapbox"
           }
          ],
          "scatterpolar": [
           {
            "marker": {
             "colorbar": {
              "outlinewidth": 0,
              "ticks": ""
             }
            },
            "type": "scatterpolar"
           }
          ],
          "scatterpolargl": [
           {
            "marker": {
             "colorbar": {
              "outlinewidth": 0,
              "ticks": ""
             }
            },
            "type": "scatterpolargl"
           }
          ],
          "scatterternary": [
           {
            "marker": {
             "colorbar": {
              "outlinewidth": 0,
              "ticks": ""
             }
            },
            "type": "scatterternary"
           }
          ],
          "surface": [
           {
            "colorbar": {
             "outlinewidth": 0,
             "ticks": ""
            },
            "colorscale": [
             [
              0,
              "#0d0887"
             ],
             [
              0.1111111111111111,
              "#46039f"
             ],
             [
              0.2222222222222222,
              "#7201a8"
             ],
             [
              0.3333333333333333,
              "#9c179e"
             ],
             [
              0.4444444444444444,
              "#bd3786"
             ],
             [
              0.5555555555555556,
              "#d8576b"
             ],
             [
              0.6666666666666666,
              "#ed7953"
             ],
             [
              0.7777777777777778,
              "#fb9f3a"
             ],
             [
              0.8888888888888888,
              "#fdca26"
             ],
             [
              1,
              "#f0f921"
             ]
            ],
            "type": "surface"
           }
          ],
          "table": [
           {
            "cells": {
             "fill": {
              "color": "#EBF0F8"
             },
             "line": {
              "color": "white"
             }
            },
            "header": {
             "fill": {
              "color": "#C8D4E3"
             },
             "line": {
              "color": "white"
             }
            },
            "type": "table"
           }
          ]
         },
         "layout": {
          "annotationdefaults": {
           "arrowcolor": "#2a3f5f",
           "arrowhead": 0,
           "arrowwidth": 1
          },
          "autotypenumbers": "strict",
          "coloraxis": {
           "colorbar": {
            "outlinewidth": 0,
            "ticks": ""
           }
          },
          "colorscale": {
           "diverging": [
            [
             0,
             "#8e0152"
            ],
            [
             0.1,
             "#c51b7d"
            ],
            [
             0.2,
             "#de77ae"
            ],
            [
             0.3,
             "#f1b6da"
            ],
            [
             0.4,
             "#fde0ef"
            ],
            [
             0.5,
             "#f7f7f7"
            ],
            [
             0.6,
             "#e6f5d0"
            ],
            [
             0.7,
             "#b8e186"
            ],
            [
             0.8,
             "#7fbc41"
            ],
            [
             0.9,
             "#4d9221"
            ],
            [
             1,
             "#276419"
            ]
           ],
           "sequential": [
            [
             0,
             "#0d0887"
            ],
            [
             0.1111111111111111,
             "#46039f"
            ],
            [
             0.2222222222222222,
             "#7201a8"
            ],
            [
             0.3333333333333333,
             "#9c179e"
            ],
            [
             0.4444444444444444,
             "#bd3786"
            ],
            [
             0.5555555555555556,
             "#d8576b"
            ],
            [
             0.6666666666666666,
             "#ed7953"
            ],
            [
             0.7777777777777778,
             "#fb9f3a"
            ],
            [
             0.8888888888888888,
             "#fdca26"
            ],
            [
             1,
             "#f0f921"
            ]
           ],
           "sequentialminus": [
            [
             0,
             "#0d0887"
            ],
            [
             0.1111111111111111,
             "#46039f"
            ],
            [
             0.2222222222222222,
             "#7201a8"
            ],
            [
             0.3333333333333333,
             "#9c179e"
            ],
            [
             0.4444444444444444,
             "#bd3786"
            ],
            [
             0.5555555555555556,
             "#d8576b"
            ],
            [
             0.6666666666666666,
             "#ed7953"
            ],
            [
             0.7777777777777778,
             "#fb9f3a"
            ],
            [
             0.8888888888888888,
             "#fdca26"
            ],
            [
             1,
             "#f0f921"
            ]
           ]
          },
          "colorway": [
           "#636efa",
           "#EF553B",
           "#00cc96",
           "#ab63fa",
           "#FFA15A",
           "#19d3f3",
           "#FF6692",
           "#B6E880",
           "#FF97FF",
           "#FECB52"
          ],
          "font": {
           "color": "#2a3f5f"
          },
          "geo": {
           "bgcolor": "white",
           "lakecolor": "white",
           "landcolor": "#E5ECF6",
           "showlakes": true,
           "showland": true,
           "subunitcolor": "white"
          },
          "hoverlabel": {
           "align": "left"
          },
          "hovermode": "closest",
          "mapbox": {
           "style": "light"
          },
          "paper_bgcolor": "white",
          "plot_bgcolor": "#E5ECF6",
          "polar": {
           "angularaxis": {
            "gridcolor": "white",
            "linecolor": "white",
            "ticks": ""
           },
           "bgcolor": "#E5ECF6",
           "radialaxis": {
            "gridcolor": "white",
            "linecolor": "white",
            "ticks": ""
           }
          },
          "scene": {
           "xaxis": {
            "backgroundcolor": "#E5ECF6",
            "gridcolor": "white",
            "gridwidth": 2,
            "linecolor": "white",
            "showbackground": true,
            "ticks": "",
            "zerolinecolor": "white"
           },
           "yaxis": {
            "backgroundcolor": "#E5ECF6",
            "gridcolor": "white",
            "gridwidth": 2,
            "linecolor": "white",
            "showbackground": true,
            "ticks": "",
            "zerolinecolor": "white"
           },
           "zaxis": {
            "backgroundcolor": "#E5ECF6",
            "gridcolor": "white",
            "gridwidth": 2,
            "linecolor": "white",
            "showbackground": true,
            "ticks": "",
            "zerolinecolor": "white"
           }
          },
          "shapedefaults": {
           "line": {
            "color": "#2a3f5f"
           }
          },
          "ternary": {
           "aaxis": {
            "gridcolor": "white",
            "linecolor": "white",
            "ticks": ""
           },
           "baxis": {
            "gridcolor": "white",
            "linecolor": "white",
            "ticks": ""
           },
           "bgcolor": "#E5ECF6",
           "caxis": {
            "gridcolor": "white",
            "linecolor": "white",
            "ticks": ""
           }
          },
          "title": {
           "x": 0.05
          },
          "xaxis": {
           "automargin": true,
           "gridcolor": "white",
           "linecolor": "white",
           "ticks": "",
           "title": {
            "standoff": 15
           },
           "zerolinecolor": "white",
           "zerolinewidth": 2
          },
          "yaxis": {
           "automargin": true,
           "gridcolor": "white",
           "linecolor": "white",
           "ticks": "",
           "title": {
            "standoff": 15
           },
           "zerolinecolor": "white",
           "zerolinewidth": 2
          }
         }
        }
       }
      }
     },
     "metadata": {},
     "output_type": "display_data"
    }
   ],
   "source": [
    "import plotly.express as px\n",
    "\n",
    "r = (-200,200)\n",
    "fig = px.scatter_3d(x=x, y=y, z=z, range_x=r, range_y=r, range_z=r, text=colours + [None] * 500)\n",
    "fig.update_traces(marker=dict(size=3,line=dict(width=2)),textfont_size=10)\n",
    "fig.show()"
   ]
  },
  {
   "attachments": {},
   "cell_type": "markdown",
   "metadata": {
    "id": "5xBPW2vnYHlM"
   },
   "source": [
    "Note: t-SNE is a stochastic algorithm, so run it a couple of times to see how the visualisation changes.\n",
    "\n",
    "Have a play around with the visualisation to see whether other sets of terms cluster together."
   ]
  },
  {
   "attachments": {},
   "cell_type": "markdown",
   "metadata": {
    "id": "8UxQIRBLYHlM"
   },
   "source": [
    "## Loading Pre-trained Embedding\n",
    "\n",
    "Instead of learning your own word embeddings from a dataset, it is common to download and make use of pre-trained embeddings that have been learnt on very large corpora. \n",
    "- See this list of models available in gensim: https://github.com/RaRe-Technologies/gensim-data\n",
    "- Note how big some of the models are. A 300 dimensional Word2Vec model trained on Google News (word2vec-google-news-300) is almost 1.7GB!\n",
    "\n",
    "Let's downlaod a couple of the smaller models and have a look at them: \n",
    "- We'll download two GloVe (similar to Word2Vec) based models\n",
    "- each has dimension of 50, but the first has been trained on data from Twitter and the second on data from Wikipedia"
   ]
  },
  {
   "cell_type": "code",
   "execution_count": 19,
   "metadata": {
    "colab": {
     "base_uri": "https://localhost:8080/"
    },
    "id": "80lgMVCNYHlM",
    "outputId": "33dc5323-e6e6-44d8-e936-f4d78217f564"
   },
   "outputs": [],
   "source": [
    "import gensim.downloader as api\n",
    "\n",
    "model_twitter = api.load(\"glove-twitter-50\")\n",
    "model_wiki = api.load(\"glove-wiki-gigaword-50\")"
   ]
  },
  {
   "attachments": {},
   "cell_type": "markdown",
   "metadata": {
    "id": "a6Bg80kKYHlM"
   },
   "source": [
    "How big are their vocabularies?"
   ]
  },
  {
   "cell_type": "code",
   "execution_count": 20,
   "metadata": {
    "colab": {
     "base_uri": "https://localhost:8080/"
    },
    "id": "e0CcjNmIYHlM",
    "outputId": "e63e14ac-849b-4f17-b29e-357f43941c86"
   },
   "outputs": [
    {
     "name": "stdout",
     "output_type": "stream",
     "text": [
      "Vocabulary size twitter model:   1193514\n",
      "Vocabulary size wikipedia model: 400000\n"
     ]
    }
   ],
   "source": [
    "print(f\"Vocabulary size twitter model:   {len(model_twitter)}\")\n",
    "print(f\"Vocabulary size wikipedia model: {len(model_wiki)}\")"
   ]
  },
  {
   "attachments": {},
   "cell_type": "markdown",
   "metadata": {
    "id": "7zSEKFVjYHlM"
   },
   "source": [
    "Woah, they are big vocabularies! \n",
    "- The twitter one has over a million tokens!\n",
    "\n",
    "Let's have a look at the most similar terms to the word 'puppy' in Twitter embedding:"
   ]
  },
  {
   "cell_type": "code",
   "execution_count": 21,
   "metadata": {
    "colab": {
     "base_uri": "https://localhost:8080/"
    },
    "id": "czJartaDYHlM",
    "outputId": "51d20399-7f9e-4ea2-efbd-696dab39f09b"
   },
   "outputs": [
    {
     "name": "stdout",
     "output_type": "stream",
     "text": [
      "Twitter embedding, most similar words to: puppy\n"
     ]
    },
    {
     "data": {
      "text/plain": [
       "[('kitten', 0.9134268164634705),\n",
       " ('dog', 0.8790459632873535),\n",
       " ('puppies', 0.8616614937782288),\n",
       " ('doggy', 0.8477216958999634),\n",
       " ('pug', 0.8410165905952454),\n",
       " ('bear', 0.8376337885856628),\n",
       " ('cat', 0.833551287651062),\n",
       " ('kitty', 0.8321102857589722),\n",
       " ('pup', 0.8269115686416626),\n",
       " ('husky', 0.8156433701515198)]"
      ]
     },
     "execution_count": 21,
     "metadata": {},
     "output_type": "execute_result"
    }
   ],
   "source": [
    "term = 'puppy'\n",
    "print(f'Twitter embedding, most similar words to: {term}')\n",
    "model_twitter.most_similar(term)"
   ]
  },
  {
   "attachments": {},
   "cell_type": "markdown",
   "metadata": {
    "id": "D2Wb68G5RWpj"
   },
   "source": [
    "And in the Wikipedia embedding:"
   ]
  },
  {
   "cell_type": "code",
   "execution_count": 22,
   "metadata": {
    "colab": {
     "base_uri": "https://localhost:8080/"
    },
    "id": "G5srhaTuYHlM",
    "outputId": "7e7d2e1b-d998-4572-d696-8b7aee64d457"
   },
   "outputs": [
    {
     "name": "stdout",
     "output_type": "stream",
     "text": [
      "Wikipedia embedding, most similar words to: puppy\n"
     ]
    },
    {
     "data": {
      "text/plain": [
       "[('puppies', 0.805891215801239),\n",
       " ('dog', 0.7754921317100525),\n",
       " ('goat', 0.7691047191619873),\n",
       " ('cat', 0.7625598907470703),\n",
       " ('kitten', 0.7443127036094666),\n",
       " ('retriever', 0.731249988079071),\n",
       " ('rottweiler', 0.7240508198738098),\n",
       " ('rabbit', 0.714431881904602),\n",
       " ('squirrel', 0.7086658477783203),\n",
       " ('bitch', 0.7056955099105835)]"
      ]
     },
     "execution_count": 22,
     "metadata": {},
     "output_type": "execute_result"
    }
   ],
   "source": [
    "print(f'Wikipedia embedding, most similar words to: {term}')\n",
    "model_wiki.most_similar(term)"
   ]
  },
  {
   "attachments": {},
   "cell_type": "markdown",
   "metadata": {
    "id": "ez-9f7DLQpDw"
   },
   "source": [
    "Which embedding is better? \n",
    "\n",
    "Try some other words:"
   ]
  },
  {
   "cell_type": "code",
   "execution_count": 23,
   "metadata": {
    "colab": {
     "base_uri": "https://localhost:8080/"
    },
    "id": "gmwYaVSiYHlN",
    "outputId": "03cb4474-c971-415a-da16-9cfa47f5d33e"
   },
   "outputs": [
    {
     "name": "stdout",
     "output_type": "stream",
     "text": [
      "Twitter embedding:   [('jalisciense', 0.7551586627960205), ('politécnico', 0.7421475648880005), ('velodromo', 0.7381073832511902), ('externado', 0.7372220754623413), ('calasanz', 0.7361231446266174), ('maristas', 0.7354949712753296), ('atletic', 0.7325177788734436), ('champagnat', 0.7301465272903442), ('dominico', 0.7282001972198486), ('maquinista', 0.7259823679924011)]\n",
      "Wikipedia embedding: [('milano', 0.780189037322998), ('certosa', 0.7628414630889893), ('triennale', 0.7528361082077026), ('genova', 0.7016634941101074), ('pavia', 0.6901755332946777), ('mantova', 0.6808378100395203), ('gubbio', 0.6743451356887817), ('firenze', 0.6713488101959229), ('pratica', 0.6634273529052734), ('baler', 0.6576953530311584)]\n"
     ]
    }
   ],
   "source": [
    "# term = 'apple'\n",
    "term = 'politecnico'\n",
    "print(f'Twitter embedding:   {model_twitter.most_similar(term)}')\n",
    "print(f'Wikipedia embedding: {model_wiki.most_similar(term)}')"
   ]
  },
  {
   "attachments": {},
   "cell_type": "markdown",
   "metadata": {
    "id": "iBDEnr-0YHlN"
   },
   "source": [
    "Embedding spaces have interesting geometric properties, where translation between different word vectors caries semantic meaning. \n",
    "- Let's try running the famous analogy: king + (woman - man) = ?\n",
    "- To do that, first generate the resulting word embedding:"
   ]
  },
  {
   "cell_type": "code",
   "execution_count": 24,
   "metadata": {
    "colab": {
     "base_uri": "https://localhost:8080/"
    },
    "id": "t5cMZiNgYHlN",
    "outputId": "3b5d375b-29f2-46ef-f3b7-54d94259397d"
   },
   "outputs": [
    {
     "data": {
      "text/plain": [
       "array([ 0.41736597,  0.90427005, -1.0050299 , -0.06202101,  0.4972599 ,\n",
       "        0.80667007, -0.14855   ,  0.80365   , -0.15654   , -0.66973996,\n",
       "        0.23435399,  0.62476003,  0.925871  , -0.97099996,  0.92566   ,\n",
       "        0.89915   , -1.54596   , -0.52625   ,  0.13695401,  0.66199005,\n",
       "        0.48716003,  0.37035006, -0.214214  ,  0.10100999,  0.71358   ,\n",
       "       -2.0874999 , -1.1362001 , -1.14961   , -0.53599   ,  0.27389997,\n",
       "        1.6723    ,  0.02931   , -0.77656007,  0.46056286,  0.34866   ,\n",
       "       -0.05741701,  0.19444   , -0.207748  , -0.73038995, -0.10752001,\n",
       "        0.23554398,  0.96423995, -0.46994   , -0.48727497, -0.25399995,\n",
       "        0.46212995, -0.66081   , -1.9451499 , -0.68797004, -0.49784002],\n",
       "      dtype=float32)"
      ]
     },
     "execution_count": 24,
     "metadata": {},
     "output_type": "execute_result"
    }
   ],
   "source": [
    "vec = model_wiki.get_vector('king') + (model_wiki.get_vector('woman') - model_wiki.get_vector('man'))  \n",
    "vec"
   ]
  },
  {
   "attachments": {},
   "cell_type": "markdown",
   "metadata": {
    "id": "4uYDSjJ7YHlN"
   },
   "source": [
    "- Then look for the most similar vectors to it: "
   ]
  },
  {
   "cell_type": "code",
   "execution_count": 25,
   "metadata": {
    "colab": {
     "base_uri": "https://localhost:8080/"
    },
    "id": "h5ZMdc5WYHlN",
    "outputId": "7ee88f23-8a2a-469f-8999-c5e53dc70b6d"
   },
   "outputs": [
    {
     "data": {
      "text/plain": [
       "[('king', 0.8859835863113403),\n",
       " ('queen', 0.8609582185745239),\n",
       " ('daughter', 0.7684512138366699),\n",
       " ('prince', 0.7640699744224548),\n",
       " ('throne', 0.7634970545768738),\n",
       " ('princess', 0.7512727975845337),\n",
       " ('elizabeth', 0.7506489157676697),\n",
       " ('father', 0.7314497232437134),\n",
       " ('kingdom', 0.7296158671379089),\n",
       " ('mother', 0.728001058101654)]"
      ]
     },
     "execution_count": 25,
     "metadata": {},
     "output_type": "execute_result"
    }
   ],
   "source": [
    "model_wiki.similar_by_vector(vec)"
   ]
  },
  {
   "attachments": {},
   "cell_type": "markdown",
   "metadata": {
    "id": "tipFzCPnYHlN"
   },
   "source": [
    "Did it work? \n",
    "- Well, yes if you remove 'king' as an option, then it did!\n",
    "- Note that the most similar vector to the word 'king' was not 'queen' but 'prince', so the analogy is indeed changing the order ..."
   ]
  },
  {
   "cell_type": "code",
   "execution_count": 26,
   "metadata": {
    "colab": {
     "base_uri": "https://localhost:8080/"
    },
    "id": "mDV5VRzAYHlN",
    "outputId": "89793725-73e7-40c8-ea86-e94183d5ab5d"
   },
   "outputs": [
    {
     "data": {
      "text/plain": [
       "[('prince', 0.8236179351806641),\n",
       " ('queen', 0.7839044332504272),\n",
       " ('ii', 0.7746230363845825),\n",
       " ('emperor', 0.7736247777938843),\n",
       " ('son', 0.766719400882721),\n",
       " ('uncle', 0.7627150416374207),\n",
       " ('kingdom', 0.7542160749435425),\n",
       " ('throne', 0.7539914846420288),\n",
       " ('brother', 0.7492411136627197),\n",
       " ('ruler', 0.7434254288673401)]"
      ]
     },
     "execution_count": 26,
     "metadata": {},
     "output_type": "execute_result"
    }
   ],
   "source": [
    "model_wiki.most_similar('king')"
   ]
  },
  {
   "attachments": {},
   "cell_type": "markdown",
   "metadata": {
    "id": "_Io7Zm6EYHlN"
   },
   "source": [
    "Try it again but with the Twitter based model"
   ]
  },
  {
   "cell_type": "code",
   "execution_count": 27,
   "metadata": {
    "colab": {
     "base_uri": "https://localhost:8080/"
    },
    "id": "2m511hj-YHlO",
    "outputId": "d7d65730-2d8f-417c-9ad4-dcc7688e6847"
   },
   "outputs": [
    {
     "data": {
      "text/plain": [
       "[('stone', 0.7156721949577332),\n",
       " ('woman', 0.7105388045310974),\n",
       " ('meets', 0.7078650593757629),\n",
       " ('queen', 0.7035095691680908),\n",
       " ('king', 0.7032954096794128),\n",
       " ('royal', 0.700731098651886),\n",
       " ('african', 0.6984355449676514),\n",
       " ('prince', 0.6961742043495178),\n",
       " ('virgin', 0.6757709383964539),\n",
       " ('american', 0.659709632396698)]"
      ]
     },
     "execution_count": 27,
     "metadata": {},
     "output_type": "execute_result"
    }
   ],
   "source": [
    "model = model_twitter\n",
    "vec = model.get_vector('king') + (model.get_vector('woman') - model.get_vector('man')) \n",
    "model.similar_by_vector(vec)"
   ]
  },
  {
   "attachments": {},
   "cell_type": "markdown",
   "metadata": {
    "id": "wtEO2LWIYHlO"
   },
   "source": [
    "Doesn't seem that the Twitter model is as good on that analogy. \n",
    "- If you think about the average quality of text on Twitter versus Wikipedia, then that's probably not suprising!\n",
    "\n",
    "Try some other analogies:\n",
    "- What happens to Rome if we subtract Italy and add France?"
   ]
  },
  {
   "cell_type": "code",
   "execution_count": 28,
   "metadata": {
    "colab": {
     "base_uri": "https://localhost:8080/"
    },
    "id": "NXzOPQy5YHlO",
    "outputId": "0ce28719-f7ea-4fc1-b047-f24f4809dad5"
   },
   "outputs": [
    {
     "data": {
      "text/plain": [
       "[('jakarta', 0.7579053640365601),\n",
       " ('myanmar', 0.7317277193069458),\n",
       " ('indonesia', 0.7256942391395569),\n",
       " ('yangon', 0.7137079238891602),\n",
       " ('manila', 0.7006157040596008),\n",
       " ('cambodia', 0.6926184296607971),\n",
       " ('bangkok', 0.6885414719581604),\n",
       " ('tibet', 0.6764156818389893),\n",
       " ('delhi', 0.6711347699165344),\n",
       " ('philippines', 0.6673232316970825)]"
      ]
     },
     "execution_count": 28,
     "metadata": {},
     "output_type": "execute_result"
    }
   ],
   "source": [
    "A = 'rome'\n",
    "B = 'italy'\n",
    "C = 'france'\n",
    "C = 'indonesia'\n",
    "model = model_wiki\n",
    "vec = model.get_vector(A) - model.get_vector(B) + model.get_vector(C) \n",
    "model.similar_by_vector(vec)"
   ]
  },
  {
   "attachments": {},
   "cell_type": "markdown",
   "metadata": {
    "id": "QeUJZDSTYHlO"
   },
   "source": [
    "Now, **isn't that cool?** ;-)\n",
    "- Try some other countries ...\n",
    "\n",
    "Remember, we are only using the 'small' embeddings of 50 dimensions \n",
    "- you can download and try the bigger ones, some of them with 300 dimensions\n"
   ]
  },
  {
   "attachments": {},
   "cell_type": "markdown",
   "metadata": {
    "id": "stWE8L9GYgRH"
   },
   "source": [
    "## Classifying Tweets with word embeddings\n",
    "\n",
    "Let's try to use the word embeddings as features for a text classifier. \n",
    "- In particular, we'll try the tweet sentiment analysis task from the second session.\n",
    "- First download the dataset:"
   ]
  },
  {
   "cell_type": "code",
   "execution_count": 29,
   "metadata": {
    "colab": {
     "base_uri": "https://localhost:8080/"
    },
    "id": "bckvn64GYqCZ",
    "outputId": "cbb273d8-6bd1-40a8-bc49-00ceba99a530"
   },
   "outputs": [
    {
     "name": "stderr",
     "output_type": "stream",
     "text": [
      "[nltk_data] Downloading package twitter_samples to\n",
      "[nltk_data]     /Users/teo/nltk_data...\n",
      "[nltk_data]   Package twitter_samples is already up-to-date!\n"
     ]
    },
    {
     "data": {
      "text/plain": [
       "True"
      ]
     },
     "execution_count": 29,
     "metadata": {},
     "output_type": "execute_result"
    }
   ],
   "source": [
    "import nltk\n",
    "\n",
    "nltk.download('twitter_samples')"
   ]
  },
  {
   "attachments": {},
   "cell_type": "markdown",
   "metadata": {
    "id": "d5nOSItcaEa9"
   },
   "source": [
    "Then prepare the dataset: \n",
    "- load the positive and negative tweets\n",
    "- remove emoticons from them\n",
    "- and merge them into a single dataset with class labels"
   ]
  },
  {
   "cell_type": "code",
   "execution_count": 30,
   "metadata": {
    "id": "VZBH76pnaTrB"
   },
   "outputs": [],
   "source": [
    "from nltk.corpus import twitter_samples\n",
    "\n",
    "positive_tweets = twitter_samples.strings('positive_tweets.json')\n",
    "negative_tweets = twitter_samples.strings('negative_tweets.json')\n",
    "\n",
    "import re \n",
    "\n",
    "emoticon_regex = '(\\:\\w+\\:|\\<[\\/\\\\]?3|[\\(\\)\\\\\\D|\\*\\$][\\-\\^]?[\\:\\;\\=]|[\\:\\;\\=B8][\\-\\^]?[3DOPp\\@\\$\\*\\\\\\)\\(\\/\\|])(?=\\s|[\\!\\.\\?]|$)'\n",
    "positive_tweets_noemoticons = [re.sub(emoticon_regex,'',tweet) for tweet in positive_tweets]\n",
    "negative_tweets_noemoticons = [re.sub(emoticon_regex,'',tweet) for tweet in negative_tweets]\n",
    "\n",
    "tweets_x = positive_tweets_noemoticons + negative_tweets_noemoticons\n",
    "tweets_y = ['positive']*len(positive_tweets) + ['negative']*len(negative_tweets)"
   ]
  },
  {
   "attachments": {},
   "cell_type": "markdown",
   "metadata": {
    "id": "ik6TlpDFa3Pt"
   },
   "source": [
    "Divide the data into train, validation and test sets:"
   ]
  },
  {
   "cell_type": "code",
   "execution_count": 31,
   "metadata": {
    "id": "sTDd49KVbC_o"
   },
   "outputs": [],
   "source": [
    "from sklearn.model_selection import train_test_split\n",
    "\n",
    "temp_x, test_x, temp_y, test_y = train_test_split(tweets_x, tweets_y, test_size=0.2)\n",
    "train_x, valid_x, train_y, valid_y = train_test_split(temp_x, temp_y, test_size=0.2)"
   ]
  },
  {
   "attachments": {},
   "cell_type": "markdown",
   "metadata": {
    "id": "r1aACZFHc_eg"
   },
   "source": [
    "Now we need to convert the tweets to an embedding representation. \n",
    "- We can do that by computing the sum (or average) of the embedding vectors of the words in the tweet.\n",
    "- To work out how to do that, let's have a look at the first tweet in the dataset, converting it to lowercase and tokenise it on whitespace:"
   ]
  },
  {
   "cell_type": "code",
   "execution_count": 32,
   "metadata": {
    "colab": {
     "base_uri": "https://localhost:8080/"
    },
    "id": "qVrlyZrqc_vz",
    "outputId": "27a60b79-2565-46c4-d0dc-f8150270051d"
   },
   "outputs": [
    {
     "name": "stdout",
     "output_type": "stream",
     "text": [
      "tweet: 'How far would you go just to win? Camara knows.  THE BRIDE WORE COVERALLS http://t.co/EC1zF7A9sy #romance #inspy'\n",
      "tokens:  ['how', 'far', 'would', 'you', 'go', 'just', 'to', 'win', 'camara', 'knows', 'the', 'bride', 'wore', 'coveralls', 'httptcoec1zf7a9sy', 'romance', 'inspy']\n"
     ]
    }
   ],
   "source": [
    "import string\n",
    "import re\n",
    "regex = '[' + string.punctuation + ']'\n",
    "\n",
    "print('tweet: \\'' + train_x[10] + '\\'')\n",
    "tokens = re.sub(regex, '', train_x[10].lower()).split()\n",
    "print('tokens: ', tokens)"
   ]
  },
  {
   "attachments": {},
   "cell_type": "markdown",
   "metadata": {
    "id": "H4eDTr_OkWUQ"
   },
   "source": [
    "- We can get the embedding vectors for the tokens present in the embedding vocabulary as follows: "
   ]
  },
  {
   "cell_type": "code",
   "execution_count": 33,
   "metadata": {
    "colab": {
     "base_uri": "https://localhost:8080/"
    },
    "id": "WxgUgjVmkW61",
    "outputId": "cb4ce83a-56ea-4476-b05b-c1e80077102e"
   },
   "outputs": [
    {
     "data": {
      "text/plain": [
       "[array([ 0.64701  ,  0.5312   , -0.0078546, -0.071865 , -0.082129 ,\n",
       "         0.19578  ,  0.60697  ,  0.15674  , -0.18384  ,  0.32266  ,\n",
       "        -0.45473  , -0.1498   , -5.9364   , -0.038524 , -0.51622  ,\n",
       "        -0.15505  ,  0.30731  , -0.1075   , -0.027648 , -0.15019  ,\n",
       "         0.24011  ,  0.062382 ,  0.01971  ,  0.43034  , -0.64724  ,\n",
       "         0.69602  ,  0.21668  ,  0.94504  ,  0.55007  , -0.70276  ,\n",
       "        -0.26765  ,  0.21751  ,  0.078689 , -0.099982 ,  0.15332  ,\n",
       "         0.6531   , -0.13582  , -0.1255   ,  0.19782  , -0.25022  ,\n",
       "        -0.81886  ,  0.031122 ,  0.4074   ,  0.33895  , -0.04893  ,\n",
       "        -0.61486  ,  0.19442  ,  0.23139  , -0.62797  ,  0.09617  ],\n",
       "       dtype=float32),\n",
       " array([-1.1555e-01,  8.0672e-02,  5.4176e-01,  1.1941e-01,  6.2539e-01,\n",
       "         2.8505e-01,  3.7021e-01, -8.9570e-02, -1.6809e-01,  8.7743e-01,\n",
       "         7.4071e-01,  7.3998e-03, -4.2690e+00, -3.6531e-02,  4.1056e-01,\n",
       "         4.5672e-01,  5.3678e-01,  1.2631e-01, -1.0842e+00, -3.2499e-01,\n",
       "         7.0538e-01, -3.6783e-01, -1.1666e-01,  4.3276e-01, -7.1373e-01,\n",
       "         8.0050e-01,  5.6626e-02, -4.0357e-01, -5.8431e-04,  6.7871e-01,\n",
       "         6.0443e-01,  1.0111e-02,  3.1668e-01,  8.4742e-01,  6.6772e-01,\n",
       "         3.8208e-01, -1.5981e-02, -1.7961e-01, -7.4509e-01,  2.1462e-01,\n",
       "        -8.4808e-01,  4.7304e-01,  1.2560e-01,  7.2487e-01, -1.2810e-01,\n",
       "         4.2770e-01,  1.3096e-01,  4.2831e-01, -9.1187e-01,  1.7231e-01],\n",
       "       dtype=float32),\n",
       " array([ 0.14066 ,  0.54839 , -0.13823 , -0.306   , -0.19615 , -0.4622  ,\n",
       "         0.60884 ,  0.28875 ,  0.15373 ,  0.13565 ,  0.2953  , -0.049011,\n",
       "        -6.4458  , -0.36716 ,  0.24909 ,  0.37923 , -0.17308 , -0.14793 ,\n",
       "        -0.18036 , -0.10008 ,  0.81997 , -0.099977,  0.3643  ,  0.52715 ,\n",
       "         0.14039 ,  0.70558 ,  0.14379 ,  0.19598 ,  0.59839 , -0.079502,\n",
       "         0.36928 ,  0.67512 ,  0.20051 ,  0.038831,  0.23183 ,  0.29856 ,\n",
       "         0.16354 , -0.23946 ,  0.23169 ,  0.44968 , -0.16774 , -0.51554 ,\n",
       "         0.21124 , -0.12392 ,  0.42304 , -0.90637 ,  0.49759 , -0.13877 ,\n",
       "        -0.50944 , -0.38225 ], dtype=float32),\n",
       " array([ 5.1028e-02,  4.8649e-01, -1.8347e-01,  3.3075e-01, -4.7007e-01,\n",
       "        -6.9412e-02,  1.1310e+00,  3.1791e-01, -1.2472e-01,  8.2891e-01,\n",
       "        -3.5092e-01,  5.1084e-02, -6.4007e+00, -8.0443e-01, -8.5157e-01,\n",
       "         2.3292e-01, -8.7020e-02, -4.2304e-01, -2.6702e-01, -3.6750e-03,\n",
       "         4.6597e-01,  1.3554e-01,  1.0425e-01,  9.5240e-01, -4.8529e-02,\n",
       "         2.4545e-01,  3.8401e-01,  2.2835e-03,  1.1910e+00, -3.0374e-01,\n",
       "        -4.4441e-01,  8.2608e-02,  2.3851e-01,  3.3268e-01,  1.3270e-01,\n",
       "         3.8742e-01,  5.4447e-01,  2.1171e-01, -8.3061e-02,  2.9740e-01,\n",
       "        -1.0858e+00, -3.6229e-01,  4.3826e-01,  3.0009e-01, -7.4377e-02,\n",
       "        -3.8753e-01, -2.2611e-01,  7.1517e-02,  1.3473e-01, -7.3800e-02],\n",
       "       dtype=float32),\n",
       " array([ 2.4387e-01,  3.0939e-01, -2.9007e-01, -1.1714e+00, -4.8835e-01,\n",
       "         1.1776e-01,  9.7649e-01,  7.9575e-01,  3.9612e-01,  6.0363e-01,\n",
       "        -6.4767e-01,  2.1209e-01, -5.0972e+00, -9.0024e-02, -3.4261e-01,\n",
       "         1.4745e-01, -4.1930e-01, -4.9334e-01, -1.1347e+00,  8.2897e-02,\n",
       "         8.4393e-01, -3.7186e-01,  1.7456e-01,  2.4901e-01, -3.9147e-02,\n",
       "        -2.7481e-01,  4.8970e-01,  4.0799e-01,  1.5954e-01,  2.3703e-03,\n",
       "         4.6678e-01,  6.9833e-02, -8.9975e-02,  3.6239e-01,  4.5494e-01,\n",
       "         3.4693e-01,  4.1986e-01, -2.9346e-01,  1.2455e-01,  9.4642e-01,\n",
       "        -1.0428e+00,  2.3425e-01,  1.6340e-01, -1.1958e-01,  6.7760e-01,\n",
       "        -7.4737e-02, -1.3058e-01,  9.1369e-02,  5.3186e-01,  5.4946e-01],\n",
       "       dtype=float32),\n",
       " array([ 0.077466,  0.37777 ,  0.15687 , -0.62588 , -0.37877 , -0.064803,\n",
       "         1.1835  , -0.2792  ,  0.18926 ,  0.63101 , -0.067147,  0.2154  ,\n",
       "        -6.0919  , -0.39643 , -0.157   ,  0.11413 , -0.016951, -0.19114 ,\n",
       "        -0.47173 , -0.38113 ,  0.22579 ,  0.065481,  0.017598,  0.21145 ,\n",
       "        -0.25918 ,  0.50324 , -0.36343 ,  0.020465,  0.17715 , -0.15082 ,\n",
       "        -0.45393 ,  0.82496 , -0.16942 , -0.088195, -0.032152,  0.6279  ,\n",
       "        -0.10838 , -0.15715 ,  0.19058 ,  0.55799 , -0.73498 ,  0.012601,\n",
       "         0.028875,  0.12355 ,  0.19908 , -0.56146 ,  0.34219 , -0.38022 ,\n",
       "        -0.60381 , -0.50429 ], dtype=float32),\n",
       " array([ 0.54964 ,  0.032752,  0.19354 , -0.51119 , -0.39483 , -0.17643 ,\n",
       "         0.49603 , -0.089685,  0.27531 , -1.0332  , -0.80488 , -0.57278 ,\n",
       "        -6.2888  , -0.15977 ,  0.21716 , -0.19869 , -0.27966 , -0.14035 ,\n",
       "        -0.58645 , -0.75832 ,  0.4009  ,  0.35394 , -0.27532 ,  0.37569 ,\n",
       "        -0.34936 , -0.28569 ,  0.49475 ,  0.79527 ,  0.84019 ,  0.29181 ,\n",
       "         1.0009  ,  0.36752 , -0.12441 , -0.22999 ,  0.37812 ,  0.2078  ,\n",
       "         0.28736 , -0.16952 , -0.88277 , -0.15059 , -1.8376  ,  0.71666 ,\n",
       "         0.22428 , -0.35486 ,  0.21687 , -0.26787 , -0.81521 ,  0.21378 ,\n",
       "         0.23067 ,  0.20011 ], dtype=float32),\n",
       " array([ 0.27909 , -0.080085,  0.42076 , -0.50392 , -0.14865 ,  0.056785,\n",
       "         0.61157 ,  0.61344 , -0.00696 ,  0.29137 ,  0.74572 ,  0.86503 ,\n",
       "        -4.4132  ,  0.31804 ,  0.44536 ,  0.63216 ,  0.65618 ,  0.36828 ,\n",
       "        -0.076244,  1.0633  ,  0.23318 , -0.51508 ,  0.64402 , -0.064618,\n",
       "         0.051362,  0.88141 ,  0.49434 ,  0.06196 ,  0.072257, -0.081041,\n",
       "         1.0441  ,  0.18953 ,  0.30617 ,  0.41353 ,  1.6973  , -0.090959,\n",
       "         0.38731 , -0.49059 , -0.73273 ,  0.95211 , -1.3323  , -0.4692  ,\n",
       "         0.068154,  0.32568 ,  1.0761  , -0.85114 , -0.57505 , -1.031   ,\n",
       "         0.58949 ,  0.20122 ], dtype=float32),\n",
       " array([-0.88786  ,  0.4909   ,  0.24968  ,  0.024643 ,  0.25976  ,\n",
       "        -0.21354  , -0.30037  ,  0.1351   ,  0.49378  , -0.37156  ,\n",
       "         0.30698  ,  0.2907   , -0.24429  , -0.21813  ,  0.64612  ,\n",
       "        -0.45288  ,  0.29319  ,  0.34843  ,  0.33227  ,  0.35954  ,\n",
       "        -1.402    , -0.99688  ,  0.97975  ,  0.0040937, -0.94519  ,\n",
       "        -1.9371   , -0.35402  ,  0.23214  , -0.83954  , -0.34906  ,\n",
       "        -0.5105   , -0.072478 , -0.39975  , -0.75563  ,  0.10124  ,\n",
       "         0.49554  ,  0.69478  ,  0.3708   , -0.72792  ,  0.49337  ,\n",
       "        -0.33266  ,  0.43615  , -0.52471  ,  0.10123  , -0.1014   ,\n",
       "        -0.80131  ,  0.066036 ,  0.74662  ,  0.057419 , -0.79045  ],\n",
       "       dtype=float32),\n",
       " array([ 0.038813,  0.20207 ,  0.18636 ,  0.19227 , -0.35571 ,  0.45746 ,\n",
       "         0.82476 ,  0.14126 ,  0.16773 ,  0.33237 , -0.31927 ,  0.167   ,\n",
       "        -4.5528  , -0.52904 , -0.092697,  0.24765 ,  0.027838,  0.23533 ,\n",
       "         0.68079 , -0.4261  ,  0.97685 ,  0.49355 ,  0.20142 ,  0.82882 ,\n",
       "         0.13511 ,  0.82236 ,  0.48355 , -0.082572,  0.23355 , -0.82204 ,\n",
       "        -0.51019 ,  0.0344  , -0.045164, -0.21065 , -0.23247 ,  1.0306  ,\n",
       "         0.12797 ,  0.13313 ,  0.44051 , -0.35756 ,  0.12134 ,  0.4818  ,\n",
       "         0.08575 ,  0.18492 , -0.41584 , -0.36668 ,  0.89004 , -0.64696 ,\n",
       "        -0.2725  , -0.13396 ], dtype=float32),\n",
       " array([ 2.5320e-01, -1.4884e-02,  5.9371e-01,  1.5902e-01,  1.2754e-01,\n",
       "         2.2428e-01,  8.9421e-01,  3.6396e-01, -3.1339e-01, -5.1857e-01,\n",
       "         2.9637e-01, -4.1098e-02, -6.4555e+00,  3.2260e-01,  3.7280e-01,\n",
       "        -6.1690e-01,  4.6744e-01,  5.0600e-01,  3.1950e-02,  1.0155e-01,\n",
       "        -1.9615e-01,  1.3364e-01, -2.7140e-01, -4.1728e-01,  7.7940e-03,\n",
       "         1.3573e-01, -7.2992e-02,  2.5208e-01,  5.1148e-01,  1.5120e-01,\n",
       "         8.4398e-02, -2.4791e-01, -1.5913e-01,  1.5005e-01,  7.7243e-01,\n",
       "         3.6632e-01, -9.8310e-02, -6.4317e-02, -7.1983e-04, -1.5231e-01,\n",
       "        -1.4604e+00, -3.1696e-01, -4.1762e-01,  7.3363e-02,  3.2043e-01,\n",
       "         3.4324e-01,  1.0895e-02, -2.8932e-01,  4.5493e-01,  1.8659e-01],\n",
       "       dtype=float32),\n",
       " array([-1.4134  ,  0.24316 ,  0.47279 ,  0.64182 , -0.22054 , -1.3635  ,\n",
       "         1.1364  ,  0.16609 ,  0.077535, -0.50012 , -0.80905 , -0.39644 ,\n",
       "        -2.3211  ,  0.69924 , -0.14758 ,  0.64336 , -0.70796 ,  0.096227,\n",
       "        -0.12062 ,  0.87291 , -0.7666  , -0.44058 , -0.26142 ,  0.20957 ,\n",
       "         0.66264 ,  0.7611  , -0.99679 ,  0.27731 ,  0.26721 , -0.93102 ,\n",
       "         1.0904  , -0.39053 ,  0.10897 , -0.81205 , -0.01718 ,  0.32113 ,\n",
       "         0.24725 ,  0.30824 ,  0.038375, -1.8444  ,  0.27935 , -0.19519 ,\n",
       "         0.19719 ,  1.0458  ,  0.50214 ,  0.19431 ,  0.23541 , -0.0667  ,\n",
       "        -0.18581 ,  0.12479 ], dtype=float32),\n",
       " array([-0.95723  , -0.72402  ,  1.455    ,  0.058699 , -0.62891  ,\n",
       "        -0.57482  ,  0.87111  ,  0.34769  ,  0.2868   ,  0.26358  ,\n",
       "         0.03748  ,  0.89425  , -2.9944   ,  1.4345   , -0.65273  ,\n",
       "         0.29801  , -0.81615  , -1.1184   , -0.36527  , -0.22465  ,\n",
       "         0.59835  ,  0.39469  ,  0.5951   , -1.1091   , -0.051497 ,\n",
       "         0.95325  , -0.31119  ,  0.26535  , -0.013572 , -0.63102  ,\n",
       "         0.13283  ,  1.3409   ,  0.67044  , -1.3664   ,  0.42833  ,\n",
       "        -0.049987 , -1.1093   ,  0.42362  ,  0.26166  ,  0.27467  ,\n",
       "         0.68297  , -0.0088327,  0.016895 , -0.34036  , -0.31643  ,\n",
       "        -0.76477  ,  1.094    , -0.60798  , -0.88295  , -0.64076  ],\n",
       "       dtype=float32),\n",
       " array([-0.75593 , -0.75211 , -0.5469  ,  0.81309 , -0.17132 , -0.55701 ,\n",
       "        -0.3322  , -0.36536 ,  0.78797 , -0.49699 , -0.03903 ,  0.34614 ,\n",
       "         0.018313, -0.18274 ,  0.59151 , -0.5961  , -0.14133 ,  0.093187,\n",
       "        -0.37491 ,  0.35162 , -0.3743  ,  0.46595 , -0.014906, -0.80827 ,\n",
       "         0.077501,  0.90838 ,  0.047754,  0.73858 , -0.28248 ,  0.29083 ,\n",
       "         0.9382  , -0.13225 ,  0.867   , -1.2071  , -0.39823 , -1.6715  ,\n",
       "        -0.48    ,  1.3235  ,  0.66517 ,  0.14073 ,  1.74    ,  0.15824 ,\n",
       "        -0.082563, -0.17013 , -0.089692, -0.18729 ,  0.68556 , -0.6248  ,\n",
       "        -0.17671 , -0.15351 ], dtype=float32),\n",
       " array([-0.67897 , -0.46847 , -0.30871 ,  1.2184  ,  0.39919 ,  0.13476 ,\n",
       "         1.493   , -0.82269 ,  0.32384 , -0.51215 , -0.097377, -0.33054 ,\n",
       "        -2.5518  ,  0.024878, -0.054852, -0.51728 , -0.43463 ,  0.63147 ,\n",
       "         0.36931 ,  0.84793 , -0.08987 ,  0.73775 , -0.41848 , -0.33923 ,\n",
       "         0.52254 , -0.59457 , -0.41125 ,  0.55295 ,  0.15145 , -0.43596 ,\n",
       "         0.50323 , -0.58974 ,  0.039801,  0.28698 , -0.62776 , -0.60016 ,\n",
       "        -0.035969, -0.85021 , -0.30222 , -1.1335  , -1.158   , -0.54074 ,\n",
       "         0.66357 ,  0.044048,  0.39172 ,  0.66553 , -0.51754 ,  0.075542,\n",
       "        -0.82338 , -0.69407 ], dtype=float32)]"
      ]
     },
     "execution_count": 33,
     "metadata": {},
     "output_type": "execute_result"
    }
   ],
   "source": [
    "model = model_twitter\n",
    "embeddings = [model.get_vector(token) for token in tokens if token in model]\n",
    "embeddings"
   ]
  },
  {
   "attachments": {},
   "cell_type": "markdown",
   "metadata": {
    "id": "p58DUnpNXenf"
   },
   "source": [
    "- the sum of the embeddings in the tweet is:"
   ]
  },
  {
   "cell_type": "code",
   "execution_count": 34,
   "metadata": {
    "colab": {
     "base_uri": "https://localhost:8080/"
    },
    "id": "N0uuM4q7sid9",
    "outputId": "dc62cc34-3917-448f-a836-8250779d54df"
   },
   "outputs": [
    {
     "data": {
      "text/plain": [
       "array([-2.5281630e+00,  1.2632250e+00,  2.7952354e+00,  3.6784703e-01,\n",
       "       -2.1235492e+00, -2.0098400e+00,  1.0571520e+01,  1.6801851e+00,\n",
       "        2.3550749e+00,  8.5402006e-01, -1.1675138e+00,  1.5094247e+00,\n",
       "       -6.4044571e+01, -2.3521001e-02,  1.1734093e-01,  6.1473000e-01,\n",
       "       -7.8734291e-01, -2.1646589e-01, -3.2748318e+00,  1.3106121e+00,\n",
       "        2.6815104e+00,  5.0716221e-02,  1.7425221e+00,  1.4827857e+00,\n",
       "       -1.4565362e+00,  4.3208499e+00,  3.0152798e-01,  4.2612567e+00,\n",
       "        3.6161106e+00, -3.0720429e+00,  4.0478678e+00,  2.3795838e+00,\n",
       "        1.8389211e+00, -2.3381159e+00,  3.7101378e+00,  2.7047739e+00,\n",
       "        8.8878024e-01,  2.0118302e-01, -1.3241557e+00,  4.3841052e-01,\n",
       "       -7.9955597e+00,  1.3511038e-01,  1.6057210e+00,  2.1536510e+00,\n",
       "        2.6322110e+00, -4.1532369e+00,  1.8826110e+00, -1.9272220e+00,\n",
       "       -2.9953411e+00, -1.8424399e+00], dtype=float32)"
      ]
     },
     "execution_count": 34,
     "metadata": {},
     "output_type": "execute_result"
    }
   ],
   "source": [
    "sum(embeddings)"
   ]
  },
  {
   "attachments": {},
   "cell_type": "markdown",
   "metadata": {
    "id": "VpiF8tQCkZe5"
   },
   "source": [
    "- and the average of the embeddings is just:"
   ]
  },
  {
   "cell_type": "code",
   "execution_count": 35,
   "metadata": {
    "colab": {
     "base_uri": "https://localhost:8080/"
    },
    "id": "ld2gtl6ukZty",
    "outputId": "9df1c4ff-6541-41ba-c0c3-18e5838f49f9"
   },
   "outputs": [
    {
     "data": {
      "text/plain": [
       "array([-1.68544203e-01,  8.42150003e-02,  1.86349019e-01,  2.45231353e-02,\n",
       "       -1.41569942e-01, -1.33989334e-01,  7.04768002e-01,  1.12012342e-01,\n",
       "        1.57004997e-01,  5.69346696e-02, -7.78342560e-02,  1.00628309e-01,\n",
       "       -4.26963806e+00, -1.56806665e-03,  7.82272872e-03,  4.09820005e-02,\n",
       "       -5.24895266e-02, -1.44310594e-02, -2.18322113e-01,  8.73741359e-02,\n",
       "        1.78767368e-01,  3.38108139e-03,  1.16168141e-01,  9.88523811e-02,\n",
       "       -9.71024111e-02,  2.88056672e-01,  2.01018658e-02,  2.84083784e-01,\n",
       "        2.41074041e-01, -2.04802856e-01,  2.69857854e-01,  1.58638924e-01,\n",
       "        1.22594737e-01, -1.55874401e-01,  2.47342527e-01,  1.80318266e-01,\n",
       "        5.92520162e-02,  1.34122018e-02, -8.82770494e-02,  2.92273685e-02,\n",
       "       -5.33037305e-01,  9.00735892e-03,  1.07048064e-01,  1.43576726e-01,\n",
       "        1.75480738e-01, -2.76882470e-01,  1.25507399e-01, -1.28481463e-01,\n",
       "       -1.99689403e-01, -1.22829325e-01], dtype=float32)"
      ]
     },
     "execution_count": 35,
     "metadata": {},
     "output_type": "execute_result"
    }
   ],
   "source": [
    "import numpy as np\n",
    "\n",
    "np.mean(embeddings, axis=0)"
   ]
  },
  {
   "attachments": {},
   "cell_type": "markdown",
   "metadata": {
    "id": "nCvTji3wlpGH"
   },
   "source": [
    "We will need to perform this vector transformation for all tweets in the training and also the test sets\n",
    "- We can define a procedure to do that for us"
   ]
  },
  {
   "cell_type": "code",
   "execution_count": 36,
   "metadata": {
    "id": "uopuAE26d7gH"
   },
   "outputs": [],
   "source": [
    "import numpy as np\n",
    "\n",
    "def vectorize(docs, embedding_model=model_twitter, useSum=True):\n",
    "    vectors = np.zeros((len(docs),50))\n",
    "    for i in range(len(docs)):\n",
    "        tokens = re.sub(regex, '', docs[i].lower()).split()\n",
    "        embeddings = [embedding_model.get_vector(token) for token in tokens if token in embedding_model]\n",
    "        if (len(embeddings) > 0):\n",
    "            if (useSum): \n",
    "                vectors[i] = sum(embeddings)\n",
    "            else:\n",
    "                vectors[i] = np.mean(embeddings, axis=0)\n",
    "    return vectors"
   ]
  },
  {
   "attachments": {},
   "cell_type": "markdown",
   "metadata": {
    "id": "2WoMOcuFYcbM"
   },
   "source": [
    "Let's now vectorize the training set\n",
    "- and then print out one of the instances to check that the format is correct:"
   ]
  },
  {
   "cell_type": "code",
   "execution_count": 37,
   "metadata": {
    "colab": {
     "base_uri": "https://localhost:8080/"
    },
    "id": "iviol4QhenZx",
    "outputId": "62caa147-06ec-44df-9765-849def30094c"
   },
   "outputs": [
    {
     "data": {
      "text/plain": [
       "array([[ 7.68022203e+00,  6.30665827e+00,  7.41286755e+00,\n",
       "        -2.19986963e+00, -1.30156291e+00,  5.30365372e+00,\n",
       "         1.74550190e+01, -1.67653096e+00,  7.80895352e-03,\n",
       "         7.45379984e-01,  2.91121960e+00, -5.02202034e+00,\n",
       "        -1.11467690e+02,  3.55526257e+00,  5.02595067e-01,\n",
       "        -6.28016174e-01,  2.33254981e+00, -2.09919190e+00,\n",
       "        -1.06658583e+01, -5.76160717e+00,  1.88032970e-01,\n",
       "         3.10074902e+00,  1.34774518e+00,  4.45021439e+00,\n",
       "        -1.18659294e+00,  7.04120588e+00,  4.31992769e+00,\n",
       "        -3.60148978e+00,  2.57880911e-02,  6.31226420e-01,\n",
       "        -1.85729706e+00,  3.08667159e+00,  8.60740915e-02,\n",
       "        -6.42464495e+00,  7.62866068e+00,  8.62643063e-01,\n",
       "        -5.78947210e+00,  5.74623680e+00,  4.87512016e+00,\n",
       "        -2.20534176e-01, -1.55894470e+01,  4.02340317e+00,\n",
       "         2.43456388e+00, -1.56037104e+00,  3.64234471e+00,\n",
       "        -5.66194201e+00,  8.27260494e+00, -3.75350893e-01,\n",
       "        -4.33146238e+00,  3.71116710e+00],\n",
       "       [ 2.18847990e+00,  7.91438997e-01,  1.82679296e+00,\n",
       "        -3.37599993e-01, -6.57900035e-01, -5.89478016e-01,\n",
       "         3.27234983e+00, -5.41206956e-01, -7.39730000e-02,\n",
       "         1.05197001e+00, -9.76037502e-01, -1.00725996e+00,\n",
       "        -1.84991989e+01,  2.57480025e-01, -8.79379988e-01,\n",
       "         2.19870901e+00,  3.91300321e-02, -1.05941951e-01,\n",
       "        -1.13059014e-01, -1.52736998e+00, -1.34663987e+00,\n",
       "         1.57474005e+00,  8.74570012e-01,  1.43358994e+00,\n",
       "         5.50926030e-01,  5.33910155e-01,  1.07410002e+00,\n",
       "        -6.00740016e-01,  1.32092094e+00,  3.16889882e-02,\n",
       "         1.62616992e+00, -3.90454024e-01, -1.27295005e+00,\n",
       "        -1.93010283e+00,  8.88320029e-01,  1.45609999e+00,\n",
       "        -5.85776985e-01,  2.33177960e-01, -2.71599984e+00,\n",
       "        -7.66445756e-01, -5.21520996e+00,  8.85200024e-01,\n",
       "         1.54294610e+00, -4.66403008e-01, -1.32963002e+00,\n",
       "        -1.18365693e+00, -1.39962006e+00,  6.26673222e-01,\n",
       "         1.30580992e-01,  9.77070093e-01],\n",
       "       [ 4.54872084e+00, -1.50244936e-01, -5.11738491e+00,\n",
       "        -4.29291344e+00,  2.42720008e+00, -1.93300486e+00,\n",
       "         8.19830990e+00, -2.42876720e+00, -1.91778469e+00,\n",
       "        -3.06462431e+00,  2.10912895e+00, -1.19422996e+00,\n",
       "        -5.24244957e+01,  3.23743033e+00, -3.95050192e+00,\n",
       "        -5.78929067e-01,  5.35236955e-01, -1.00559998e+00,\n",
       "        -9.04350340e-01, -1.70447111e+00, -3.77717543e+00,\n",
       "        -1.74260104e+00, -1.39759004e+00, -3.29643035e+00,\n",
       "        -5.74483585e+00,  1.54603541e+00,  2.59090781e+00,\n",
       "        -3.95436478e+00,  5.12314892e+00,  8.25218141e-01,\n",
       "        -3.90835476e+00,  4.76836026e-01,  1.11676002e+00,\n",
       "         2.20066214e+00,  8.06686020e+00,  1.62650800e+00,\n",
       "        -2.77918875e-01,  1.16063297e+00, -2.57599092e+00,\n",
       "         2.74497986e+00, -1.43055563e+01, -3.36942005e+00,\n",
       "         8.10026884e-01,  2.39579701e+00,  1.38190997e+00,\n",
       "        -2.46235538e+00, -2.20227909e+00, -4.07380962e+00,\n",
       "        -3.84278703e+00, -1.08115107e-01]])"
      ]
     },
     "execution_count": 37,
     "metadata": {},
     "output_type": "execute_result"
    }
   ],
   "source": [
    "train_x_vector = vectorize(train_x)\n",
    "train_x_vector[:3]"
   ]
  },
  {
   "attachments": {},
   "cell_type": "markdown",
   "metadata": {
    "id": "z39a21KpdBHb"
   },
   "source": [
    "Now that we have the vectorized training data, we can go ahead and train the model!"
   ]
  },
  {
   "cell_type": "code",
   "execution_count": 38,
   "metadata": {
    "colab": {
     "base_uri": "https://localhost:8080/"
    },
    "id": "qCuF581vdBcp",
    "outputId": "77f825ae-e130-4ed7-b097-df26146aec34"
   },
   "outputs": [
    {
     "name": "stdout",
     "output_type": "stream",
     "text": [
      "LogisticRegression(max_iter=1000)\n"
     ]
    }
   ],
   "source": [
    "from sklearn.linear_model import LogisticRegression\n",
    "\n",
    "lr_model = LogisticRegression(max_iter=1000).fit(train_x_vector, train_y)\n",
    "print(lr_model)"
   ]
  },
  {
   "attachments": {},
   "cell_type": "markdown",
   "metadata": {
    "id": "yAQhGdw_Yyi1"
   },
   "source": [
    "Let's test the model on the example tweets from the second tutorial:"
   ]
  },
  {
   "cell_type": "code",
   "execution_count": 39,
   "metadata": {
    "colab": {
     "base_uri": "https://localhost:8080/"
    },
    "id": "OTb8hjCNkBf-",
    "outputId": "af1c43db-6aef-4a22-be77-71677674618c"
   },
   "outputs": [
    {
     "name": "stdout",
     "output_type": "stream",
     "text": [
      "tweet:      I can't believe how much fun I'm having learning to train a text classifier using word embeddings!\n",
      "prediction: negative\n",
      "confidence: [0.54387608 0.45612392]\n",
      "\n",
      "tweet:      I am really confused. I want my mommy.\n",
      "prediction: negative\n",
      "confidence: [0.86704758 0.13295242]\n",
      "\n",
      "tweet:      The internet connection has been pretty annoying today!\n",
      "prediction: negative\n",
      "confidence: [0.8217698 0.1782302]\n",
      "\n",
      "tweet:      They just played my favourite song on the radio.\n",
      "prediction: positive\n",
      "confidence: [0.40650085 0.59349915]\n",
      "\n",
      "tweet:      I don't like going to the dentist.\n",
      "prediction: negative\n",
      "confidence: [0.86583842 0.13416158]\n",
      "\n",
      "tweet:      Can't wait for my three hour math class tomorrow morning. Yay!\n",
      "prediction: negative\n",
      "confidence: [0.62187216 0.37812784]\n",
      "\n"
     ]
    }
   ],
   "source": [
    "tweets = []\n",
    "tweets.append('I can\\'t believe how much fun I\\'m having learning to train a text classifier using word embeddings!')\n",
    "tweets.append('I am really confused. I want my mommy.')\n",
    "tweets.append('The internet connection has been pretty annoying today!')\n",
    "tweets.append('They just played my favourite song on the radio.')\n",
    "tweets.append(\"I don't like going to the dentist.\")\n",
    "tweets.append(\"Can't wait for my three hour math class tomorrow morning. Yay!\")\n",
    "\n",
    "\n",
    "transformed_tweets = vectorize(tweets)\n",
    "predictions = lr_model.predict(transformed_tweets)\n",
    "predicted_probabilities = lr_model.predict_proba(transformed_tweets)\n",
    "\n",
    "for i in range(len(tweets)):\n",
    "  print(f'tweet:      {tweets[i]}')\n",
    "  print(f'prediction: {predictions[i]}')\n",
    "  print(f'confidence: {predicted_probabilities[i]}')\n",
    "  print()"
   ]
  },
  {
   "attachments": {},
   "cell_type": "markdown",
   "metadata": {
    "id": "FLBJOO8cbVHP"
   },
   "source": [
    "We can have a look at the coefficients of the logistic regression classification model. \n",
    "- How many should there be?"
   ]
  },
  {
   "cell_type": "code",
   "execution_count": 40,
   "metadata": {
    "colab": {
     "base_uri": "https://localhost:8080/"
    },
    "id": "bPtPzQuLomrR",
    "outputId": "d5b16839-4f94-4df0-cc5e-0fb268010dfa"
   },
   "outputs": [
    {
     "data": {
      "text/plain": [
       "array([[-0.01826382, -0.0412414 ,  0.03131702, -0.02869345,  0.22213383,\n",
       "         0.24552838,  0.05318542, -0.09907076, -0.0895903 ,  0.04062036,\n",
       "        -0.12837484,  0.27185123,  0.01826296, -0.00677648, -0.17000123,\n",
       "         0.04766694, -0.02432145,  0.0200364 ,  0.16698202,  0.04363391,\n",
       "         0.01600606, -0.08773791, -0.08590581, -0.05778009,  0.06123476,\n",
       "         0.03550929,  0.09113461, -0.04467023,  0.19641987,  0.07727073,\n",
       "         0.11924797,  0.10824181, -0.0277754 ,  0.02301741,  0.10913385,\n",
       "         0.16157056,  0.13869422,  0.08635697,  0.00161727, -0.01785514,\n",
       "        -0.03612048, -0.04275258,  0.04923452,  0.14430995, -0.02535367,\n",
       "         0.07762449, -0.02860652, -0.01799116,  0.02804754, -0.02445595]])"
      ]
     },
     "execution_count": 40,
     "metadata": {},
     "output_type": "execute_result"
    }
   ],
   "source": [
    "lr_model.coef_"
   ]
  },
  {
   "attachments": {},
   "cell_type": "markdown",
   "metadata": {
    "id": "Eso1pS5Ybevo"
   },
   "source": [
    "Let's vectorize the validaton data and see how well the embeddings-based classifier performs on it:"
   ]
  },
  {
   "cell_type": "code",
   "execution_count": 41,
   "metadata": {
    "colab": {
     "base_uri": "https://localhost:8080/",
     "height": 316
    },
    "id": "DncyqQpinGHG",
    "outputId": "f94d299d-05d8-4462-83d8-c31aeb527708"
   },
   "outputs": [
    {
     "name": "stdout",
     "output_type": "stream",
     "text": [
      "Accuracy: 0.72875\n"
     ]
    },
    {
     "data": {
      "image/png": "[encoded data removed]",
      "text/plain": [
       "<Figure size 640x480 with 2 Axes>"
      ]
     },
     "metadata": {},
     "output_type": "display_data"
    }
   ],
   "source": [
    "valid_x_vector = vectorize(valid_x)\n",
    "pred_y = lr_model.predict(valid_x_vector)\n",
    "\n",
    "from sklearn.metrics import accuracy_score\n",
    "\n",
    "print(f'Accuracy: {accuracy_score(valid_y, pred_y)}')\n",
    "\n",
    "import matplotlib.pyplot as plt  \n",
    "from sklearn.metrics import ConfusionMatrixDisplay\n",
    "\n",
    "ConfusionMatrixDisplay.from_estimator(lr_model, valid_x_vector, valid_y, values_format='d')  \n",
    "plt.show() "
   ]
  },
  {
   "attachments": {},
   "cell_type": "markdown",
   "metadata": {
    "id": "7z23krami3W0"
   },
   "source": [
    "So pretty much the same accuracy as the bag-of-words based classifier. \n",
    "- but this time with feature vectors of size 50\n",
    "- what happens to the accuracy if we: \n",
    "  - use a different embedding: model_wiki instead of model_twitter\n",
    "  - use a bigger (higher dimensional) embedding: download a larger one to see\n",
    "  - use the average rather than the sum to generate the feature vector?\n",
    "- try it out:"
   ]
  },
  {
   "cell_type": "code",
   "execution_count": 42,
   "metadata": {
    "id": "Ojy2UOofkQsE"
   },
   "outputs": [],
   "source": [
    "# TODO"
   ]
  },
  {
   "cell_type": "code",
   "execution_count": 43,
   "metadata": {},
   "outputs": [
    {
     "name": "stdout",
     "output_type": "stream",
     "text": [
      "Accuracy: 0.670625\n"
     ]
    },
    {
     "data": {
      "image/png": "[encoded data removed]",
      "text/plain": [
       "<Figure size 640x480 with 2 Axes>"
      ]
     },
     "metadata": {},
     "output_type": "display_data"
    }
   ],
   "source": [
    "# Vecorise\n",
    "train_x_vector = vectorize(train_x, embedding_model=model_wiki)\n",
    "# Fit model\n",
    "lr_model = LogisticRegression(max_iter=1000).fit(train_x_vector, train_y)\n",
    "# Evaluate results\n",
    "valid_x_vector = vectorize(valid_x, embedding_model=model_wiki)\n",
    "pred_y = lr_model.predict(valid_x_vector)\n",
    "\n",
    "print(f'Accuracy: {accuracy_score(valid_y, pred_y)}')\n",
    "\n",
    "ConfusionMatrixDisplay.from_estimator(lr_model, valid_x_vector, valid_y, values_format='d')  \n",
    "plt.show() "
   ]
  },
  {
   "cell_type": "code",
   "execution_count": 44,
   "metadata": {},
   "outputs": [
    {
     "name": "stdout",
     "output_type": "stream",
     "text": [
      "Accuracy: 0.663125\n"
     ]
    },
    {
     "data": {
      "image/png": "[encoded data removed]",
      "text/plain": [
       "<Figure size 640x480 with 2 Axes>"
      ]
     },
     "metadata": {},
     "output_type": "display_data"
    }
   ],
   "source": [
    "# Vecorise\n",
    "train_x_vector = vectorize(train_x, embedding_model=model_wiki, useSum=False)\n",
    "# Fit model\n",
    "lr_model = LogisticRegression(max_iter=1000).fit(train_x_vector, train_y)\n",
    "# Evaluate results\n",
    "valid_x_vector = vectorize(valid_x, embedding_model=model_wiki, useSum=False)\n",
    "pred_y = lr_model.predict(valid_x_vector)\n",
    "\n",
    "print(f'Accuracy: {accuracy_score(valid_y, pred_y)}')\n",
    "\n",
    "ConfusionMatrixDisplay.from_estimator(lr_model, valid_x_vector, valid_y, values_format='d')  \n",
    "plt.show() "
   ]
  },
  {
   "cell_type": "code",
   "execution_count": 45,
   "metadata": {},
   "outputs": [
    {
     "name": "stdout",
     "output_type": "stream",
     "text": [
      "Accuracy: 0.72875\n"
     ]
    },
    {
     "data": {
      "image/png": "[encoded data removed]",
      "text/plain": [
       "<Figure size 640x480 with 2 Axes>"
      ]
     },
     "metadata": {},
     "output_type": "display_data"
    }
   ],
   "source": [
    "# Vecorise\n",
    "train_x_vector = vectorize(train_x, useSum=False)\n",
    "# Fit model\n",
    "lr_model = LogisticRegression(max_iter=1000).fit(train_x_vector, train_y)\n",
    "# Evaluate results\n",
    "valid_x_vector = vectorize(valid_x, useSum=False)\n",
    "pred_y = lr_model.predict(valid_x_vector)\n",
    "\n",
    "print(f'Accuracy: {accuracy_score(valid_y, pred_y)}')\n",
    "\n",
    "ConfusionMatrixDisplay.from_estimator(lr_model, valid_x_vector, valid_y, values_format='d')  \n",
    "plt.show() "
   ]
  },
  {
   "cell_type": "code",
   "execution_count": null,
   "metadata": {},
   "outputs": [],
   "source": []
  },
  {
   "attachments": {},
   "cell_type": "markdown",
   "metadata": {
    "id": "NvWLcBqGkTFO"
   },
   "source": [
    "Also worth trying is doc2vec rather than word2vec embeddings:\n",
    "- in theory they should give slightly better performance on sentence classification tasks\n",
    "- see here: https://radimrehurek.com/gensim/auto_examples/tutorials/run_doc2vec_lee.html"
   ]
  },
  {
   "attachments": {},
   "cell_type": "markdown",
   "metadata": {
    "id": "kIvbxdRpYHlO"
   },
   "source": [
    "## Other uses for Word2Vec embeddings\n",
    "\n",
    "Have a look at this inventive post that learns Word2Vec embeddings for automobiles described in CSV file:\n",
    "- https://towardsdatascience.com/a-beginners-guide-to-word-embedding-with-gensim-word2vec-model-5970fa56cc92\n",
    "- The embeddings allow for similarity computations across  the vehicles. \n"
   ]
  },
  {
   "cell_type": "code",
   "execution_count": 46,
   "metadata": {
    "id": "_YWk4FnIYHlO"
   },
   "outputs": [],
   "source": [
    "# TODO"
   ]
  },
  {
   "attachments": {},
   "cell_type": "markdown",
   "metadata": {
    "id": "6PifwcbdWqKz"
   },
   "source": [
    "## FastText (sub-word) embeddings\n",
    "\n",
    "Try training a fasttext model:\n",
    "\n",
    "https://pypi.org/project/fasttext/\n",
    "\n",
    "You can have a look at the API and documentation at this [link](https://fasttext.cc)."
   ]
  },
  {
   "attachments": {},
   "cell_type": "markdown",
   "metadata": {
    "id": "jJn_r-pPHxim"
   },
   "source": [
    "Let's start by installing the fastText package.\n",
    "(Note that, alterantively, Genism has a specific API for fastText that wraps the package we are going to use)"
   ]
  },
  {
   "cell_type": "code",
   "execution_count": 47,
   "metadata": {
    "colab": {
     "base_uri": "https://localhost:8080/"
    },
    "id": "52qmtcvvKmXD",
    "outputId": "a5628731-8bd8-40b6-8fe1-c450d758a10e"
   },
   "outputs": [],
   "source": [
    "#!pip install fasttext"
   ]
  },
  {
   "attachments": {},
   "cell_type": "markdown",
   "metadata": {
    "id": "x62UPMmPwTZN"
   },
   "source": [
    "Now that we have installed the package, we can download one of the pre-trained models (you can find here the list of available models)"
   ]
  },
  {
   "cell_type": "code",
   "execution_count": 48,
   "metadata": {
    "colab": {
     "base_uri": "https://localhost:8080/"
    },
    "id": "w332B-YpwTjV",
    "outputId": "33a320c6-0d1f-4cb8-9013-8b7aab86a28e"
   },
   "outputs": [
    {
     "name": "stdout",
     "output_type": "stream",
     "text": [
      "--2023-05-20 13:19:14--  http://dl.fbaipublicfiles.com/fasttext/vectors-crawl/cc.en.300.bin.gz\n",
      "Resolving dl.fbaipublicfiles.com (dl.fbaipublicfiles.com)... 2600:9000:2246:8a00:13:6e38:acc0:93a1, 2600:9000:2246:da00:13:6e38:acc0:93a1, 2600:9000:2246:b800:13:6e38:acc0:93a1, ...\n",
      "Connecting to dl.fbaipublicfiles.com (dl.fbaipublicfiles.com)|2600:9000:2246:8a00:13:6e38:acc0:93a1|:80... connected.\n",
      "HTTP request sent, awaiting response... 200 OK\n",
      "Length: 4503593528 (4,2G) [application/octet-stream]\n",
      "Saving to: ‘cc.en.300.bin.gz’\n",
      "\n",
      "cc.en.300.bin.gz    100%[===================>]   4,19G  49,7MB/s    in 89s     \n",
      "\n",
      "2023-05-20 13:20:42 (48,4 MB/s) - ‘cc.en.300.bin.gz’ saved [4503593528/4503593528]\n",
      "\n"
     ]
    }
   ],
   "source": [
    "# !wget https://dl.fbaipublicfiles.com/fasttext/vectors-wiki/wiki.en.zip\n",
    "!wget http://dl.fbaipublicfiles.com/fasttext/vectors-crawl/cc.en.300.bin.gz\n",
    "!gzip -d cc.en.300.bin.gz"
   ]
  },
  {
   "attachments": {},
   "cell_type": "markdown",
   "metadata": {
    "id": "1tDcLNT9fKUl"
   },
   "source": [
    "Finally we can create a model istance:"
   ]
  },
  {
   "cell_type": "code",
   "execution_count": 49,
   "metadata": {
    "colab": {
     "base_uri": "https://localhost:8080/",
     "height": 215
    },
    "id": "JrDxcw89fKgr",
    "outputId": "46916348-000c-4a4c-cba1-8020b896f577"
   },
   "outputs": [],
   "source": [
    "import fasttext\n",
    "\n",
    "ft_model = fasttext.load_model('./cc.en.300.bin')"
   ]
  },
  {
   "attachments": {},
   "cell_type": "markdown",
   "metadata": {
    "id": "pnpPQ0j3mUiE"
   },
   "source": [
    "What is the size of the vocabulary?"
   ]
  },
  {
   "cell_type": "code",
   "execution_count": 50,
   "metadata": {
    "colab": {
     "base_uri": "https://localhost:8080/"
    },
    "id": "uhqskdAimTLa",
    "outputId": "6919fb11-3813-47d3-b84e-4d80119ed183"
   },
   "outputs": [
    {
     "data": {
      "text/plain": [
       "2000000"
      ]
     },
     "execution_count": 50,
     "metadata": {},
     "output_type": "execute_result"
    }
   ],
   "source": [
    "len(ft_model.get_words())"
   ]
  },
  {
   "attachments": {},
   "cell_type": "markdown",
   "metadata": {
    "id": "19fBomf5mVDU"
   },
   "source": [
    "What is the size of the embeddings?"
   ]
  },
  {
   "cell_type": "code",
   "execution_count": 51,
   "metadata": {
    "colab": {
     "base_uri": "https://localhost:8080/"
    },
    "id": "JK9X-b5XmTic",
    "outputId": "f60c01af-8f6c-4165-85d6-b709bd87ca56"
   },
   "outputs": [
    {
     "data": {
      "text/plain": [
       "300"
      ]
     },
     "execution_count": 51,
     "metadata": {},
     "output_type": "execute_result"
    }
   ],
   "source": [
    "ft_model.get_dimension()"
   ]
  },
  {
   "attachments": {},
   "cell_type": "markdown",
   "metadata": {},
   "source": [
    "How do we get the embedding of a word?"
   ]
  },
  {
   "cell_type": "code",
   "execution_count": 52,
   "metadata": {},
   "outputs": [
    {
     "data": {
      "text/plain": [
       "array([ 1.37498349e-01,  1.73652887e-01,  1.55173652e-02,  2.37601340e-01,\n",
       "       -2.04669774e-01,  1.87128603e-01,  2.91468382e-01,  3.73304449e-03,\n",
       "        4.89513204e-02,  2.60247648e-01, -8.31757560e-02, -1.56491295e-01,\n",
       "        8.69184956e-02, -4.78181392e-02, -1.18615523e-01,  1.54884279e-01,\n",
       "       -1.69153258e-01, -1.22394666e-01, -1.40723094e-01,  4.53762040e-02,\n",
       "       -3.81604545e-02, -1.46799475e-01,  1.36863321e-01, -1.50539711e-01,\n",
       "       -1.81618929e-02,  1.47275031e-02, -4.21417244e-02,  1.39445990e-01,\n",
       "        4.28556725e-02,  3.05333138e-01, -1.66591443e-02,  2.91614503e-01,\n",
       "       -3.32667604e-02, -4.68752086e-02,  2.67606732e-02,  8.71477500e-02,\n",
       "       -5.38966954e-02,  1.33774459e-01,  8.50976482e-02, -6.40801638e-02,\n",
       "       -1.03779674e-01, -1.81272849e-01, -1.10902652e-01,  1.66989714e-01,\n",
       "       -1.99763715e-01,  4.53899801e-03, -1.89182535e-02, -2.78699417e-02,\n",
       "       -2.93243110e-01, -5.81464916e-03,  1.75295904e-01,  1.08659819e-01,\n",
       "       -1.88145787e-02,  2.53145359e-02,  9.95914787e-02, -3.12647223e-02,\n",
       "        9.74955484e-02, -1.57494023e-01, -1.64722189e-01, -6.87088072e-02,\n",
       "        9.10460949e-05,  1.59804896e-02,  1.10373735e-01,  6.10446706e-02,\n",
       "        1.07483588e-01, -1.33552194e-01, -7.02596456e-02,  1.16452649e-01,\n",
       "        1.18472248e-01,  6.14816248e-02, -8.17625001e-02,  4.12990153e-03,\n",
       "        1.23452470e-02,  1.57015212e-02,  3.73466015e-02, -1.09414756e-02,\n",
       "       -8.77702013e-02,  2.94106871e-01, -1.09256595e-01, -7.45082274e-02,\n",
       "       -2.63583213e-01, -2.84229126e-02, -1.52215466e-01, -1.00488283e-01,\n",
       "        4.63331118e-02, -6.50667697e-02, -7.57237226e-02,  1.46466196e-02,\n",
       "       -3.01163793e-02, -6.27530664e-02,  7.32356012e-02, -3.39862436e-01,\n",
       "       -2.12151855e-02,  1.20418519e-01,  1.95152871e-02,  1.46374375e-01,\n",
       "        4.19964790e-02,  2.27189422e-01, -4.76691127e-02,  5.83246611e-02,\n",
       "       -1.18166231e-01,  1.94506012e-02,  1.29298002e-01, -8.22782367e-02,\n",
       "       -1.82408914e-01,  1.22837633e-01, -4.33400944e-02, -7.62889758e-02,\n",
       "       -1.49289474e-01,  1.32627741e-01,  2.07074419e-01, -2.40204573e-01,\n",
       "       -3.01707983e-02,  1.00110896e-01,  1.09480068e-01,  1.78128794e-01,\n",
       "        5.19588068e-02, -1.18714668e-01, -6.70131519e-02,  2.07650527e-01,\n",
       "       -3.13496441e-02,  2.84634590e-01, -8.52486044e-02, -2.01036707e-02,\n",
       "       -1.93305723e-02, -2.07597405e-01, -1.20448753e-01,  1.40477762e-01,\n",
       "        1.05674461e-01,  3.88197601e-03,  6.56490326e-02, -2.37631038e-01,\n",
       "       -3.56610008e-02, -8.02731290e-02, -2.24592313e-02, -1.23117693e-01,\n",
       "        1.51049644e-01,  2.43693039e-01,  1.88642144e-01,  3.11025791e-03,\n",
       "       -1.42823428e-01,  7.86538571e-02,  6.08236715e-03, -1.67422846e-01,\n",
       "       -8.55229050e-02,  7.95976892e-02, -3.45605433e-01,  5.82623780e-02,\n",
       "       -1.06225297e-01, -1.78768754e-01, -4.63169813e-02, -7.22998232e-02,\n",
       "        6.99614957e-02, -1.17765516e-02, -1.15494572e-01, -5.82705364e-02,\n",
       "        1.16676003e-01,  5.70290461e-02, -7.90311471e-02,  8.35967138e-02,\n",
       "        8.16148371e-02, -1.73566580e-01,  2.34466106e-01,  3.13998163e-02,\n",
       "       -2.83091217e-02, -3.13015580e-02,  1.57410666e-01, -1.23833120e-02,\n",
       "       -6.04008958e-02,  1.00380607e-01,  1.09081395e-01,  5.35128973e-02,\n",
       "       -1.12907238e-01, -2.18785390e-01, -2.26536058e-02, -2.15117663e-01,\n",
       "       -1.11640386e-01, -3.89714614e-02,  8.59435648e-02, -1.97914347e-01,\n",
       "       -4.17543389e-02, -1.15136296e-01,  4.49582487e-02, -1.30544692e-01,\n",
       "       -6.05523065e-02,  3.08122993e-01, -4.84386310e-02, -5.04352376e-02,\n",
       "        5.67938611e-02,  1.03469603e-01,  3.77609134e-02,  1.75252743e-03,\n",
       "        2.36129127e-02,  1.28008991e-01, -9.24589187e-02, -1.44171059e-01,\n",
       "        3.02452624e-01, -1.20941728e-01,  2.55626217e-02, -4.43983078e-02,\n",
       "        1.31773561e-01,  5.05378768e-02,  4.99319136e-02, -4.53851558e-02,\n",
       "       -1.25326589e-01,  1.03378303e-01,  9.02659371e-02,  8.87431204e-03,\n",
       "        1.90032590e-02,  6.09402731e-02,  8.95207599e-02, -9.70865861e-02,\n",
       "       -9.47063640e-02,  2.91972943e-02, -1.52865816e-02, -1.61617801e-01,\n",
       "        3.19432677e-03, -6.58987164e-02,  6.43858016e-02, -2.62204409e-02,\n",
       "        7.66740441e-02, -3.07367295e-02, -1.66517615e-01, -4.53550480e-02,\n",
       "        1.12862349e-01,  2.02228762e-02, -6.31066635e-02, -2.73563862e-01,\n",
       "       -8.24580714e-02, -7.55187646e-02,  2.45882347e-01,  7.84016699e-02,\n",
       "       -7.31700063e-02, -5.58071174e-02, -2.08459049e-02,  1.32113360e-02,\n",
       "       -1.15614533e-01, -1.28816754e-01, -7.76782110e-02,  1.39297172e-02,\n",
       "        7.68901408e-02,  3.53115499e-02, -7.35836700e-02, -1.48101956e-01,\n",
       "        1.57499254e-01,  2.79525697e-01, -7.00949654e-02, -1.30779624e-01,\n",
       "       -6.56079650e-02, -3.89638245e-02,  2.90693641e-02,  2.53306665e-02,\n",
       "       -1.87344216e-02,  8.13647956e-02,  1.52117580e-01,  5.24173714e-02,\n",
       "       -2.27155939e-01,  3.56054865e-02,  1.05434768e-02, -6.52607605e-02,\n",
       "        9.73352417e-02, -6.46137819e-02, -2.53503621e-02,  1.22090224e-02,\n",
       "       -1.39826387e-01, -7.75838494e-02, -2.07123429e-01, -7.15182126e-02,\n",
       "        8.69591534e-03,  1.41621977e-02, -1.93011254e-01,  2.27474242e-01,\n",
       "       -1.15029059e-01,  4.09493409e-02, -8.25189203e-02, -7.64346272e-02,\n",
       "       -9.39211100e-02,  4.57039848e-02,  2.61136368e-02, -3.34188640e-02,\n",
       "        4.32544090e-02, -1.03707597e-01, -1.41373813e-01, -1.44344121e-01,\n",
       "        1.59042463e-01,  9.89959389e-03,  2.83480138e-02, -2.38574252e-01,\n",
       "       -2.76446074e-01, -8.09888542e-02, -4.18215282e-02,  1.75330192e-02,\n",
       "       -1.65929049e-01,  1.04931220e-01, -1.10928323e-02,  9.20476243e-02,\n",
       "        6.67028055e-02,  2.07736552e-01,  8.53124261e-02, -1.40121192e-01],\n",
       "      dtype=float32)"
      ]
     },
     "execution_count": 52,
     "metadata": {},
     "output_type": "execute_result"
    }
   ],
   "source": [
    "ft_model.get_word_vector('car')"
   ]
  },
  {
   "attachments": {},
   "cell_type": "markdown",
   "metadata": {},
   "source": [
    "Alterantively you can use it as a Python dictionary"
   ]
  },
  {
   "cell_type": "code",
   "execution_count": 53,
   "metadata": {},
   "outputs": [
    {
     "data": {
      "text/plain": [
       "array([ 2.05102742e-01, -1.17439777e-01, -1.55425537e-02,  1.79349303e-01,\n",
       "       -2.28049219e-01, -1.24558017e-01,  1.23250902e-01,  5.38473055e-02,\n",
       "        4.11795303e-02, -5.67295495e-03, -8.39752406e-02,  1.84653439e-02,\n",
       "       -8.60689804e-02,  1.12930965e-02, -1.33117482e-01,  1.38373390e-01,\n",
       "       -1.25412792e-01, -3.86665910e-02, -1.22192718e-01,  1.07491598e-01,\n",
       "        7.44868889e-02,  1.43000856e-01, -2.68281717e-02,  7.85946473e-03,\n",
       "       -3.62306088e-02, -2.08035931e-02,  9.95780062e-03, -5.96441068e-02,\n",
       "        3.78727615e-02,  1.31439894e-01, -6.71993792e-02,  6.71701431e-02,\n",
       "        1.11701377e-01, -1.82819627e-02, -1.02341630e-01,  9.74911451e-03,\n",
       "        4.25241441e-02, -1.59083098e-01,  3.72390151e-02, -1.32961005e-01,\n",
       "       -6.62351400e-02,  1.17778786e-01, -3.11643854e-02, -4.58469465e-02,\n",
       "       -1.54904723e-01,  2.37882137e-03,  2.09096503e-02, -6.17710687e-03,\n",
       "       -2.41204053e-01,  8.73834118e-02,  6.91391528e-02,  1.11958645e-01,\n",
       "       -1.52415112e-02, -1.00177675e-01, -6.60216436e-02,  7.77632892e-02,\n",
       "        9.00297761e-02,  3.69252376e-02, -2.52914429e-02,  2.36923918e-02,\n",
       "       -1.53724262e-02,  3.27921212e-02, -1.39887005e-01,  1.09796673e-02,\n",
       "        7.74039626e-02, -7.29498342e-02,  3.66372019e-02,  6.94629326e-02,\n",
       "       -4.31373864e-02,  3.86431366e-02, -2.37832926e-02, -2.62797046e-02,\n",
       "       -8.52299929e-02, -1.24506094e-03, -1.66640848e-01, -7.69969672e-02,\n",
       "        1.00765273e-01,  3.93868051e-03,  1.25144869e-02,  1.72688425e-01,\n",
       "       -4.70201746e-02, -7.07887039e-02,  2.69618072e-02,  8.90153423e-02,\n",
       "       -8.63350183e-02,  5.59332669e-02,  6.88511878e-02, -1.81689560e-02,\n",
       "        1.49315774e-01, -2.06480175e-03, -4.99112904e-02,  9.12162587e-02,\n",
       "        6.12079501e-02,  3.40343006e-02, -1.59623727e-01,  9.91314650e-03,\n",
       "        1.47123680e-01,  7.51622468e-02,  1.25847980e-01,  7.28560686e-02,\n",
       "       -1.20911151e-01,  1.33074015e-01, -2.40076296e-02, -8.61709863e-02,\n",
       "       -1.79991545e-03,  3.91840525e-02, -3.06748301e-02, -1.10395163e-01,\n",
       "       -1.44113809e-01,  3.47533152e-02,  1.26442760e-01,  1.51098520e-01,\n",
       "       -1.47495106e-01,  9.89220962e-02,  1.07589796e-01,  9.38937441e-02,\n",
       "       -1.53009564e-01, -1.30068827e-02, -1.14716075e-01, -1.30422384e-01,\n",
       "        1.86000764e-02,  5.32120466e-05, -2.31985860e-02, -1.07203282e-01,\n",
       "       -3.31636667e-02,  4.47869375e-02,  2.25304645e-02,  1.85147613e-01,\n",
       "        5.13294712e-03, -1.23191781e-01,  8.12826157e-02, -8.51961747e-02,\n",
       "       -9.72918421e-02, -1.90278441e-02, -6.44630939e-02, -1.08691052e-01,\n",
       "        2.70893425e-02,  1.02976874e-01,  1.80976331e-01, -1.63971558e-02,\n",
       "       -7.17620775e-02, -7.96736404e-02, -9.61826518e-02, -1.91508874e-01,\n",
       "        2.70473287e-02,  1.24248281e-01, -3.49661916e-01, -1.33518144e-01,\n",
       "       -2.82961894e-02, -9.26014706e-02, -4.25025821e-04, -2.86594480e-02,\n",
       "       -3.91338617e-02, -9.90596265e-02, -4.65282984e-02, -8.72748494e-02,\n",
       "        1.51935905e-01, -1.91162080e-02,  9.13072601e-02,  1.89611129e-02,\n",
       "       -1.08969875e-01, -2.90214196e-02,  8.61809775e-02, -2.18289584e-01,\n",
       "       -1.40584171e-01, -2.89806034e-02,  8.69408399e-02,  1.18448846e-02,\n",
       "        9.80549902e-02,  5.18676490e-02, -3.34505178e-03,  8.01285952e-02,\n",
       "        6.87225088e-02,  1.70012593e-01,  3.26067172e-02,  1.63739957e-02,\n",
       "        3.87846790e-02, -1.26889497e-02, -3.26282345e-02,  9.15853605e-02,\n",
       "        5.58803044e-03,  1.06696427e-01, -4.73687798e-02, -1.07843116e-01,\n",
       "       -8.31641108e-02,  1.36591256e-01,  2.29387909e-01, -2.46172547e-02,\n",
       "        2.01673638e-02, -2.14638207e-02, -1.00305840e-01,  1.96577206e-01,\n",
       "        1.44458741e-01,  9.78642032e-02,  1.25113457e-01, -5.35797067e-02,\n",
       "       -6.95556924e-02, -1.35392934e-01,  3.14381532e-02,  1.78394511e-01,\n",
       "        5.15805036e-02,  3.73208970e-02,  1.08873099e-01,  5.15858382e-02,\n",
       "        3.36884856e-02,  9.44927931e-02,  9.98455137e-02, -5.56635223e-02,\n",
       "       -1.62284330e-01,  2.38388091e-01,  8.31078738e-03, -7.34476894e-02,\n",
       "       -1.08296201e-01,  6.40900210e-02, -1.30532300e-02,  1.64562717e-01,\n",
       "        5.02874181e-02, -1.77713811e-01, -4.69116122e-03, -2.90708076e-02,\n",
       "        1.00689061e-01,  1.28326267e-01, -1.63036004e-01,  1.28823876e-01,\n",
       "       -4.02787179e-02, -1.83677584e-01,  7.98890889e-02, -4.12471667e-02,\n",
       "       -3.48612294e-02, -6.26894534e-02, -1.59047395e-01,  1.87391803e-01,\n",
       "        3.71768177e-02,  2.79565807e-02,  1.63159668e-01,  3.75718437e-02,\n",
       "        7.86873326e-02, -2.44909581e-02, -6.72861934e-02, -3.14295776e-02,\n",
       "        1.51372068e-02, -5.56141920e-02,  4.48027030e-02, -1.93316251e-01,\n",
       "        2.06538424e-01, -8.87603462e-02, -9.88327265e-02,  2.40609385e-02,\n",
       "       -1.47456363e-01,  8.88570175e-02, -9.27246436e-02, -9.50970054e-02,\n",
       "        1.18448839e-01,  3.29303920e-01,  1.54580414e-01,  1.43435687e-01,\n",
       "       -1.28814936e-01,  7.68910497e-02,  3.72115988e-03,  1.75254852e-01,\n",
       "       -8.40665251e-02, -2.76442617e-02, -5.33436462e-02,  7.45012611e-02,\n",
       "       -5.63166961e-02, -9.66539606e-04,  1.13127068e-01,  2.83497237e-02,\n",
       "        5.91475405e-02, -7.03010559e-02, -4.37492207e-02,  5.44570349e-02,\n",
       "       -2.06605077e-01,  3.03150155e-02, -1.34049416e-01, -3.00040841e-02,\n",
       "       -2.13847756e-02,  5.49306124e-02, -1.04515314e-01, -4.16764542e-02,\n",
       "       -5.24726398e-02, -5.46058267e-02, -1.92172214e-01, -2.53393352e-01,\n",
       "        1.28208563e-01, -3.39920893e-02,  5.07736392e-02,  3.05913612e-02,\n",
       "       -9.96698514e-02, -5.63710779e-02,  4.16795760e-02,  8.36478733e-03,\n",
       "       -1.09555885e-01,  4.91313301e-02,  3.91997732e-02,  2.97623277e-02,\n",
       "       -5.84195256e-02,  2.64039308e-01,  1.03534430e-01,  2.85770763e-02],\n",
       "      dtype=float32)"
      ]
     },
     "execution_count": 53,
     "metadata": {},
     "output_type": "execute_result"
    }
   ],
   "source": [
    "ft_model['man']  "
   ]
  },
  {
   "attachments": {},
   "cell_type": "markdown",
   "metadata": {
    "id": "V7cqE-3XfAM9"
   },
   "source": [
    "Now we can test a bit the capabilities of fastText (examples are taken from [here](https://fasttext.cc/docs/en/unsupervised-tutorial.html))."
   ]
  },
  {
   "attachments": {},
   "cell_type": "markdown",
   "metadata": {
    "id": "BdNL7kcTlIzH"
   },
   "source": [
    "A base functionality is to search for close vectors in the embedding space"
   ]
  },
  {
   "cell_type": "code",
   "execution_count": 54,
   "metadata": {
    "id": "85EKLO7FfAXA"
   },
   "outputs": [
    {
     "data": {
      "text/plain": [
       "[(0.7746413350105286, 'aspargus'),\n",
       " (0.7368614077568054, 'Asparagus'),\n",
       " (0.7233701944351196, 'broccoli'),\n",
       " (0.7113494873046875, 'broccolini'),\n",
       " (0.7106742262840271, 'leeks'),\n",
       " (0.7096290588378906, 'artichokes'),\n",
       " (0.7028921842575073, 'asparagas'),\n",
       " (0.6759673953056335, 'kohlrabi'),\n",
       " (0.6757089495658875, 'radishes'),\n",
       " (0.6669561862945557, 'spinach')]"
      ]
     },
     "execution_count": 54,
     "metadata": {},
     "output_type": "execute_result"
    }
   ],
   "source": [
    "word = 'asparagus'\n",
    "\n",
    "ft_model.get_nearest_neighbors(word)"
   ]
  },
  {
   "attachments": {},
   "cell_type": "markdown",
   "metadata": {},
   "source": [
    "The first search takes additional time because the model is doing some sort of indexing in the embedding space. fastText uses a tool called FAISS to speed up the search in the embedding space (https://github.com/facebookresearch/faiss)"
   ]
  },
  {
   "attachments": {},
   "cell_type": "markdown",
   "metadata": {
    "id": "i8t5WUH-fJSQ"
   },
   "source": [
    "We can also solve analogies directly, without doing the computations by hand"
   ]
  },
  {
   "cell_type": "code",
   "execution_count": 55,
   "metadata": {
    "colab": {
     "base_uri": "https://localhost:8080/"
    },
    "id": "pXrLJK8jfJbN",
    "outputId": "8efaf8e4-adf6-46c4-a9cc-aff283c95622"
   },
   "outputs": [
    {
     "data": {
      "text/plain": [
       "[(0.7647636532783508, 'snes'),\n",
       " (0.7282403707504272, 'gamecube'),\n",
       " (0.7111096382141113, 'n64'),\n",
       " (0.6962550282478333, 'gba'),\n",
       " (0.6485379338264465, 'dreamcast'),\n",
       " (0.6467888951301575, 'ps2'),\n",
       " (0.6442886590957642, 'SNES'),\n",
       " (0.6383660435676575, 'zelda'),\n",
       " (0.6379032135009766, 'Snes'),\n",
       " (0.6377424001693726, 'famicom')]"
      ]
     },
     "execution_count": 55,
     "metadata": {},
     "output_type": "execute_result"
    }
   ],
   "source": [
    "# ft_model.get_analogies(\"man\", \"woman\", \"king\")\n",
    "ft_model.get_analogies(\"psx\", \"sony\", \"nintendo\")"
   ]
  },
  {
   "attachments": {},
   "cell_type": "markdown",
   "metadata": {
    "id": "YAEZQAPNmjTv"
   },
   "source": [
    "Note that we are dealing with a model using also subword n-grams, so we can get the representation and the similarity even of out of vocabulary words\n",
    "\n",
    "For example we can search for the word **confuzzling** (which is an actual real fake word https://en.wiktionary.org/wiki/confuzzling):"
   ]
  },
  {
   "cell_type": "code",
   "execution_count": 56,
   "metadata": {
    "colab": {
     "base_uri": "https://localhost:8080/",
     "height": 265
    },
    "id": "WIkjsmJvn-Ce",
    "outputId": "202ebe88-5904-47a6-8e7f-15c227836818"
   },
   "outputs": [
    {
     "name": "stdout",
     "output_type": "stream",
     "text": [
      "Word confuzzling is in the fastText model vocabulary? False\n",
      "0.613641083240509: confuzzled\n",
      "0.550931990146637: Confuzzled\n",
      "0.4055270850658417: confuddled\n",
      "0.3816613256931305: confusing\n",
      "0.36328595876693726: confused\n",
      "0.36032891273498535: nondescriptive\n",
      "0.359388530254364: Wikipedia-Page-Suzannah-B-Troy-6-yrs-after-Misogynist-Cyber-Vandalism-Censorship-via-Deletion-on-a-page-about-Censorship-Wikipedia-Agrees-to-retur\n",
      "0.3525550067424774: muddly\n",
      "0.3524904251098633: official-like\n",
      "0.3516576588153839: unflattering.Coordinating\n"
     ]
    }
   ],
   "source": [
    "word = \"confuzzling\"\n",
    "print(f'Word {word} is in the fastText model vocabulary? {word in ft_model}')\n",
    "for s, w in ft_model.get_nearest_neighbors(word):\n",
    "    print(f'{s}: {w}')"
   ]
  },
  {
   "attachments": {},
   "cell_type": "markdown",
   "metadata": {
    "id": "n2pV3BOHoAn4"
   },
   "source": [
    "This is why character n-grams are so important"
   ]
  },
  {
   "attachments": {},
   "cell_type": "markdown",
   "metadata": {},
   "source": [
    "We can also encode a sentence (sequence of tokens) into a single vector"
   ]
  },
  {
   "cell_type": "code",
   "execution_count": 57,
   "metadata": {},
   "outputs": [
    {
     "data": {
      "text/plain": [
       "array([ 9.72567871e-03, -1.81693081e-02,  1.98467262e-02,  3.74992117e-02,\n",
       "       -3.59138474e-02, -4.57771569e-02, -2.72532683e-02,  1.52418101e-02,\n",
       "        3.52445617e-02, -7.53624178e-03,  9.12996754e-03, -2.10552160e-02,\n",
       "        1.56272377e-03, -9.82039783e-05, -8.77684914e-03,  3.65382321e-02,\n",
       "        3.64734158e-02, -7.05009839e-03, -2.33118087e-02,  6.08711829e-03,\n",
       "       -1.99545734e-02,  1.54522238e-02,  6.07244065e-03, -8.34608357e-03,\n",
       "       -3.15462463e-02, -9.89805069e-03, -5.55238919e-04, -6.88232016e-03,\n",
       "       -1.15120355e-02,  1.13332726e-01,  2.06005611e-02, -1.42829418e-02,\n",
       "       -4.10122750e-03, -1.72664113e-02,  3.63585819e-03, -1.34615647e-02,\n",
       "       -4.80954209e-03,  4.18015793e-02, -8.03579669e-03, -5.55655640e-03,\n",
       "       -3.50303599e-03,  5.23055904e-03, -2.29117647e-02,  2.92630084e-02,\n",
       "        2.04842985e-02,  3.14234160e-02,  2.69671367e-03,  4.90053743e-02,\n",
       "        1.12765245e-02,  4.62619215e-03,  5.81054529e-03, -1.93861313e-02,\n",
       "        2.83782464e-03, -1.67906247e-02, -2.73843724e-02, -1.90940611e-02,\n",
       "       -2.87314001e-02, -2.75015947e-03, -6.57397807e-02, -6.99969940e-03,\n",
       "        1.24857184e-02, -8.20487388e-04, -1.48562761e-02, -2.38044374e-02,\n",
       "       -1.55957444e-02,  6.65766560e-03,  1.01082725e-02, -2.63807271e-02,\n",
       "        5.37982397e-03, -1.97686311e-02, -1.71130747e-02, -1.01001766e-02,\n",
       "       -1.09787043e-02, -1.05317784e-02, -9.84023418e-03, -8.84000864e-03,\n",
       "        2.20294278e-02,  1.01807080e-02, -2.01867130e-02, -1.07014319e-02,\n",
       "       -2.30140449e-03, -1.70639548e-02, -6.14872994e-03,  3.77793796e-02,\n",
       "       -1.51983332e-02,  8.82430526e-04,  1.63081381e-02,  3.15420181e-02,\n",
       "        3.46342996e-02, -2.07642070e-03, -1.01455227e-02, -2.21963469e-02,\n",
       "        1.20085992e-01, -2.47170683e-02, -3.93651379e-03,  1.47843389e-02,\n",
       "       -2.19641663e-02,  3.33386399e-02,  6.30210200e-03, -5.31568774e-04,\n",
       "        9.85516049e-03,  1.57738347e-02,  2.45013870e-02, -5.04032895e-02,\n",
       "       -2.86772917e-03,  3.74312233e-03,  5.90666989e-03, -1.19731538e-02,\n",
       "       -9.51060839e-03,  3.18147354e-02, -4.23025386e-03, -2.50816215e-02,\n",
       "       -4.44951048e-03,  5.48362173e-02, -5.97885251e-03,  3.35490418e-04,\n",
       "        5.40257385e-03,  1.93157159e-02,  9.49823856e-03,  9.22990963e-03,\n",
       "       -6.44654315e-03,  1.84089541e-02,  6.97864406e-03, -9.98760853e-03,\n",
       "        2.60523483e-02,  3.91055793e-02, -1.44942291e-02, -3.06311846e-02,\n",
       "       -1.64818224e-02,  2.83545423e-02,  6.74407184e-03, -3.35399993e-02,\n",
       "        4.63601090e-02,  1.43400459e-02,  1.51103102e-02, -3.57168838e-02,\n",
       "       -7.21709505e-02,  9.89099871e-03,  1.72942702e-04,  1.05020022e-02,\n",
       "       -2.54397653e-02, -2.65723094e-03,  7.78966863e-03,  3.41638178e-03,\n",
       "        2.90719923e-02,  2.88213808e-02, -2.04293147e-01, -7.63232820e-03,\n",
       "        4.07393230e-03,  2.32063141e-03, -5.25560267e-02, -2.20788294e-03,\n",
       "        1.10511016e-02,  3.85448784e-02, -7.09905615e-03, -1.07400753e-02,\n",
       "        6.98973909e-02,  9.88921523e-03,  1.12778405e-02,  6.80889981e-03,\n",
       "       -4.44709882e-03,  1.29796355e-03, -1.72076363e-03, -5.56946965e-03,\n",
       "        5.87231293e-03,  6.33573765e-03,  2.31747981e-02, -7.90966395e-03,\n",
       "        1.42229358e-02,  1.28066996e-02,  6.79592090e-03,  2.46544043e-03,\n",
       "       -1.16840629e-02,  6.73506968e-03,  1.11606503e-02, -2.94231921e-02,\n",
       "       -4.80693625e-03, -3.77772190e-02,  2.07332522e-02, -1.08723072e-02,\n",
       "        1.20459739e-02,  2.76545398e-02, -7.18570314e-03,  2.37664431e-02,\n",
       "        1.52243748e-02,  1.62549820e-02, -5.45680337e-03, -1.56360455e-02,\n",
       "        1.35150431e-02, -1.02946321e-02, -3.60844545e-02, -5.81913395e-03,\n",
       "       -2.99452688e-04, -1.34269800e-02, -1.33235017e-02,  4.67933854e-03,\n",
       "       -5.23591042e-03, -7.61942146e-03,  1.55100925e-02,  4.34672050e-02,\n",
       "       -3.93452123e-02,  7.63231665e-02, -5.74396225e-03, -2.23684981e-02,\n",
       "       -9.29937419e-03,  1.39698514e-03, -2.73167957e-02, -3.16865183e-02,\n",
       "        9.01725609e-03, -1.52197666e-02,  2.87998165e-03, -6.78938907e-03,\n",
       "       -1.75043494e-02,  8.25327064e-04,  5.83430799e-03, -1.03405640e-02,\n",
       "        1.68033578e-02,  1.82143655e-02,  2.17762217e-02, -3.85117112e-03,\n",
       "        1.55988140e-02,  3.93333882e-02, -1.15634808e-02,  1.36978207e-02,\n",
       "       -1.20003102e-02, -3.80420797e-02,  1.70185268e-02, -1.69083364e-02,\n",
       "       -4.47914330e-03,  1.10276509e-03, -6.27888803e-05,  5.13450429e-03,\n",
       "       -2.36676801e-02,  1.75183604e-03, -5.80153009e-03, -4.86875996e-02,\n",
       "       -2.43026740e-03, -5.56256901e-03,  1.50256902e-02, -9.55843367e-03,\n",
       "        2.34674127e-03,  1.41580636e-02, -7.86390621e-03, -7.69271106e-02,\n",
       "        2.54464388e-01, -1.19995847e-02, -3.09936162e-02,  2.66964808e-02,\n",
       "        1.56647675e-02, -5.45657892e-03,  3.70361917e-02, -1.24057243e-03,\n",
       "       -1.31606916e-02, -3.42799649e-02, -3.24210990e-03, -7.40021467e-03,\n",
       "       -3.67991813e-03, -2.00018543e-03,  1.92347188e-02,  9.79715493e-03,\n",
       "        1.03291485e-03,  3.97863425e-02,  1.01542631e-02,  5.11851441e-03,\n",
       "       -1.80702619e-02, -4.18641046e-03,  1.49878440e-02,  5.19764423e-03,\n",
       "        9.14397370e-03, -6.96600154e-02, -7.67690083e-03, -3.66979875e-02,\n",
       "       -2.45904680e-02,  3.70250712e-03,  2.24400274e-02, -2.23757178e-02,\n",
       "        1.79715436e-02, -8.35847482e-03,  5.23335813e-03,  2.31429515e-03,\n",
       "       -1.48976902e-02, -1.14535531e-02, -1.33328527e-01, -2.64611933e-02,\n",
       "        1.99319292e-02, -7.68285769e-04,  9.32648126e-03, -7.84917027e-02,\n",
       "       -1.71542703e-03, -7.22914794e-03,  4.42805514e-02, -8.75132810e-06,\n",
       "       -8.98919031e-02,  9.89831518e-03, -2.02262457e-02, -1.59065821e-03,\n",
       "        2.72551887e-02,  1.09358311e-01, -3.25395651e-02, -3.00224405e-02],\n",
       "      dtype=float32)"
      ]
     },
     "execution_count": 57,
     "metadata": {},
     "output_type": "execute_result"
    }
   ],
   "source": [
    "sent = ft_model.get_sentence_vector(\"Hello, is it me you're looking for? I can see it in your eyes. I can see it in your smile.\")\n",
    "sent"
   ]
  },
  {
   "attachments": {},
   "cell_type": "markdown",
   "metadata": {},
   "source": [
    "(Maybe this can be useful to train a classifier for the twitter sentiment analysis...)"
   ]
  },
  {
   "attachments": {},
   "cell_type": "markdown",
   "metadata": {},
   "source": [
    "What if we want to train a model on our own (maybe with smaller embeddings)?\n",
    "You can find a quick reference to the API [here](https://fasttext.cc/docs/en/python-module.html)\n",
    "\n",
    "To train a model we need to convert the data set into the appropriate format, a text file containing al the samples we have.\n",
    "We can start from the sentences we have from before"
   ]
  },
  {
   "cell_type": "code",
   "execution_count": 58,
   "metadata": {},
   "outputs": [],
   "source": [
    "with open('./data.txt', 'w') as f:\n",
    "    f.write('\\n'.join(sentences))"
   ]
  },
  {
   "attachments": {},
   "cell_type": "markdown",
   "metadata": {},
   "source": [
    "We can even choose whether to use a Skipgram based approach:"
   ]
  },
  {
   "cell_type": "code",
   "execution_count": 59,
   "metadata": {},
   "outputs": [
    {
     "name": "stderr",
     "output_type": "stream",
     "text": [
      "Read 2M words\n",
      "Number of words:  26707\n",
      "Number of labels: 0\n",
      "Progress: 100.0% words/sec/thread:  145565 lr:  0.000000 avg.loss:  2.024292 ETA:   0h 0m 0s\n"
     ]
    }
   ],
   "source": [
    "ft_skip_model = fasttext.train_unsupervised('data.txt', model='skipgram', dim=30, minCount=5, ws=10)"
   ]
  },
  {
   "attachments": {},
   "cell_type": "markdown",
   "metadata": {},
   "source": [
    "Or a Continuos Bag-of-Words (CBoW) approach:"
   ]
  },
  {
   "cell_type": "code",
   "execution_count": 60,
   "metadata": {},
   "outputs": [
    {
     "name": "stderr",
     "output_type": "stream",
     "text": [
      "Read 2M words\n",
      "Number of words:  26707\n",
      "Number of labels: 0\n",
      "Progress: 100.0% words/sec/thread:  253372 lr:  0.000000 avg.loss:  2.184387 ETA:   0h 0m 0s\n"
     ]
    }
   ],
   "source": [
    "ft_cbow_model = fasttext.train_unsupervised('data.txt', model='cbow')"
   ]
  },
  {
   "attachments": {},
   "cell_type": "markdown",
   "metadata": {},
   "source": [
    "Try to do the same visualisation we tried before, see how the same words are placed in a downprojection of the representation space."
   ]
  },
  {
   "cell_type": "code",
   "execution_count": 61,
   "metadata": {},
   "outputs": [],
   "source": [
    "# TODO"
   ]
  },
  {
   "cell_type": "code",
   "execution_count": null,
   "metadata": {},
   "outputs": [],
   "source": []
  }
 ],
 "metadata": {
  "colab": {
   "provenance": []
  },
  "kernelspec": {
   "display_name": "Python 3 (ipykernel)",
   "language": "python",
   "name": "python3"
  },
  "language_info": {
   "codemirror_mode": {
    "name": "ipython",
    "version": 3
   },
   "file_extension": ".py",
   "mimetype": "text/x-python",
   "name": "python",
   "nbconvert_exporter": "python",
   "pygments_lexer": "ipython3",
   "version": "3.10.6"
  }
 },
 "nbformat": 4,
 "nbformat_minor": 4
}
